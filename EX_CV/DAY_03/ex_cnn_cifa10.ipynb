{
 "cells": [
  {
   "cell_type": "markdown",
   "metadata": {},
   "source": [
    "#### CNN 이미지 분류 모델\n",
    "- 이미지 데이터셋 준비\n",
    "    * torchvision의 내장 데이터셋 활용 CIFIA10\n",
    "- 이미지 분류 모델\n",
    "    * 커스텀 CNN 구현"
   ]
  },
  {
   "cell_type": "markdown",
   "metadata": {},
   "source": [
    "[1] 모듈 로딩 및 데이터 준비 <hr>"
   ]
  },
  {
   "cell_type": "code",
   "execution_count": 1,
   "metadata": {},
   "outputs": [],
   "source": [
    "## 모듈로딩\n",
    "import matplotlib.pyplot as plt\n",
    "import torch\n",
    "import torch.nn\n",
    "from torchvision.datasets import CIFAR10       # torchvision 내장 데이터셋 관련 모듈\n",
    "from torchvision.transforms import ToTensor    # torchvision 데이터 변환 관련 모듈\n",
    "from torch.utils.data import DataLoader        # 데이터셋 관련 모듈 로딩"
   ]
  },
  {
   "cell_type": "code",
   "execution_count": 2,
   "metadata": {},
   "outputs": [
    {
     "name": "stdout",
     "output_type": "stream",
     "text": [
      "Files already downloaded and verified\n"
     ]
    }
   ],
   "source": [
    "## 데이터로딩\n",
    "DIR_PATH='../data/'\n",
    "\n",
    "## Pytorch의 Dataset 형태 로딩\n",
    "cifarDS=CIFAR10(DIR_PATH,train=True,download=True,transform=ToTensor())"
   ]
  },
  {
   "cell_type": "code",
   "execution_count": 3,
   "metadata": {},
   "outputs": [
    {
     "name": "stdout",
     "output_type": "stream",
     "text": [
      "classses : ['airplane', 'automobile', 'bird', 'cat', 'deer', 'dog', 'frog', 'horse', 'ship', 'truck']\n",
      "cifarDS.data.shape: (50000, 32, 32, 3)\n",
      "cifarDS.class_to_idx : {'airplane': 0, 'automobile': 1, 'bird': 2, 'cat': 3, 'deer': 4, 'dog': 5, 'frog': 6, 'horse': 7, 'ship': 8, 'truck': 9}\n",
      "len(cifarDS.targets) : 50000\n"
     ]
    }
   ],
   "source": [
    "# Dataset의 속성 확인\n",
    "print(f'classses : {cifarDS.classes}')\n",
    "\n",
    "print(f'cifarDS.data.shape: {cifarDS.data.shape}')\n",
    "\n",
    "print(f'cifarDS.class_to_idx : {cifarDS.class_to_idx}')\n",
    "\n",
    "print(f'len(cifarDS.targets) : {len(cifarDS.targets)}')\n"
   ]
  },
  {
   "cell_type": "markdown",
   "metadata": {},
   "source": [
    "[2] 데이터 로드 <hr>\n",
    "* 학습 시 배치크기만큼 데이터와 라벨/타겟을 로딩"
   ]
  },
  {
   "cell_type": "code",
   "execution_count": 4,
   "metadata": {},
   "outputs": [],
   "source": [
    "BATCH_SIZE = 50\n",
    "\n",
    "cifar10DL=DataLoader(cifarDS)"
   ]
  },
  {
   "cell_type": "code",
   "execution_count": 5,
   "metadata": {},
   "outputs": [
    {
     "name": "stdout",
     "output_type": "stream",
     "text": [
      "tensor([6]) 6\n",
      "torch.Size([1, 3, 32, 32])\n"
     ]
    },
    {
     "data": {
      "image/png": "[encoded data removed]",
      "text/plain": [
       "<Figure size 640x480 with 1 Axes>"
      ]
     },
     "metadata": {},
     "output_type": "display_data"
    }
   ],
   "source": [
    "## [테스트] Dataset & DataLoader\n",
    "for data, target in cifar10DL:\n",
    "    print(target,target.item())\n",
    "    print(data.shape)\n",
    "    data1=data.squeeze()\n",
    "    plt.imshow(data1.transpose(0,2))\n",
    "    plt.title(cifarDS.classes[target.item()])\n",
    "    break\n",
    "# 데이터 로더로 데이터 땡기니까 shape이 바뀜. 채널이 2번째로 옴.\n",
    "# 이 데이터를 가지고 그림을 그릴려고 하니 shape이 안 맞아서 shape을 바꿔줘야함.\n",
    "# 우선 앞에 있는 1을 지우고 3이 채널이니까 맨 뒤로 보내야 함."
   ]
  },
  {
   "cell_type": "markdown",
   "metadata": {},
   "source": [
    "[3] 커스텀 모델 설계 및 정의 <hr>\n",
    "- 모델목적 : 이미지 분류 모델\n",
    "- 학습방법 : 지도학습 > 분류 > 다중분류(10개)\n",
    "- 클래스이름 : ImageMCF\n",
    "- 클래스구조 : 특징추출 부분 => CNN + 학습부분 FC\n",
    "- 부모클래스 : nn.Module"
   ]
  },
  {
   "cell_type": "code",
   "execution_count": 6,
   "metadata": {},
   "outputs": [],
   "source": [
    "import torch.nn as nn\n",
    "import torch.nn.functional as F"
   ]
  },
  {
   "cell_type": "code",
   "execution_count": 7,
   "metadata": {},
   "outputs": [],
   "source": [
    "class ImageMCF(nn.Module):\n",
    "    # 모델 구조 설계 즉, 생산자 메서드\n",
    "    def __init__(self):\n",
    "        # 부모 생성\n",
    "        super().__init__()\n",
    "        # 모델 층 구성\n",
    "        ## 특징 추출 층\n",
    "        self.in_layer = nn.Conv2d(3, 10, 3)\n",
    "        self.in_layer = nn.Conv2d(10, 50, 3)\n",
    "        self.in_layer = nn.Conv2d(50, 10, 3)\n",
    "        self.p_layer = nn.MaxPool2d(2,stride=2)\n",
    "        # 학습 관련 층\n",
    "        self.hd_layer = nn.Linear(10*15*15,50)\n",
    "        self.out_layer = nn.Linear(50,10)\n",
    "\n",
    "\n",
    "    # 전방향/순방향 학습 메서드\n",
    "    def forward(self,input):\n",
    "        output=self.in_layer(input)\n",
    "        print(f'[output 1 ] {output.shape}')\n",
    "\n",
    "        output = F.relu(output)\n",
    "        print(f'[output 2 ] {output.shape}')\n",
    "\n",
    "        output = self.p_layer(output)\n",
    "        print(f'[output 3 ] {output.shape}')\n",
    "\n",
    "        # 4D -> 2D (샘플수, 피쳐수)\n",
    "        output = output.view(output.shape[0],-1)\n",
    "        print(f'[output 4 ] {output.shape}')\n",
    "\n",
    "        output = F.relu(self.hd_layer(output))\n",
    "        print(f'[output 5 ] {output.shape}')\n",
    "\n",
    "        output = self.out_layer(output)\n",
    "        print(f'[output 6 ] {output.shape}')\n",
    "\n",
    "        return output\n",
    "\n"
   ]
  },
  {
   "cell_type": "code",
   "execution_count": 14,
   "metadata": {},
   "outputs": [],
   "source": [
    "class ImageMCF2(nn.Module):\n",
    "    # 모델 구조 설계 즉, 생산자 메서드\n",
    "    def __init__(self):\n",
    "        # 부모 생성\n",
    "        super().__init__()\n",
    "        # 모델 층 구성\n",
    "        ## 특징 추출 층\n",
    "        self.cnn_layer=nn.Sequential(\n",
    "            nn.Conv2d(3, 10, 3),  # 커널은 초반에 많이 주었다가 갈수록 줄임\n",
    "            nn.Conv2d(10, 10, 3), #=> 추가하고 싶은면 해당 값에 계산해서 넣으면 됨.\n",
    "            nn.ReLU(),\n",
    "            nn.MaxPool2d(2,stride=2)\n",
    "        )\n",
    "        self.cnn_layer2=nn.Sequential(\n",
    "            nn.Conv2d(10, 30, 3),\n",
    "            nn.ReLU(),   #  나온 결과 값 : [1,30,13,13]\n",
    "            nn.Conv2d(30, 10, 3),\n",
    "            nn.ReLU(),\n",
    "            nn.Conv2d(10, 30, 3),\n",
    "            nn.ReLU(),\n",
    "            nn.MaxPool2d(2,stride=2)    #  나온 결과 값 : [1,30,6,6]\n",
    "        )\n",
    "        self.cnn_layer3=nn.Sequential(\n",
    "            nn.Conv2d(30, 10, 3,padding=1),\n",
    "            nn.ReLU(),  \n",
    "            nn.Conv2d(10, 30, 3,padding=1),\n",
    "            nn.ReLU(),\n",
    "            nn.Conv2d(30, 10, 3,padding=1),\n",
    "            nn.ReLU(),\n",
    "            nn.AvgPool2d(2,stride=2)   \n",
    "        )\n",
    "        # # 학습 관련 층 \n",
    "        self.hd_layer = nn.Linear(10*6*6,50)\n",
    "        self.out_layer = nn.Linear(50,10)\n",
    "\n",
    "\n",
    "    # 전방향/순방향 학습 메서드\n",
    "    def forward(self,input):\n",
    "        output=self.cnn_layer(input)\n",
    "        print(f'[cnn_layer output ] {output.shape}')\n",
    "\n",
    "        output=self.cnn_layer2(output)\n",
    "        print(f'[cnn_layer2 output ] {output.shape}')\n",
    "\n",
    "        output=self.cnn_layer3(output)\n",
    "        print(f'[cnn_layer3 output ] {output.shape}')\n",
    "\n",
    "\n",
    "\n",
    "        # 4D -> 2D (샘플수, 피쳐수)\n",
    "        output = output.view(output.shape[0],-1)\n",
    "        print(f'[view output] {output.shape}')\n",
    "\n",
    "        output = F.relu(self.hd_layer(output))\n",
    "        print(f'[hd_layer output] {output.shape}')\n",
    "\n",
    "        output = self.out_layer(output)\n",
    "        print(f'[out_layer output] {output.shape}')\n",
    "\n",
    "        return output\n",
    "\n"
   ]
  },
  {
   "cell_type": "code",
   "execution_count": 15,
   "metadata": {},
   "outputs": [],
   "source": [
    "## 모델 인스턴스 생성\n",
    "m = ImageMCF2()"
   ]
  },
  {
   "cell_type": "code",
   "execution_count": 19,
   "metadata": {},
   "outputs": [
    {
     "data": {
      "text/plain": [
       "Linear(in_features=360, out_features=50, bias=True)"
      ]
     },
     "execution_count": 19,
     "metadata": {},
     "output_type": "execute_result"
    }
   ],
   "source": [
    "# 인스턴스 속성 읽기 => 인스턴스변수명.속성명\n",
    "m.hd_layer"
   ]
  },
  {
   "cell_type": "code",
   "execution_count": 25,
   "metadata": {},
   "outputs": [
    {
     "name": "stdout",
     "output_type": "stream",
     "text": [
      "weight\n",
      "Parameter containing:\n",
      "tensor([[-0.1482,  0.0134,  0.1374,  0.1745, -0.1596,  0.0735,  0.1474,  0.0798,\n",
      "          0.2380,  0.2962],\n",
      "        [ 0.1163, -0.2967,  0.1789,  0.2218,  0.2257, -0.3008, -0.0110,  0.2154,\n",
      "          0.0464,  0.2005],\n",
      "        [ 0.0934,  0.0108, -0.0088,  0.1040, -0.0113, -0.2231,  0.1657,  0.1504,\n",
      "         -0.2520,  0.1087],\n",
      "        [-0.0565, -0.2879, -0.2347, -0.0697, -0.2849, -0.1413, -0.0735, -0.0687,\n",
      "         -0.1793, -0.2057],\n",
      "        [-0.1393, -0.1568,  0.2588,  0.1619,  0.0104,  0.0333,  0.2517,  0.2406,\n",
      "         -0.0738,  0.1739],\n",
      "        [ 0.1076, -0.0997,  0.1583,  0.2329,  0.2290,  0.1414,  0.2151,  0.2345,\n",
      "         -0.0679,  0.1743],\n",
      "        [ 0.2138, -0.2406,  0.2249, -0.1626, -0.1049,  0.1711, -0.1851, -0.2290,\n",
      "         -0.2609, -0.0294],\n",
      "        [ 0.0607,  0.0450,  0.0482,  0.3151,  0.1259, -0.1721, -0.2869,  0.3063,\n",
      "         -0.0856,  0.2329],\n",
      "        [-0.0475,  0.0998,  0.2008, -0.1471,  0.2028, -0.0793,  0.1767, -0.1068,\n",
      "          0.0482,  0.0706],\n",
      "        [ 0.0164, -0.2714, -0.1967,  0.0552,  0.2623,  0.1303, -0.0768,  0.1607,\n",
      "         -0.2015,  0.2598],\n",
      "        [-0.0651, -0.0180, -0.2142,  0.1799,  0.2382, -0.2196, -0.2424, -0.1900,\n",
      "          0.0031,  0.1554],\n",
      "        [-0.2756, -0.2483,  0.2360, -0.2146,  0.3149, -0.0683,  0.0397,  0.0105,\n",
      "         -0.0275, -0.2911],\n",
      "        [ 0.2146, -0.0538,  0.1837,  0.1513, -0.0252,  0.2195,  0.0502, -0.0747,\n",
      "         -0.2135,  0.2620],\n",
      "        [-0.2415, -0.1465, -0.0835, -0.1634,  0.1433, -0.0206, -0.1742, -0.1870,\n",
      "          0.3111, -0.1068],\n",
      "        [ 0.1640, -0.0561,  0.1471,  0.2118, -0.1762, -0.2267, -0.0400,  0.1192,\n",
      "         -0.0052, -0.0023],\n",
      "        [ 0.1908, -0.1187, -0.1404,  0.0222,  0.0597, -0.2187, -0.2905,  0.1144,\n",
      "         -0.0144,  0.0237],\n",
      "        [ 0.3039, -0.1069,  0.2221, -0.0775, -0.1659, -0.1972,  0.0451,  0.2376,\n",
      "          0.2780, -0.0743],\n",
      "        [ 0.2616, -0.0969, -0.2581, -0.0317,  0.1917, -0.1683, -0.1681, -0.2775,\n",
      "          0.0141,  0.2448],\n",
      "        [-0.1539,  0.0061, -0.0659, -0.2695, -0.2666, -0.2658,  0.0925, -0.0683,\n",
      "         -0.1569, -0.0471],\n",
      "        [-0.0133, -0.2804, -0.0648, -0.2769, -0.1810, -0.0389,  0.1634, -0.0461,\n",
      "          0.1340, -0.1187],\n",
      "        [-0.1216,  0.2132, -0.1976,  0.2419, -0.1881,  0.2322,  0.3046,  0.2485,\n",
      "          0.2429, -0.1878],\n",
      "        [-0.2624, -0.2795,  0.1580,  0.2108, -0.0710,  0.2426,  0.2055, -0.2822,\n",
      "         -0.0676,  0.0326],\n",
      "        [ 0.1003, -0.3151,  0.1148,  0.0763,  0.2138, -0.0016,  0.0279, -0.1677,\n",
      "          0.2768,  0.2702],\n",
      "        [-0.1347,  0.2766, -0.1460, -0.0126,  0.1511,  0.1807, -0.0428,  0.3090,\n",
      "         -0.1812,  0.1365],\n",
      "        [-0.1394, -0.1630,  0.1418, -0.3063, -0.2690,  0.1162,  0.1919, -0.2772,\n",
      "          0.2963, -0.0761],\n",
      "        [-0.2433, -0.1750, -0.2838, -0.2769, -0.0317, -0.2003,  0.0830, -0.1679,\n",
      "         -0.0683, -0.0505],\n",
      "        [-0.2585, -0.1016, -0.2221,  0.2357, -0.1962, -0.0548,  0.0921, -0.2284,\n",
      "          0.2320, -0.1233],\n",
      "        [ 0.1840, -0.2773,  0.0245,  0.3105,  0.1227, -0.1525, -0.2472,  0.1445,\n",
      "          0.0013, -0.1187],\n",
      "        [ 0.1426, -0.1429, -0.1541, -0.0929,  0.2808, -0.1852, -0.0122,  0.0224,\n",
      "          0.2959,  0.2574],\n",
      "        [ 0.2313, -0.0161, -0.3076, -0.2551, -0.0485, -0.3150,  0.1175, -0.2265,\n",
      "         -0.2847, -0.2390],\n",
      "        [-0.1629, -0.0158, -0.1861,  0.1148, -0.2134, -0.2122,  0.1022,  0.0103,\n",
      "         -0.0013,  0.0603],\n",
      "        [-0.2073,  0.2634, -0.1453, -0.1179,  0.1110, -0.1567,  0.3156, -0.1964,\n",
      "         -0.0620,  0.0170],\n",
      "        [ 0.0836, -0.1673, -0.0643,  0.0811,  0.2185, -0.1920,  0.0717, -0.3039,\n",
      "         -0.0113,  0.2472],\n",
      "        [-0.2610,  0.2982,  0.1449,  0.0754,  0.1125,  0.0841, -0.0609,  0.3148,\n",
      "         -0.2292,  0.3114],\n",
      "        [-0.0658,  0.0580,  0.2360,  0.2157, -0.1362, -0.1381,  0.2433, -0.2336,\n",
      "          0.1695,  0.0467],\n",
      "        [ 0.3015, -0.2636,  0.2312, -0.1860, -0.0028,  0.0424,  0.2573, -0.2127,\n",
      "         -0.2475, -0.3040],\n",
      "        [-0.1682,  0.1850, -0.0085,  0.2623,  0.0233,  0.0505, -0.0923,  0.0580,\n",
      "          0.2834,  0.0616],\n",
      "        [-0.1636,  0.2487,  0.1508, -0.2318, -0.1276,  0.0219, -0.2139,  0.2686,\n",
      "         -0.2284,  0.0468],\n",
      "        [ 0.2818,  0.2218, -0.1251,  0.2584,  0.1078,  0.1090,  0.1568,  0.2245,\n",
      "          0.2564,  0.2839],\n",
      "        [-0.1939, -0.0332, -0.1798,  0.0628,  0.2050,  0.2435,  0.1373, -0.1039,\n",
      "         -0.1739,  0.1702],\n",
      "        [ 0.1211,  0.0189, -0.0957,  0.1744,  0.3061,  0.1008, -0.0124, -0.1911,\n",
      "          0.0802, -0.3136],\n",
      "        [-0.2453,  0.2097, -0.1618, -0.0396,  0.1692, -0.0997, -0.0819,  0.1276,\n",
      "          0.0932, -0.0700],\n",
      "        [ 0.2409, -0.0113, -0.1127,  0.1654, -0.3121, -0.1957, -0.2206,  0.2311,\n",
      "          0.2479, -0.1570],\n",
      "        [-0.0392,  0.1576, -0.1071,  0.0191, -0.2740, -0.2396,  0.1043,  0.0630,\n",
      "         -0.1794, -0.2651],\n",
      "        [ 0.2427, -0.2164,  0.0533,  0.0381,  0.0334,  0.0535,  0.1744,  0.0918,\n",
      "         -0.2660, -0.0833],\n",
      "        [ 0.2134, -0.1137,  0.2765,  0.0706, -0.2174,  0.1075,  0.0280, -0.2743,\n",
      "         -0.1524,  0.2304],\n",
      "        [ 0.0570,  0.0170, -0.3096,  0.0634,  0.1705, -0.1272, -0.0946,  0.2179,\n",
      "          0.2540, -0.2886],\n",
      "        [ 0.1485, -0.2455,  0.1685, -0.0553, -0.1188,  0.1148,  0.0011,  0.0411,\n",
      "         -0.0852,  0.2802],\n",
      "        [ 0.2906,  0.2555, -0.0052,  0.2374,  0.1900,  0.0148, -0.1812, -0.0624,\n",
      "         -0.2528,  0.2655],\n",
      "        [-0.2715, -0.0586, -0.1556,  0.1080,  0.3119,  0.2587, -0.1911,  0.2733,\n",
      "         -0.0193,  0.3023]], requires_grad=True)\n",
      "bias\n",
      "Parameter containing:\n",
      "tensor([ 0.0819,  0.1501, -0.2709, -0.0795, -0.2440, -0.1210, -0.1187, -0.0700,\n",
      "        -0.0484, -0.2044, -0.2203, -0.1014,  0.0429,  0.0315,  0.1794,  0.2589,\n",
      "        -0.1418, -0.0634,  0.2261,  0.2890, -0.0703, -0.1604, -0.0634,  0.0433,\n",
      "         0.2450, -0.1768, -0.0884,  0.2438, -0.2085, -0.0930,  0.1932, -0.1839,\n",
      "         0.1945, -0.2712,  0.1828, -0.1774,  0.1662, -0.1756,  0.1873,  0.0825,\n",
      "         0.0879,  0.2659,  0.2229, -0.1043, -0.1550, -0.1720,  0.2666,  0.0459,\n",
      "         0.1579,  0.1940], requires_grad=True)\n"
     ]
    }
   ],
   "source": [
    "# 인스턴스 속성 변수 => 인스턴스변수명.속성명 = 새로운 값\n",
    "m.out_layer = nn.Linear(10, 50)\n",
    "\n",
    "for name, param in m.out_layer.named_parameters():\n",
    "    print(name, param, sep = '\\n')"
   ]
  },
  {
   "cell_type": "code",
   "execution_count": 10,
   "metadata": {},
   "outputs": [],
   "source": [
    "## 모델 정보 출력 패키지 설치\n",
    "# %pip install torchinfo"
   ]
  },
  {
   "cell_type": "code",
   "execution_count": 11,
   "metadata": {},
   "outputs": [
    {
     "data": {
      "text/plain": [
       "=================================================================\n",
       "Layer (type:depth-idx)                   Param #\n",
       "=================================================================\n",
       "ImageMCF2                                --\n",
       "├─Sequential: 1-1                        --\n",
       "│    └─Conv2d: 2-1                       280\n",
       "│    └─Conv2d: 2-2                       910\n",
       "│    └─ReLU: 2-3                         --\n",
       "│    └─MaxPool2d: 2-4                    --\n",
       "├─Sequential: 1-2                        --\n",
       "│    └─Conv2d: 2-5                       2,730\n",
       "│    └─ReLU: 2-6                         --\n",
       "│    └─Conv2d: 2-7                       2,710\n",
       "│    └─ReLU: 2-8                         --\n",
       "│    └─Conv2d: 2-9                       2,730\n",
       "│    └─ReLU: 2-10                        --\n",
       "│    └─MaxPool2d: 2-11                   --\n",
       "├─Sequential: 1-3                        --\n",
       "│    └─Conv2d: 2-12                      2,710\n",
       "│    └─ReLU: 2-13                        --\n",
       "│    └─Conv2d: 2-14                      2,730\n",
       "│    └─ReLU: 2-15                        --\n",
       "│    └─Conv2d: 2-16                      2,710\n",
       "│    └─ReLU: 2-17                        --\n",
       "│    └─AvgPool2d: 2-18                   --\n",
       "├─Linear: 1-4                            18,050\n",
       "├─Linear: 1-5                            510\n",
       "=================================================================\n",
       "Total params: 36,070\n",
       "Trainable params: 36,070\n",
       "Non-trainable params: 0\n",
       "================================================================="
      ]
     },
     "execution_count": 11,
     "metadata": {},
     "output_type": "execute_result"
    }
   ],
   "source": [
    "from torchinfo import summary\n",
    "summary(m)"
   ]
  },
  {
   "cell_type": "code",
   "execution_count": 12,
   "metadata": {},
   "outputs": [
    {
     "name": "stdout",
     "output_type": "stream",
     "text": [
      "[target] => tensor([6])\n",
      "torch.Size([1, 3, 32, 32])\n",
      "[cnn_layer output ] torch.Size([1, 10, 14, 14])\n",
      "[cnn_layer2 output ] torch.Size([1, 30, 4, 4])\n",
      "[cnn_layer3 output ] torch.Size([1, 10, 2, 2])\n",
      "pre => tensor([[[1, 1],\n",
      "         [8, 8]]])\n"
     ]
    }
   ],
   "source": [
    "## [테스트] Dataset & Dataloader\n",
    "for data, target in cifar10DL:\n",
    "    print(f'[target] => {target}')\n",
    "    print(data.shape)\n",
    "    # 학습 \n",
    "    pre = m(data)\n",
    "    print(f'pre => {pre.argmax(dim=1)}')\n",
    "    break"
   ]
  },
  {
   "cell_type": "markdown",
   "metadata": {},
   "source": []
  },
  {
   "cell_type": "code",
   "execution_count": 13,
   "metadata": {},
   "outputs": [
    {
     "name": "stdout",
     "output_type": "stream",
     "text": [
      ">>[cnn_layer.0.weight]-----------\n",
      "torch.Size([10, 3, 3, 3])\n",
      ">>[cnn_layer.0.bias]-----------\n",
      "torch.Size([10])\n",
      ">>[cnn_layer.1.weight]-----------\n",
      "torch.Size([10, 10, 3, 3])\n",
      ">>[cnn_layer.1.bias]-----------\n",
      "torch.Size([10])\n",
      ">>[cnn_layer2.0.weight]-----------\n",
      "torch.Size([30, 10, 3, 3])\n",
      ">>[cnn_layer2.0.bias]-----------\n",
      "torch.Size([30])\n",
      ">>[cnn_layer2.2.weight]-----------\n",
      "torch.Size([10, 30, 3, 3])\n",
      ">>[cnn_layer2.2.bias]-----------\n",
      "torch.Size([10])\n",
      ">>[cnn_layer2.4.weight]-----------\n",
      "torch.Size([30, 10, 3, 3])\n",
      ">>[cnn_layer2.4.bias]-----------\n",
      "torch.Size([30])\n",
      ">>[cnn_layer3.0.weight]-----------\n",
      "torch.Size([10, 30, 3, 3])\n",
      ">>[cnn_layer3.0.bias]-----------\n",
      "torch.Size([10])\n",
      ">>[cnn_layer3.2.weight]-----------\n",
      "torch.Size([30, 10, 3, 3])\n",
      ">>[cnn_layer3.2.bias]-----------\n",
      "torch.Size([30])\n",
      ">>[cnn_layer3.4.weight]-----------\n",
      "torch.Size([10, 30, 3, 3])\n",
      ">>[cnn_layer3.4.bias]-----------\n",
      "torch.Size([10])\n",
      ">>[hd_layer.weight]-----------\n",
      "torch.Size([50, 360])\n",
      ">>[hd_layer.bias]-----------\n",
      "torch.Size([50])\n",
      ">>[out_layer.weight]-----------\n",
      "torch.Size([10, 50])\n",
      ">>[out_layer.bias]-----------\n",
      "torch.Size([10])\n"
     ]
    }
   ],
   "source": [
    "# 모델 파라미터 확인\n",
    "for name, param in m.named_parameters():\n",
    "    print(f'>>[{name}]-----------\\n{param.shape}')"
   ]
  },
  {
   "cell_type": "code",
   "execution_count": null,
   "metadata": {},
   "outputs": [],
   "source": []
  }
 ],
 "metadata": {
  "kernelspec": {
   "display_name": "TORCH_CV_38",
   "language": "python",
   "name": "python3"
  },
  "language_info": {
   "codemirror_mode": {
    "name": "ipython",
    "version": 3
   },
   "file_extension": ".py",
   "mimetype": "text/x-python",
   "name": "python",
   "nbconvert_exporter": "python",
   "pygments_lexer": "ipython3",
   "version": "3.8.19"
  }
 },
 "nbformat": 4,
 "nbformat_minor": 2
}
