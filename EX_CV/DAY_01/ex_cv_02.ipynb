{
 "cells": [
  {
   "cell_type": "code",
   "execution_count": 106,
   "metadata": {},
   "outputs": [],
   "source": [
    "import cv2\n",
    "import numpy as np"
   ]
  },
  {
   "cell_type": "code",
   "execution_count": 107,
   "metadata": {},
   "outputs": [],
   "source": [
    "# 데이터 관련 변수 설정\n",
    "DIR_PATH = '../image/'"
   ]
  },
  {
   "cell_type": "code",
   "execution_count": 108,
   "metadata": {},
   "outputs": [
    {
     "data": {
      "text/plain": [
       "True"
      ]
     },
     "execution_count": 108,
     "metadata": {},
     "output_type": "execute_result"
    }
   ],
   "source": [
    "# 이미지 객체\n",
    "bg_data = np.full((500, 500, 3), 255)\n",
    "\n",
    "# 이미지 파일 생성\n",
    "BG_FILE = DIR_PATH + 'white_bg.jpg'\n",
    "cv2.imwrite(BG_FILE, bg_data)"
   ]
  },
  {
   "cell_type": "code",
   "execution_count": 109,
   "metadata": {},
   "outputs": [
    {
     "data": {
      "text/plain": [
       "((500, 500, 3), 3)"
      ]
     },
     "execution_count": 109,
     "metadata": {},
     "output_type": "execute_result"
    }
   ],
   "source": [
    "# 도화지 이미지 가져오기\n",
    "white_bg = cv2.imread(BG_FILE)\n",
    "white_bg.shape, white_bg.ndim"
   ]
  },
  {
   "cell_type": "code",
   "execution_count": 110,
   "metadata": {},
   "outputs": [],
   "source": [
    "# 선 그리기 \n",
    "cv2.line(white_bg, (50, 50), (70, 30), (237, 203, 245), 5)\n",
    "cv2.line(white_bg, (70, 30), (90, 50), (237, 203, 245), 5)\n",
    "cv2.line(white_bg, (90, 50), (120, 50), (237, 203, 245), 5)\n",
    "cv2.line(white_bg, (120, 50), (140, 30), (237, 203, 245), 5)\n",
    "cv2.line(white_bg, (140, 30), (160, 50), (237, 203, 245), 5)\n",
    "cv2.line(white_bg, (50, 70), (30, 75), (237, 203, 245), 5)\n",
    "cv2.line(white_bg, (30, 75), (50, 80), (237, 203, 245), 5)\n",
    "cv2.line(white_bg, (50, 80), (30, 85), (237, 203, 245), 5)\n",
    "cv2.line(white_bg, (30, 85), (50, 90), (237, 203, 245), 5)\n",
    "cv2.line(white_bg, (50, 90), (30, 95), (237, 203, 245), 5)\n",
    "cv2.line(white_bg, (30, 95), (50, 100), (237, 203, 245), 5)\n",
    "cv2.line(white_bg, (160, 70), (180, 75), (237, 203, 245), 5)\n",
    "cv2.line(white_bg, (180, 75), (160, 80), (237, 203, 245), 5)\n",
    "cv2.line(white_bg, (160, 80), (180, 85), (237, 203, 245), 5)\n",
    "cv2.line(white_bg, (180, 85), (160, 90), (237, 203, 245), 5)\n",
    "cv2.line(white_bg, (160, 90), (180, 95), (237, 203, 245), 5)\n",
    "cv2.line(white_bg, (180, 95), (160, 100), (237, 203, 245), 5)\n",
    "\n",
    "cv2.line(white_bg, (80, 70), (80, 70), (237, 203, 245), 8)\n",
    "cv2.line(white_bg, (130, 70), (130, 70), (237, 203, 245), 8)\n",
    "cv2.line(white_bg, (100, 90), (110, 90), (237, 203, 245), 8)\n",
    "\n",
    "\n",
    "\n",
    "cv2.imshow('DRAWING', white_bg)\n",
    "cv2.waitKey()\n",
    "cv2.destroyAllWindows()"
   ]
  },
  {
   "cell_type": "code",
   "execution_count": 111,
   "metadata": {},
   "outputs": [],
   "source": [
    "# 사각형 그리기 => 선두께 -1 : 채우기\n",
    "cv2.rectangle(white_bg, (200, 200), (270, 350), (0, 0, 0), -1)\n",
    "cv2.imshow('DRAWING', white_bg)\n",
    "cv2.waitKey()\n",
    "cv2.destroyAllWindows()"
   ]
  },
  {
   "cell_type": "code",
   "execution_count": null,
   "metadata": {},
   "outputs": [],
   "source": []
  }
 ],
 "metadata": {
  "kernelspec": {
   "display_name": "TORCH_CV_38",
   "language": "python",
   "name": "python3"
  },
  "language_info": {
   "codemirror_mode": {
    "name": "ipython",
    "version": 3
   },
   "file_extension": ".py",
   "mimetype": "text/x-python",
   "name": "python",
   "nbconvert_exporter": "python",
   "pygments_lexer": "ipython3",
   "version": "3.8.19"
  }
 },
 "nbformat": 4,
 "nbformat_minor": 2
}
