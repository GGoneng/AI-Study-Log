{
 "cells": [
  {
   "cell_type": "markdown",
   "metadata": {},
   "source": [
    "#### 이미지 데이터 처리\n",
    "- 채널 관련\n",
    "    * 컬러 : 3개 채널 => (H, W, C) => (H, W, 3)\n",
    "    * 흑백 : 1개 채널 => (H, W, C) => (H, W)"
   ]
  },
  {
   "cell_type": "code",
   "execution_count": null,
   "metadata": {},
   "outputs": [],
   "source": [
    "\n"
   ]
  },
  {
   "cell_type": "code",
   "execution_count": 94,
   "metadata": {},
   "outputs": [],
   "source": [
    "# 데이터 관련 변수\n",
    "DIR_PATH = '../data/'"
   ]
  },
  {
   "cell_type": "markdown",
   "metadata": {},
   "source": [
    "#### Video 처리\n",
    "- VideoCapture(동영상 또는 카메라_번호) 함수 "
   ]
  },
  {
   "cell_type": "code",
   "execution_count": 95,
   "metadata": {},
   "outputs": [],
   "source": [
    "## 모듈 로딩\n",
    "import cv2\n",
    "import numpy as np"
   ]
  },
  {
   "cell_type": "code",
   "execution_count": 96,
   "metadata": {},
   "outputs": [],
   "source": [
    "## 데이터 및 디바이스 설정\n",
    "\n",
    "DIR_PATH = '../image/'\n",
    "\n",
    "CAM_DEVICE = 0"
   ]
  },
  {
   "cell_type": "markdown",
   "metadata": {},
   "source": [
    "- [카메라 관련 영상 처리]"
   ]
  },
  {
   "cell_type": "code",
   "execution_count": 97,
   "metadata": {},
   "outputs": [
    {
     "name": "stdout",
     "output_type": "stream",
     "text": [
      "Wed Sep 25 10:27:46 2024 27:09/25/24:46\n",
      "2024 27\n"
     ]
    },
    {
     "data": {
      "text/plain": [
       "'capture_24.09.25 10.27.46.jpg'"
      ]
     },
     "execution_count": 97,
     "metadata": {},
     "output_type": "execute_result"
    }
   ],
   "source": [
    "import time\n",
    "print(time.ctime(), time.strftime('%M:%D:%S'))\n",
    "\n",
    "# 현재 날짜 시간 정보 저장 인스턴스\n",
    "cur_time = time.localtime()\n",
    "print(cur_time.tm_year, cur_time.tm_min)\n",
    "\n",
    "\n",
    "SAVE_FILE = f'capture_{time.strftime(\"%y.%m.%d %H.%M.%S\", cur_time)}.jpg'\n",
    "SAVE_FILE"
   ]
  },
  {
   "cell_type": "code",
   "execution_count": 98,
   "metadata": {},
   "outputs": [
    {
     "name": "stdout",
     "output_type": "stream",
     "text": [
      "영상 재생 정지\n"
     ]
    }
   ],
   "source": [
    "# 카메라와 연결 여부 체크\n",
    "camera = cv2.VideoCapture(CAM_DEVICE)\n",
    "\n",
    "if camera.isOpened():\n",
    "    while True:\n",
    "        ret, img = camera.read()\n",
    "        if ret:\n",
    "            cv2.imshow(\"VIDEO\", img)\n",
    "            if cv2.waitKey(10) != -1 : \n",
    "                print(\"영상 재생 정지\")\n",
    "                cv2.imwrite(DIR_PATH + SAVE_FILE, img)\n",
    "                cv2.destroyAllWindows()\n",
    "                break\n",
    "        else:\n",
    "            print(\"영상 읽기 실패\")\n",
    "            break\n",
    "        \n",
    "else:\n",
    "    print(\"카메라 연결 여부 체크 바랍니다.\")\n"
   ]
  },
  {
   "cell_type": "code",
   "execution_count": null,
   "metadata": {},
   "outputs": [],
   "source": []
  },
  {
   "cell_type": "code",
   "execution_count": null,
   "metadata": {},
   "outputs": [],
   "source": []
  }
 ],
 "metadata": {
  "kernelspec": {
   "display_name": "TORCH_CV_38",
   "language": "python",
   "name": "python3"
  },
  "language_info": {
   "codemirror_mode": {
    "name": "ipython",
    "version": 3
   },
   "file_extension": ".py",
   "mimetype": "text/x-python",
   "name": "python",
   "nbconvert_exporter": "python",
   "pygments_lexer": "ipython3",
   "version": "3.8.19"
  }
 },
 "nbformat": 4,
 "nbformat_minor": 2
}
