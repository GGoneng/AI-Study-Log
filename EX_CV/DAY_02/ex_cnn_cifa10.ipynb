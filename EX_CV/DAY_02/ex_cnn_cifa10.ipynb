{
 "cells": [
  {
   "cell_type": "markdown",
   "metadata": {},
   "source": [
    "#### CNN 이미지 분류 모델\n",
    "- 이미지 데이터셋 준비\n",
    "    * torchvision의 내장 데이터셋 활용 CIFIA10\n",
    "- 이미지 분류 모델\n",
    "    * 커스텀 CNN 구현"
   ]
  },
  {
   "cell_type": "markdown",
   "metadata": {},
   "source": [
    "[1] 모듈 로딩 및 데이터 준비 <hr>"
   ]
  },
  {
   "cell_type": "code",
   "execution_count": 2,
   "metadata": {},
   "outputs": [],
   "source": [
    "## 모듈로딩\n",
    "import matplotlib.pyplot as plt\n",
    "import torch\n",
    "import torch.nn\n",
    "from torchvision.datasets import CIFAR10       # torchvision 내장 데이터셋 관련 모듈\n",
    "from torchvision.transforms import ToTensor    # torchvision 데이터 변환 관련 모듈\n",
    "from torch.utils.data import DataLoader        # 데이터셋 관련 모듈 로딩"
   ]
  },
  {
   "cell_type": "code",
   "execution_count": 3,
   "metadata": {},
   "outputs": [
    {
     "name": "stdout",
     "output_type": "stream",
     "text": [
      "Files already downloaded and verified\n"
     ]
    }
   ],
   "source": [
    "## 데이터로딩\n",
    "DIR_PATH='../data/'\n",
    "\n",
    "## Pytorch의 Dataset 형태 로딩\n",
    "cifarDS=CIFAR10(DIR_PATH,train=True,download=True,transform=ToTensor())"
   ]
  },
  {
   "cell_type": "code",
   "execution_count": 4,
   "metadata": {},
   "outputs": [
    {
     "name": "stdout",
     "output_type": "stream",
     "text": [
      "classses : ['airplane', 'automobile', 'bird', 'cat', 'deer', 'dog', 'frog', 'horse', 'ship', 'truck']\n",
      "cifarDS.data.shape: (50000, 32, 32, 3)\n",
      "cifarDS.class_to_idx : {'airplane': 0, 'automobile': 1, 'bird': 2, 'cat': 3, 'deer': 4, 'dog': 5, 'frog': 6, 'horse': 7, 'ship': 8, 'truck': 9}\n",
      "len(cifarDS.targets) : 50000\n"
     ]
    }
   ],
   "source": [
    "# Dataset의 속성 확인\n",
    "print(f'classses : {cifarDS.classes}')\n",
    "\n",
    "print(f'cifarDS.data.shape: {cifarDS.data.shape}')\n",
    "\n",
    "print(f'cifarDS.class_to_idx : {cifarDS.class_to_idx}')\n",
    "\n",
    "print(f'len(cifarDS.targets) : {len(cifarDS.targets)}')\n"
   ]
  },
  {
   "cell_type": "markdown",
   "metadata": {},
   "source": [
    "[2] 데이터 로드 <hr>\n",
    "* 학습 시 배치크기만큼 데이터와 라벨/타겟을 로딩"
   ]
  },
  {
   "cell_type": "code",
   "execution_count": 5,
   "metadata": {},
   "outputs": [],
   "source": [
    "BATCH_SIZE = 50\n",
    "\n",
    "cifar10DL=DataLoader(cifarDS)"
   ]
  },
  {
   "cell_type": "code",
   "execution_count": 6,
   "metadata": {},
   "outputs": [
    {
     "name": "stdout",
     "output_type": "stream",
     "text": [
      "tensor([6]) 6\n",
      "torch.Size([1, 3, 32, 32])\n"
     ]
    },
    {
     "data": {
      "image/png": "[encoded data removed]",
      "text/plain": [
       "<Figure size 640x480 with 1 Axes>"
      ]
     },
     "metadata": {},
     "output_type": "display_data"
    }
   ],
   "source": [
    "## [테스트] Dataset & DataLoader\n",
    "for data, target in cifar10DL:\n",
    "    print(target,target.item())\n",
    "    print(data.shape)\n",
    "    data1=data.squeeze()\n",
    "    plt.imshow(data1.transpose(0,2))\n",
    "    plt.title(cifarDS.classes[target.item()])\n",
    "    break\n",
    "# 데이터 로더로 데이터 땡기니까 shape이 바뀜. 채널이 2번째로 옴.\n",
    "# 이 데이터를 가지고 그림을 그릴려고 하니 shape이 안 맞아서 shape을 바꿔줘야함.\n",
    "# 우선 앞에 있는 1을 지우고 3이 채널이니까 맨 뒤로 보내야 함."
   ]
  },
  {
   "cell_type": "markdown",
   "metadata": {},
   "source": [
    "[3] 커스텀 모델 설계 및 정의 <hr>\n",
    "- 모델목적 : 이미지 분류 모델\n",
    "- 학습방법 : 지도학습 > 분류 > 다중분류(10개)\n",
    "- 클래스이름 : ImageMCF\n",
    "- 클래스구조 : 특징추출 부분 => CNN + 학습부분 FC\n",
    "- 부모클래스 : nn.Module"
   ]
  },
  {
   "cell_type": "code",
   "execution_count": 7,
   "metadata": {},
   "outputs": [],
   "source": [
    "import torch.nn as nn\n",
    "import torch.nn.functional as F"
   ]
  },
  {
   "cell_type": "code",
   "execution_count": 8,
   "metadata": {},
   "outputs": [],
   "source": [
    "class ImageMCF(nn.Module):\n",
    "    # 모델 구조 설계 즉, 생산자 메서드\n",
    "    def __init__(self):\n",
    "        # 부모 생성\n",
    "        super().__init__()\n",
    "        # 모델 층 구성\n",
    "        ## 특징 추출 층\n",
    "        self.in_layer = nn.Conv2d(3, 10, 3)\n",
    "        self.in_layer = nn.Conv2d(10, 50, 3)\n",
    "        self.in_layer = nn.Conv2d(50, 10, 3)\n",
    "        self.p_layer = nn.MaxPool2d(2,stride=2)\n",
    "        # 학습 관련 층\n",
    "        self.hd_layer = nn.Linear(10*15*15,50)\n",
    "        self.out_layer = nn.Linear(50,10)\n",
    "\n",
    "\n",
    "    # 전방향/순방향 학습 메서드\n",
    "    def forward(self,input):\n",
    "        output=self.in_layer(input)\n",
    "        print(f'[output 1 ] {output.shape}')\n",
    "\n",
    "        output = F.relu(output)\n",
    "        print(f'[output 2 ] {output.shape}')\n",
    "\n",
    "        output = self.p_layer(output)\n",
    "        print(f'[output 3 ] {output.shape}')\n",
    "\n",
    "        # 4D -> 2D (샘플수, 피쳐수)\n",
    "        output = output.view(output.shape[0],-1)\n",
    "        print(f'[output 4 ] {output.shape}')\n",
    "\n",
    "        output = F.relu(self.hd_layer(output))\n",
    "        print(f'[output 5 ] {output.shape}')\n",
    "\n",
    "        output = self.out_layer(output)\n",
    "        print(f'[output 6 ] {output.shape}')\n",
    "\n",
    "        return output\n",
    "\n"
   ]
  },
  {
   "cell_type": "code",
   "execution_count": 9,
   "metadata": {},
   "outputs": [],
   "source": [
    "class ImageMCF2(nn.Module):\n",
    "    # 모델 구조 설계 즉, 생산자 메서드\n",
    "    def __init__(self):\n",
    "        # 부모 생성\n",
    "        super().__init__()\n",
    "        # 모델 층 구성\n",
    "        ## 특징 추출 층\n",
    "        self.cnn_layer=nn.Sequential(\n",
    "            nn.Conv2d(3, 10, 3),  # 커널은 초반에 많이 주었다가 갈수록 줄임\n",
    "            nn.Conv2d(10, 10, 3), #=> 추가하고 싶은면 해당 값에 계산해서 넣으면 됨.\n",
    "            nn.ReLU(),\n",
    "            nn.MaxPool2d(2,stride=2)\n",
    "        )\n",
    "        self.cnn_layer2=nn.Sequential(\n",
    "            nn.Conv2d(10, 30, 3),\n",
    "            nn.ReLU(),   #  나온 결과 값 : [1,30,13,13]\n",
    "            nn.Conv2d(30, 10, 3),\n",
    "            nn.ReLU(),\n",
    "            nn.Conv2d(10, 30, 3),\n",
    "            nn.ReLU(),\n",
    "            nn.MaxPool2d(2,stride=2)    #  나온 결과 값 : [1,30,6,6]\n",
    "        )\n",
    "        self.cnn_layer3=nn.Sequential(\n",
    "            nn.Conv2d(30, 10, 3,padding=1),\n",
    "            nn.ReLU(),  \n",
    "            nn.Conv2d(10, 30, 3,padding=1),\n",
    "            nn.ReLU(),\n",
    "            nn.Conv2d(30, 10, 3,padding=1),\n",
    "            nn.ReLU(),\n",
    "            nn.AvgPool2d(2,stride=2)   \n",
    "        )\n",
    "        # # 학습 관련 층 \n",
    "        self.hd_layer = nn.Linear(10*6*6,50)\n",
    "        self.out_layer = nn.Linear(50,10)\n",
    "\n",
    "\n",
    "    # 전방향/순방향 학습 메서드\n",
    "    def forward(self,input):\n",
    "        output=self.cnn_layer(input)\n",
    "        print(f'[cnn_layer output ] {output.shape}')\n",
    "\n",
    "        output=self.cnn_layer2(output)\n",
    "        print(f'[cnn_layer2 output ] {output.shape}')\n",
    "\n",
    "        output=self.cnn_layer3(output)\n",
    "        print(f'[cnn_layer3 output ] {output.shape}')\n",
    "\n",
    "\n",
    "\n",
    "        # # 4D -> 2D (샘플수, 피쳐수)\n",
    "        # output = output.view(output.shape[0],-1)\n",
    "        # print(f'[view output] {output.shape}')\n",
    "\n",
    "        # output = F.relu(self.hd_layer(output))\n",
    "        # print(f'[hd_layer output] {output.shape}')\n",
    "\n",
    "        # output = self.out_layer(output)\n",
    "        # print(f'[out_layer output] {output.shape}')\n",
    "\n",
    "        return output\n",
    "\n"
   ]
  },
  {
   "cell_type": "code",
   "execution_count": 10,
   "metadata": {},
   "outputs": [],
   "source": [
    "## 모델 인스턴스 생성\n",
    "m = ImageMCF2()"
   ]
  },
  {
   "cell_type": "code",
   "execution_count": 11,
   "metadata": {},
   "outputs": [],
   "source": [
    "## 모델 정보 출력 패키지 설치\n",
    "# %pip install torchinfo"
   ]
  },
  {
   "cell_type": "code",
   "execution_count": 12,
   "metadata": {},
   "outputs": [
    {
     "data": {
      "text/plain": [
       "=================================================================\n",
       "Layer (type:depth-idx)                   Param #\n",
       "=================================================================\n",
       "ImageMCF2                                --\n",
       "├─Sequential: 1-1                        --\n",
       "│    └─Conv2d: 2-1                       280\n",
       "│    └─Conv2d: 2-2                       910\n",
       "│    └─ReLU: 2-3                         --\n",
       "│    └─MaxPool2d: 2-4                    --\n",
       "├─Sequential: 1-2                        --\n",
       "│    └─Conv2d: 2-5                       2,730\n",
       "│    └─ReLU: 2-6                         --\n",
       "│    └─Conv2d: 2-7                       2,710\n",
       "│    └─ReLU: 2-8                         --\n",
       "│    └─Conv2d: 2-9                       2,730\n",
       "│    └─ReLU: 2-10                        --\n",
       "│    └─MaxPool2d: 2-11                   --\n",
       "├─Sequential: 1-3                        --\n",
       "│    └─Conv2d: 2-12                      2,710\n",
       "│    └─ReLU: 2-13                        --\n",
       "│    └─Conv2d: 2-14                      2,730\n",
       "│    └─ReLU: 2-15                        --\n",
       "│    └─Conv2d: 2-16                      2,710\n",
       "│    └─ReLU: 2-17                        --\n",
       "│    └─AvgPool2d: 2-18                   --\n",
       "├─Linear: 1-4                            18,050\n",
       "├─Linear: 1-5                            510\n",
       "=================================================================\n",
       "Total params: 36,070\n",
       "Trainable params: 36,070\n",
       "Non-trainable params: 0\n",
       "================================================================="
      ]
     },
     "execution_count": 12,
     "metadata": {},
     "output_type": "execute_result"
    }
   ],
   "source": [
    "from torchinfo import summary\n",
    "summary(m)"
   ]
  },
  {
   "cell_type": "code",
   "execution_count": 13,
   "metadata": {},
   "outputs": [
    {
     "name": "stdout",
     "output_type": "stream",
     "text": [
      "[target] => tensor([6])\n",
      "torch.Size([1, 3, 32, 32])\n",
      "[cnn_layer output ] torch.Size([1, 10, 14, 14])\n",
      "[cnn_layer2 output ] torch.Size([1, 30, 4, 4])\n",
      "[cnn_layer3 output ] torch.Size([1, 10, 2, 2])\n",
      "pre => tensor([[[5, 2],\n",
      "         [2, 2]]])\n"
     ]
    }
   ],
   "source": [
    "## [테스트] Dataset & Dataloader\n",
    "for data, target in cifar10DL:\n",
    "    print(f'[target] => {target}')\n",
    "    print(data.shape)\n",
    "    # 학습 \n",
    "    pre = m(data)\n",
    "    print(f'pre => {pre.argmax(dim=1)}')\n",
    "    break"
   ]
  },
  {
   "cell_type": "markdown",
   "metadata": {},
   "source": []
  },
  {
   "cell_type": "code",
   "execution_count": 14,
   "metadata": {},
   "outputs": [
    {
     "name": "stdout",
     "output_type": "stream",
     "text": [
      ">>[cnn_layer.0.weight]-----------\n",
      "torch.Size([10, 3, 3, 3])\n",
      ">>[cnn_layer.0.bias]-----------\n",
      "torch.Size([10])\n",
      ">>[cnn_layer.1.weight]-----------\n",
      "torch.Size([10, 10, 3, 3])\n",
      ">>[cnn_layer.1.bias]-----------\n",
      "torch.Size([10])\n",
      ">>[cnn_layer2.0.weight]-----------\n",
      "torch.Size([30, 10, 3, 3])\n",
      ">>[cnn_layer2.0.bias]-----------\n",
      "torch.Size([30])\n",
      ">>[cnn_layer2.2.weight]-----------\n",
      "torch.Size([10, 30, 3, 3])\n",
      ">>[cnn_layer2.2.bias]-----------\n",
      "torch.Size([10])\n",
      ">>[cnn_layer2.4.weight]-----------\n",
      "torch.Size([30, 10, 3, 3])\n",
      ">>[cnn_layer2.4.bias]-----------\n",
      "torch.Size([30])\n",
      ">>[cnn_layer3.0.weight]-----------\n",
      "torch.Size([10, 30, 3, 3])\n",
      ">>[cnn_layer3.0.bias]-----------\n",
      "torch.Size([10])\n",
      ">>[cnn_layer3.2.weight]-----------\n",
      "torch.Size([30, 10, 3, 3])\n",
      ">>[cnn_layer3.2.bias]-----------\n",
      "torch.Size([30])\n",
      ">>[cnn_layer3.4.weight]-----------\n",
      "torch.Size([10, 30, 3, 3])\n",
      ">>[cnn_layer3.4.bias]-----------\n",
      "torch.Size([10])\n",
      ">>[hd_layer.weight]-----------\n",
      "torch.Size([50, 360])\n",
      ">>[hd_layer.bias]-----------\n",
      "torch.Size([50])\n",
      ">>[out_layer.weight]-----------\n",
      "torch.Size([10, 50])\n",
      ">>[out_layer.bias]-----------\n",
      "torch.Size([10])\n"
     ]
    }
   ],
   "source": [
    "# 모델 파라미터 확인\n",
    "for name, param in m.named_parameters():\n",
    "    print(f'>>[{name}]-----------\\n{param.shape}')"
   ]
  },
  {
   "cell_type": "code",
   "execution_count": null,
   "metadata": {},
   "outputs": [],
   "source": []
  }
 ],
 "metadata": {
  "kernelspec": {
   "display_name": "TORCH_CV_38",
   "language": "python",
   "name": "python3"
  },
  "language_info": {
   "codemirror_mode": {
    "name": "ipython",
    "version": 3
   },
   "file_extension": ".py",
   "mimetype": "text/x-python",
   "name": "python",
   "nbconvert_exporter": "python",
   "pygments_lexer": "ipython3",
   "version": "3.8.19"
  }
 },
 "nbformat": 4,
 "nbformat_minor": 2
}
