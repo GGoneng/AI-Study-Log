{
 "cells": [
  {
   "cell_type": "code",
   "execution_count": 108,
   "metadata": {},
   "outputs": [],
   "source": [
    "# 모듈 로딩\n",
    "import numpy as np\n",
    "import pandas as pd\n",
    "import matplotlib.pyplot as plt\n",
    "import pickle\n",
    "\n",
    "import torch\n",
    "import torch.nn as nn\n",
    "import torch.nn.functional as F\n",
    "from torch.utils.data import TensorDataset, DataLoader\n",
    "from torchinfo import summary\n",
    "from torch.autograd import Variable\n",
    "\n",
    "from sklearn.model_selection import train_test_split"
   ]
  },
  {
   "cell_type": "code",
   "execution_count": 109,
   "metadata": {},
   "outputs": [],
   "source": [
    "# 데이터 로딩 함수\n",
    "def unpickle(file):\n",
    "    with open(file, 'rb') as fo:\n",
    "        dict = pickle.load(fo, encoding='bytes')\n",
    "    return dict"
   ]
  },
  {
   "cell_type": "code",
   "execution_count": 110,
   "metadata": {},
   "outputs": [
    {
     "data": {
      "text/plain": [
       "{b'num_cases_per_batch': 10000,\n",
       " b'label_names': [b'airplane',\n",
       "  b'automobile',\n",
       "  b'bird',\n",
       "  b'cat',\n",
       "  b'deer',\n",
       "  b'dog',\n",
       "  b'frog',\n",
       "  b'horse',\n",
       "  b'ship',\n",
       "  b'truck'],\n",
       " b'num_vis': 3072}"
      ]
     },
     "execution_count": 110,
     "metadata": {},
     "output_type": "execute_result"
    }
   ],
   "source": [
    "# 데이터 로딩 (라벨 목록)\n",
    "PATH = '../data/cifar-10-batches-py/'\n",
    "\n",
    "unpickle(PATH + 'batches.meta')"
   ]
  },
  {
   "cell_type": "code",
   "execution_count": 111,
   "metadata": {},
   "outputs": [],
   "source": [
    "# 데이터 로딩 (데이터)\n",
    "\n",
    "batch_1_data = unpickle(PATH + 'data_batch_1')[b'data']\n",
    "batch_1_labels = unpickle(PATH + 'data_batch_1')[b'labels']\n",
    "\n",
    "batch_2_data = unpickle(PATH + 'data_batch_2')[b'data']\n",
    "batch_2_labels = unpickle(PATH + 'data_batch_2')[b'labels']\n",
    "\n",
    "batch_3_data = unpickle(PATH + 'data_batch_3')[b'data']\n",
    "batch_3_labels = unpickle(PATH + 'data_batch_3')[b'labels']\n",
    "\n",
    "batch_4_data = unpickle(PATH + 'data_batch_4')[b'data']\n",
    "batch_4_labels = unpickle(PATH + 'data_batch_4')[b'labels']\n",
    "\n",
    "batch_5_data = unpickle(PATH + 'data_batch_5')[b'data']\n",
    "batch_5_labels = unpickle(PATH + 'data_batch_5')[b'labels']\n",
    "\n",
    "test_batch_data = unpickle(PATH + 'test_batch')[b'data']\n",
    "test_batch_labels = unpickle(PATH + 'test_batch')[b'labels']\n",
    "\n"
   ]
  },
  {
   "cell_type": "code",
   "execution_count": 112,
   "metadata": {},
   "outputs": [
    {
     "name": "stdout",
     "output_type": "stream",
     "text": [
      "X_train's shape : (50000, 3, 32, 32), y_train's shape : (50000,), X_test's shape : (10000, 3, 32, 32), y_test's shape : (10000,)\n"
     ]
    }
   ],
   "source": [
    "# 데이터 병합 및 전처리\n",
    "\n",
    "X_train = [batch_1_data, batch_2_data, batch_3_data, batch_4_data, batch_5_data]\n",
    "y_train = [batch_1_labels, batch_2_labels, batch_3_labels, batch_4_labels, batch_5_labels]\n",
    "\n",
    "X_test = np.array(test_batch_data).reshape(-1, 3, 32, 32)\n",
    "y_test = np.array(test_batch_labels)\n",
    "\n",
    "X_train = np.concatenate(X_train).reshape(-1, 3, 32, 32)\n",
    "y_train = np.concatenate(y_train)\n",
    "\n",
    "\n",
    "print(f\"X_train's shape : {X_train.shape}, y_train's shape : {y_train.shape}, X_test's shape : {X_test.shape}, y_test's shape : {y_test.shape}\")"
   ]
  },
  {
   "cell_type": "code",
   "execution_count": null,
   "metadata": {},
   "outputs": [],
   "source": []
  },
  {
   "cell_type": "code",
   "execution_count": 113,
   "metadata": {},
   "outputs": [],
   "source": [
    "# 디바이스 설정\n",
    "DEVICE = \"cuda\" if torch.cuda.is_available() else \"cpu\""
   ]
  },
  {
   "cell_type": "code",
   "execution_count": 114,
   "metadata": {},
   "outputs": [],
   "source": [
    "# class CifarDataset(Dataset):\n",
    "    \n",
    "#     def __init__(self, featureDF, targetDF):\n",
    "#         self.featureDF = featureDF\n",
    "#         self.targetDF = targetDF\n",
    "#         self.n_rows = featureDF.shape[0]\n",
    "#         self.n_features = featureDF.shape[1]\n",
    "\n",
    "#     def __len__(self):\n",
    "#         return self.n_rows\n",
    "    \n",
    "#     def __getitem__(self, index):\n",
    "#         # 텐서화\n",
    "#         featureTS = torch.IntTensor(self.featureDF.iloc[index].values)\n",
    "#         targetTS = torch.IntTensor(self.targetDF.iloc[index].values)\n",
    "\n",
    "#         return featureTS, targetTS"
   ]
  },
  {
   "cell_type": "code",
   "execution_count": 115,
   "metadata": {},
   "outputs": [
    {
     "name": "stdout",
     "output_type": "stream",
     "text": [
      "X_train's shape : (50000, 3, 32, 32), y_train's shape : (50000,), X_val's shape : torch.Size([10000, 3, 32, 32]), y_val's shape : torch.Size([10000])\n"
     ]
    }
   ],
   "source": [
    "# 검증용 데이터 나누기\n",
    "\n",
    "# X_train, X_val, y_train, y_val = train_test_split(X_train, \n",
    "#                                                   y_train, \n",
    "#                                                   test_size = 0.2,\n",
    "#                                                   stratify = y_train,\n",
    "#                                                   random_state = 1)\n",
    "\n",
    "print(f\"X_train's shape : {X_train.shape}, y_train's shape : {y_train.shape}, X_val's shape : {X_val.shape}, y_val's shape : {y_val.shape}\")"
   ]
  },
  {
   "cell_type": "code",
   "execution_count": 116,
   "metadata": {},
   "outputs": [],
   "source": [
    "# 데이터 셋 만들기\n",
    "\n",
    "X_train = torch.Tensor(X_train)\n",
    "# X_val = torch.Tensor(X_val)\n",
    "X_test = torch.Tensor(X_test)\n",
    "\n",
    "y_train = torch.Tensor(y_train)\n",
    "# y_val = torch.Tensor(y_val)\n",
    "y_test = torch.Tensor(y_test)\n",
    "\n",
    "train_dataset = TensorDataset(X_train, y_train)\n",
    "# val_dataset = TensorDataset(X_val, y_val)\n",
    "test_dataset = TensorDataset(X_test, y_test)"
   ]
  },
  {
   "cell_type": "code",
   "execution_count": 117,
   "metadata": {},
   "outputs": [],
   "source": [
    "BATCH_SIZE = 50\n",
    "\n",
    "trainDL = DataLoader(train_dataset)\n",
    "# valDL = DataLoader(val_dataset)\n",
    "testDL = DataLoader(test_dataset)"
   ]
  },
  {
   "cell_type": "code",
   "execution_count": 130,
   "metadata": {},
   "outputs": [
    {
     "name": "stdout",
     "output_type": "stream",
     "text": [
      "tensor([6.]) 6.0\n",
      "tensor([[[[0.2314, 0.1686, 0.1961,  ..., 0.6196, 0.5961, 0.5804],\n",
      "          [0.0627, 0.0000, 0.0706,  ..., 0.4824, 0.4667, 0.4784],\n",
      "          [0.0980, 0.0627, 0.1922,  ..., 0.4627, 0.4706, 0.4275],\n",
      "          ...,\n",
      "          [0.8157, 0.7882, 0.7765,  ..., 0.6275, 0.2196, 0.2078],\n",
      "          [0.7059, 0.6784, 0.7294,  ..., 0.7216, 0.3804, 0.3255],\n",
      "          [0.6941, 0.6588, 0.7020,  ..., 0.8471, 0.5922, 0.4824]],\n",
      "\n",
      "         [[0.2431, 0.1804, 0.1882,  ..., 0.5176, 0.4902, 0.4863],\n",
      "          [0.0784, 0.0000, 0.0314,  ..., 0.3451, 0.3255, 0.3412],\n",
      "          [0.0941, 0.0275, 0.1059,  ..., 0.3294, 0.3294, 0.2863],\n",
      "          ...,\n",
      "          [0.6667, 0.6000, 0.6314,  ..., 0.5216, 0.1216, 0.1333],\n",
      "          [0.5451, 0.4824, 0.5647,  ..., 0.5804, 0.2431, 0.2078],\n",
      "          [0.5647, 0.5059, 0.5569,  ..., 0.7216, 0.4627, 0.3608]],\n",
      "\n",
      "         [[0.2471, 0.1765, 0.1686,  ..., 0.4235, 0.4000, 0.4039],\n",
      "          [0.0784, 0.0000, 0.0000,  ..., 0.2157, 0.1961, 0.2235],\n",
      "          [0.0824, 0.0000, 0.0314,  ..., 0.1961, 0.1961, 0.1647],\n",
      "          ...,\n",
      "          [0.3765, 0.1333, 0.1020,  ..., 0.2745, 0.0275, 0.0784],\n",
      "          [0.3765, 0.1647, 0.1176,  ..., 0.3686, 0.1333, 0.1333],\n",
      "          [0.4549, 0.3686, 0.3412,  ..., 0.5490, 0.3294, 0.2824]]]])\n"
     ]
    },
    {
     "data": {
      "image/png": "[encoded data removed]",
      "text/plain": [
       "<Figure size 640x480 with 1 Axes>"
      ]
     },
     "metadata": {},
     "output_type": "display_data"
    }
   ],
   "source": [
    "for data, target in trainDL:\n",
    "    print(target, target.item())\n",
    "    data = data / 255.0\n",
    "    print(data)\n",
    "    data1 = data.squeeze()\n",
    "    plt.imshow(data1.transpose(0, 2))\n",
    "    break"
   ]
  },
  {
   "cell_type": "code",
   "execution_count": null,
   "metadata": {},
   "outputs": [],
   "source": []
  },
  {
   "cell_type": "code",
   "execution_count": 124,
   "metadata": {},
   "outputs": [],
   "source": [
    "class ImageMCF(nn.Module):\n",
    "    \n",
    "    def __init__(self):\n",
    "        super().__init__()\n",
    "        self.cnn_layer = nn.Sequential(\n",
    "            nn.Conv2d(3, 30, 3),\n",
    "            nn.ReLU(),\n",
    "            nn.Conv2d(30, 20, 3),\n",
    "            nn.ReLU(),\n",
    "            nn.MaxPool2d(2)\n",
    "        )\n",
    "        self.cnn_layer2 = nn.Sequential(\n",
    "            nn.Conv2d(20, 10, 3),\n",
    "            nn.ReLU(),\n",
    "            nn.AvgPool2d(2)\n",
    "        )\n",
    "\n",
    "        self.hd_layer = nn.Linear(10 * 6 * 6, 50)\n",
    "        self.out_layer = nn.Linear(50, 10)\n",
    "\n",
    "    def forward(self, input):\n",
    "        output = self.cnn_layer(input)\n",
    "        output = self.cnn_layer2(output)\n",
    "        output = output.view(output.shape[0], -1)\n",
    "        output = F.relu(self.hd_layer(output))\n",
    "        output = F.relu(self.out_layer(output))\n",
    "\n",
    "\n",
    "        return output"
   ]
  },
  {
   "cell_type": "code",
   "execution_count": 125,
   "metadata": {},
   "outputs": [],
   "source": [
    "m = ImageMCF()"
   ]
  },
  {
   "cell_type": "code",
   "execution_count": 126,
   "metadata": {},
   "outputs": [
    {
     "data": {
      "text/plain": [
       "=================================================================\n",
       "Layer (type:depth-idx)                   Param #\n",
       "=================================================================\n",
       "ImageMCF                                 --\n",
       "├─Sequential: 1-1                        --\n",
       "│    └─Conv2d: 2-1                       840\n",
       "│    └─ReLU: 2-2                         --\n",
       "│    └─Conv2d: 2-3                       5,420\n",
       "│    └─ReLU: 2-4                         --\n",
       "│    └─MaxPool2d: 2-5                    --\n",
       "├─Sequential: 1-2                        --\n",
       "│    └─Conv2d: 2-6                       1,810\n",
       "│    └─ReLU: 2-7                         --\n",
       "│    └─AvgPool2d: 2-8                    --\n",
       "├─Linear: 1-3                            18,050\n",
       "├─Linear: 1-4                            510\n",
       "=================================================================\n",
       "Total params: 26,630\n",
       "Trainable params: 26,630\n",
       "Non-trainable params: 0\n",
       "================================================================="
      ]
     },
     "execution_count": 126,
     "metadata": {},
     "output_type": "execute_result"
    }
   ],
   "source": [
    "summary(m)"
   ]
  },
  {
   "cell_type": "code",
   "execution_count": 127,
   "metadata": {},
   "outputs": [
    {
     "name": "stdout",
     "output_type": "stream",
     "text": [
      "ImageMCF(\n",
      "  (cnn_layer): Sequential(\n",
      "    (0): Conv2d(3, 30, kernel_size=(3, 3), stride=(1, 1))\n",
      "    (1): ReLU()\n",
      "    (2): Conv2d(30, 20, kernel_size=(3, 3), stride=(1, 1))\n",
      "    (3): ReLU()\n",
      "    (4): MaxPool2d(kernel_size=2, stride=2, padding=0, dilation=1, ceil_mode=False)\n",
      "  )\n",
      "  (cnn_layer2): Sequential(\n",
      "    (0): Conv2d(20, 10, kernel_size=(3, 3), stride=(1, 1))\n",
      "    (1): ReLU()\n",
      "    (2): AvgPool2d(kernel_size=2, stride=2, padding=0)\n",
      "  )\n",
      "  (hd_layer): Linear(in_features=360, out_features=50, bias=True)\n",
      "  (out_layer): Linear(in_features=50, out_features=10, bias=True)\n",
      ")\n"
     ]
    }
   ],
   "source": [
    "learning_rate = 0.001\n",
    "model = ImageMCF()\n",
    "model.to(DEVICE)\n",
    "\n",
    "criterion = nn.CrossEntropyLoss()\n",
    "optimizer = torch.optim.Adam(model.parameters(), lr = learning_rate)\n",
    "print(model)\n"
   ]
  },
  {
   "cell_type": "code",
   "execution_count": 128,
   "metadata": {},
   "outputs": [
    {
     "name": "stdout",
     "output_type": "stream",
     "text": [
      "Iteration : 500, Loss : 2.3197531700134277, Accuracy : 10.039999961853027%\n"
     ]
    },
    {
     "ename": "KeyboardInterrupt",
     "evalue": "",
     "output_type": "error",
     "traceback": [
      "\u001b[1;31m---------------------------------------------------------------------------\u001b[0m",
      "\u001b[1;31mKeyboardInterrupt\u001b[0m                         Traceback (most recent call last)",
      "Cell \u001b[1;32mIn[128], line 34\u001b[0m\n\u001b[0;32m     32\u001b[0m     predictions \u001b[38;5;241m=\u001b[39m torch\u001b[38;5;241m.\u001b[39mmax(outputs, \u001b[38;5;241m1\u001b[39m)[\u001b[38;5;241m1\u001b[39m]\u001b[38;5;241m.\u001b[39mto(DEVICE)\n\u001b[0;32m     33\u001b[0m     predictions_list\u001b[38;5;241m.\u001b[39mappend(predictions)\n\u001b[1;32m---> 34\u001b[0m     correct \u001b[38;5;241m+\u001b[39m\u001b[38;5;241m=\u001b[39m \u001b[43m(\u001b[49m\u001b[43mpredictions\u001b[49m\u001b[43m \u001b[49m\u001b[38;5;241;43m==\u001b[39;49m\u001b[43m \u001b[49m\u001b[43mlabels\u001b[49m\u001b[43m)\u001b[49m\u001b[38;5;241;43m.\u001b[39;49m\u001b[43msum\u001b[49m\u001b[43m(\u001b[49m\u001b[43m)\u001b[49m\n\u001b[0;32m     35\u001b[0m     total \u001b[38;5;241m+\u001b[39m\u001b[38;5;241m=\u001b[39m \u001b[38;5;28mlen\u001b[39m(labels)\n\u001b[0;32m     37\u001b[0m accuracy \u001b[38;5;241m=\u001b[39m correct \u001b[38;5;241m*\u001b[39m \u001b[38;5;241m100\u001b[39m \u001b[38;5;241m/\u001b[39m total\n",
      "\u001b[1;31mKeyboardInterrupt\u001b[0m: "
     ]
    }
   ],
   "source": [
    "EPOCH = 5\n",
    "count = 0\n",
    "loss_list = []\n",
    "iteration_list = []\n",
    "accuracy_list = []\n",
    "\n",
    "predictions_list = []\n",
    "labels_list = []\n",
    "\n",
    "for epoch in range(EPOCH):\n",
    "    for images, labels in trainDL:\n",
    "        images, labels = images.to(DEVICE), labels.to(DEVICE)\n",
    "\n",
    "        train = Variable(images.view(-1, 3, 32, 32))\n",
    "        labels = labels.long()\n",
    "\n",
    "        outputs = model(images)\n",
    "        loss = criterion(outputs, labels)\n",
    "        optimizer.zero_grad()\n",
    "        loss.backward()\n",
    "        optimizer.step()\n",
    "        count += 1\n",
    "\n",
    "    if not (count % 50):\n",
    "        total = 0\n",
    "        correct = 0\n",
    "        for images, labels in testDL:\n",
    "            images, labels = images.to(DEVICE), labels.to(DEVICE)\n",
    "            labels_list.append(labels)\n",
    "            test = Variable(images.view(-1, 3, 32, 32))\n",
    "            outputs = model(test)\n",
    "            predictions = torch.max(outputs, 1)[1].to(DEVICE)\n",
    "            predictions_list.append(predictions)\n",
    "            correct += (predictions == labels).sum()\n",
    "            total += len(labels)\n",
    "\n",
    "        accuracy = correct * 100 / total\n",
    "        loss_list.append(loss.data)\n",
    "        iteration_list.append(count)\n",
    "        accuracy_list.append(accuracy)\n",
    "\n",
    "    if not (count % 500):\n",
    "        print(\"Iteration : {}, Loss : {}, Accuracy : {}%\".format(count, loss.data, accuracy))\n"
   ]
  },
  {
   "cell_type": "code",
   "execution_count": null,
   "metadata": {},
   "outputs": [],
   "source": []
  }
 ],
 "metadata": {
  "kernelspec": {
   "display_name": "TORCH_CV_38",
   "language": "python",
   "name": "python3"
  },
  "language_info": {
   "codemirror_mode": {
    "name": "ipython",
    "version": 3
   },
   "file_extension": ".py",
   "mimetype": "text/x-python",
   "name": "python",
   "nbconvert_exporter": "python",
   "pygments_lexer": "ipython3",
   "version": "3.8.19"
  }
 },
 "nbformat": 4,
 "nbformat_minor": 2
}
