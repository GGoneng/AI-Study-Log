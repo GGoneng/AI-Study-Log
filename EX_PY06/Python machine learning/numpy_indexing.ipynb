{
 "cells": [
  {
   "cell_type": "code",
   "execution_count": 3,
   "id": "8ed5c894",
   "metadata": {},
   "outputs": [
    {
     "name": "stdout",
     "output_type": "stream",
     "text": [
      "array1 type :  <class 'numpy.ndarray'>\n",
      "array1 array 형태 :  (3,)\n",
      "array2 type :  <class 'numpy.ndarray'>\n",
      "array2 array 형태 :  (2, 3)\n",
      "array3 type :  <class 'numpy.ndarray'>\n",
      "array3 array 형태 :  (1, 3)\n",
      "array1 : 1차원, array2 : 2차원, array3 :  2차원\n"
     ]
    }
   ],
   "source": [
    "import numpy as np\n",
    "\n",
    "array1 = np.array([1, 2, 3])\n",
    "print(\"array1 type : \", type(array1))\n",
    "print(\"array1 array 형태 : \", array1.shape)\n",
    "\n",
    "array2 = np.array([[1, 2, 3], [2, 3, 4]])\n",
    "print(\"array2 type : \", type(array2))\n",
    "print(\"array2 array 형태 : \", array2.shape)\n",
    "\n",
    "array3 = np.array([[1, 2, 3]])\n",
    "print(\"array3 type : \", type(array3))\n",
    "print(\"array3 array 형태 : \", array3.shape)\n",
    "\n",
    "print(\"array1 : {:0}차원, array2 : {:1}차원, array3 : {:2}차원\".format(array1.ndim, array2.ndim, array3.ndim))"
   ]
  },
  {
   "cell_type": "code",
   "execution_count": 6,
   "id": "d694b24c",
   "metadata": {},
   "outputs": [
    {
     "name": "stdout",
     "output_type": "stream",
     "text": [
      "<class 'list'>\n",
      "<class 'numpy.ndarray'>\n",
      "[1 2 3] int32\n",
      "['1' '2' 'test'] <U11\n",
      "[1. 2. 3.] float64\n"
     ]
    }
   ],
   "source": [
    "import numpy as np\n",
    "\n",
    "list1 = [1, 2, 3]\n",
    "print(type(list1))\n",
    "array1 = np.array(list1)\n",
    "print(type(array1))\n",
    "print(array1, array1.dtype)\n",
    "\n",
    "list2 = [1, 2, \"test\"]\n",
    "array2 = np.array(list2)\n",
    "print(array2, array2.dtype)\n",
    "\n",
    "list3 = [1, 2, 3.0]\n",
    "array3 = np.array(list3)\n",
    "print(array3, array3.dtype)"
   ]
  },
  {
   "cell_type": "code",
   "execution_count": 7,
   "id": "7b4adae3",
   "metadata": {},
   "outputs": [
    {
     "name": "stdout",
     "output_type": "stream",
     "text": [
      "[1. 2. 3.] float64\n",
      "[1 2 3] int32\n",
      "[1 2 3] int32\n"
     ]
    }
   ],
   "source": [
    "import numpy as np\n",
    "\n",
    "array_int = np.array([1, 2, 3])\n",
    "array_float = array_int.astype(\"float64\")\n",
    "print(array_float, array_float.dtype)\n",
    "\n",
    "array_int1 = array_float.astype(\"int32\")\n",
    "print(array_int1, array_int1.dtype)\n",
    "\n",
    "array_float1 = np.array([1.1, 2.1, 3.1])\n",
    "array_int2 = array_float1.astype(\"int32\")\n",
    "print(array_int2, array_int2.dtype)\n"
   ]
  },
  {
   "cell_type": "code",
   "execution_count": 10,
   "id": "b942554a",
   "metadata": {},
   "outputs": [
    {
     "name": "stdout",
     "output_type": "stream",
     "text": [
      "[0 1 2 3 4 5 6 7 8 9]\n",
      "int32 (10,)\n",
      "[[0 0]\n",
      " [0 0]\n",
      " [0 0]]\n",
      "int32 (3, 2)\n",
      "[[1. 1.]\n",
      " [1. 1.]\n",
      " [1. 1.]]\n",
      "float64 (3, 2)\n"
     ]
    }
   ],
   "source": [
    "sequence_array = np.arange(10)\n",
    "print(sequence_array)\n",
    "print(sequence_array.dtype, sequence_array.shape)\n",
    "\n",
    "zero_array = np.zeros((3, 2), dtype = \"int32\")\n",
    "print(zero_array)\n",
    "print(zero_array.dtype, zero_array.shape)\n",
    "\n",
    "one_array = np.ones((3, 2))\n",
    "print(one_array)\n",
    "print(one_array.dtype, one_array.shape)"
   ]
  },
  {
   "cell_type": "code",
   "execution_count": 11,
   "id": "282a0725",
   "metadata": {},
   "outputs": [
    {
     "name": "stdout",
     "output_type": "stream",
     "text": [
      "array1 : \n",
      " [0 1 2 3 4 5 6 7 8 9]\n",
      "array2 : \n",
      " [[0 1 2 3 4]\n",
      " [5 6 7 8 9]]\n",
      "array3 : \n",
      " [[0 1]\n",
      " [2 3]\n",
      " [4 5]\n",
      " [6 7]\n",
      " [8 9]]\n"
     ]
    }
   ],
   "source": [
    "array1 = np.arange(10)\n",
    "print(\"array1 : \\n\", array1)\n",
    "\n",
    "array2 = array1.reshape(2, 5)\n",
    "print(\"array2 : \\n\", array2)\n",
    "\n",
    "array3 = array1.reshape(5, 2)\n",
    "print(\"array3 : \\n\", array3)"
   ]
  },
  {
   "cell_type": "code",
   "execution_count": 12,
   "id": "7cc6ed61",
   "metadata": {},
   "outputs": [
    {
     "name": "stdout",
     "output_type": "stream",
     "text": [
      "[0 1 2 3 4 5 6 7 8 9]\n",
      "array2 shape :  (2, 5)\n",
      "array3 shape :  (5, 2)\n"
     ]
    }
   ],
   "source": [
    "array1 = np.arange(10)\n",
    "print(array1)\n",
    "array2 = array1.reshape(-1, 5)\n",
    "print(\"array2 shape : \", array2.shape)\n",
    "array3 = array1.reshape(5, -1)\n",
    "print(\"array3 shape : \", array3.shape)"
   ]
  },
  {
   "cell_type": "code",
   "execution_count": 13,
   "id": "290e6d46",
   "metadata": {},
   "outputs": [
    {
     "name": "stdout",
     "output_type": "stream",
     "text": [
      "array3d : \n",
      " [[[0, 1], [2, 3]], [[4, 5], [6, 7]]]\n",
      "array5 : \n",
      " [[0], [1], [2], [3], [4], [5], [6], [7]]\n",
      "array6 : \n",
      " [[0], [1], [2], [3], [4], [5], [6], [7]]\n",
      "array6 shape :  (8, 1)\n"
     ]
    }
   ],
   "source": [
    "array1 = np.arange(8)\n",
    "array3d = array1.reshape((2, 2, 2))\n",
    "print(\"array3d : \\n\", array3d.tolist())\n",
    "\n",
    "array5 = array3d.reshape(-1, 1)\n",
    "print(\"array5 : \\n\", array5.tolist())\n",
    "\n",
    "array6 = array1.reshape(-1, 1)\n",
    "print(\"array6 : \\n\", array6.tolist())\n",
    "print(\"array6 shape : \", array6.shape)\n"
   ]
  },
  {
   "cell_type": "code",
   "execution_count": 5,
   "id": "825ba2bf",
   "metadata": {},
   "outputs": [
    {
     "name": "stdout",
     "output_type": "stream",
     "text": [
      "array1 :  [1 2 3 4 5 6 7 8 9]\n",
      "value :  3\n",
      "<class 'numpy.int32'>\n",
      "맨 뒤의 값 :  9 맨 뒤에서 두 번째 값 :  8\n",
      "array1 :  [9 2 3 4 5 6 7 8 1]\n"
     ]
    }
   ],
   "source": [
    "import numpy as np\n",
    "\n",
    "array1 = np.arange(start = 1, stop = 10)\n",
    "print(\"array1 : \", array1)\n",
    "value = array1[2]\n",
    "print(\"value : \", value)\n",
    "print(type(value))\n",
    "print(\"맨 뒤의 값 : \", array1[-1], \"맨 뒤에서 두 번째 값 : \", array1[-2])\n",
    "array1[0] = 9\n",
    "array1[8] = 1\n",
    "print(\"array1 : \", array1)"
   ]
  },
  {
   "cell_type": "code",
   "execution_count": 1,
   "id": "bcc8860c",
   "metadata": {},
   "outputs": [
    {
     "name": "stdout",
     "output_type": "stream",
     "text": [
      "[[1 2 3]\n",
      " [4 5 6]\n",
      " [7 8 9]]\n",
      "(row = 0, col = 0) index 가리키는 값 :  1\n",
      "(row = 0, col = 1) index 가리키는 값 :  2\n",
      "(row = 1, col = 0) index 가리키는 값 :  4\n",
      "(row = 2, col = 2) index 가리키는 값 :  9\n"
     ]
    }
   ],
   "source": [
    "import numpy as np\n",
    "\n",
    "array1d = np.arange(start = 1, stop = 10)\n",
    "array2d = array1d.reshape(3, 3)\n",
    "print(array2d)\n",
    "\n",
    "print(\"(row = 0, col = 0) index 가리키는 값 : \", array2d[0, 0])\n",
    "print(\"(row = 0, col = 1) index 가리키는 값 : \", array2d[0, 1])\n",
    "print(\"(row = 1, col = 0) index 가리키는 값 : \", array2d[1, 0])\n",
    "print(\"(row = 2, col = 2) index 가리키는 값 : \", array2d[2, 2])\n",
    "\n"
   ]
  },
  {
   "cell_type": "code",
   "execution_count": 3,
   "id": "22579d79",
   "metadata": {},
   "outputs": [
    {
     "name": "stdout",
     "output_type": "stream",
     "text": [
      "[1 2 3]\n",
      "<class 'numpy.ndarray'>\n",
      "[1 2 3]\n",
      "[4 5 6 7 8 9]\n",
      "[1 2 3 4 5 6 7 8 9]\n"
     ]
    }
   ],
   "source": [
    "import numpy as np\n",
    "\n",
    "array1 = np.arange(start = 1, stop = 10)\n",
    "array3 = array1[0:3]\n",
    "print(array3)\n",
    "print(type(array3))\n",
    "\n",
    "array4 = array1[:3]\n",
    "print(array4)\n",
    "\n",
    "array5 = array1[3:]\n",
    "print(array5)\n",
    "\n",
    "array6 = array1[:]\n",
    "print(array6)"
   ]
  },
  {
   "cell_type": "code",
   "execution_count": 6,
   "id": "60bfbe91",
   "metadata": {},
   "outputs": [
    {
     "name": "stdout",
     "output_type": "stream",
     "text": [
      "array2d : \n",
      " [[1 2 3]\n",
      " [4 5 6]\n",
      " [7 8 9]]\n",
      "array2d[0:2, 0:2]\n",
      " [[1 2]\n",
      " [4 5]]\n",
      "array2d[1:3, 0:3]\n",
      " [[4 5 6]\n",
      " [7 8 9]]\n",
      "array2d[1:3, :]\n",
      " [[4 5 6]\n",
      " [7 8 9]]\n",
      "array2d[:, :]\n",
      " [[1 2 3]\n",
      " [4 5 6]\n",
      " [7 8 9]]\n",
      "array2d[:2, 1:]\n",
      " [[2 3]\n",
      " [5 6]]\n",
      "array2d[:2, 0]\n",
      " [1 4]\n",
      "\n",
      "[1 2 3]\n",
      "[4 5 6]\n",
      "array2d[0] shape :  (3,) array2d[1] shape :  (3,)\n"
     ]
    }
   ],
   "source": [
    "import numpy as np\n",
    "\n",
    "array1d = np.arange(start = 1, stop = 10)\n",
    "array2d = array1d.reshape(3, 3)\n",
    "print(\"array2d : \\n\", array2d)\n",
    "\n",
    "print(\"array2d[0:2, 0:2]\\n\", array2d[0:2, 0:2])\n",
    "print(\"array2d[1:3, 0:3]\\n\", array2d[1:3, 0:3])\n",
    "print(\"array2d[1:3, :]\\n\", array2d[1:3, :])\n",
    "print(\"array2d[:, :]\\n\", array2d[:, :])\n",
    "print(\"array2d[:2, 1:]\\n\", array2d[:2, 1:])\n",
    "print(\"array2d[:2, 0]\\n\", array2d[:2, 0])\n",
    "print()\n",
    "\n",
    "print(array2d[0])\n",
    "print(array2d[1])\n",
    "print(\"array2d[0] shape : \", array2d[0].shape, \"array2d[1] shape : \", array2d[1].shape)"
   ]
  },
  {
   "cell_type": "code",
   "execution_count": 10,
   "id": "fb3d7960",
   "metadata": {},
   "outputs": [
    {
     "name": "stdout",
     "output_type": "stream",
     "text": [
      "array2d[[0, 1], 2] =>  [3, 6]\n",
      "array2d[[0, 1], 0:2] =>  [[1, 2], [4, 5]]\n",
      "array2d[[0, 1]] =>  [[1, 2, 3], [4, 5, 6]]\n"
     ]
    }
   ],
   "source": [
    "import numpy as np\n",
    "\n",
    "array1d = np.arange(start = 1, stop = 10)\n",
    "array2d = array1d.reshape(3, 3)\n",
    "\n",
    "array3 = array2d[[0, 1], 2]\n",
    "print(\"array2d[[0, 1], 2] => \", array3.tolist())\n",
    "\n",
    "array4 = array2d[[0, 1], 0:2]\n",
    "print(\"array2d[[0, 1], 0:2] => \", array4.tolist())\n",
    "\n",
    "array5 = array2d[[0, 1]]\n",
    "print(\"array2d[[0, 1]] => \", array5.tolist())"
   ]
  },
  {
   "cell_type": "code",
   "execution_count": 13,
   "id": "cb697f14",
   "metadata": {},
   "outputs": [
    {
     "name": "stdout",
     "output_type": "stream",
     "text": [
      "array1d > 5 불린 인덱싱 결과 값 :  [6 7 8 9]\n",
      "불린 인덱스로 필터링 결과 :  [6 7 8 9]\n",
      "일반 인덱스로 필터링 결과 :  [6 7 8 9]\n"
     ]
    }
   ],
   "source": [
    "import numpy as np\n",
    "\n",
    "array1d = np.arange(start = 1, stop = 10)\n",
    "array3 = array1d[array1d > 5]\n",
    "print(\"array1d > 5 불린 인덱싱 결과 값 : \", array3)\n",
    "\n",
    "boolean_indexes = np.array([False, False, False, False, False, True, True, True, True])\n",
    "array3 = array1d[boolean_indexes]\n",
    "print(\"불린 인덱스로 필터링 결과 : \", array3)\n",
    "\n",
    "indexes = np.array([5, 6, 7, 8])\n",
    "array4 = array1d[indexes]\n",
    "print(\"일반 인덱스로 필터링 결과 : \", array4)"
   ]
  }
 ],
 "metadata": {
  "kernelspec": {
   "display_name": "Python 3 (ipykernel)",
   "language": "python",
   "name": "python3"
  },
  "language_info": {
   "codemirror_mode": {
    "name": "ipython",
    "version": 3
   },
   "file_extension": ".py",
   "mimetype": "text/x-python",
   "name": "python",
   "nbconvert_exporter": "python",
   "pygments_lexer": "ipython3",
   "version": "3.10.9"
  }
 },
 "nbformat": 4,
 "nbformat_minor": 5
}
