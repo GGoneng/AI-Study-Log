{
 "cells": [
  {
   "cell_type": "code",
   "execution_count": 1,
   "metadata": {},
   "outputs": [],
   "source": [
    "import pandas as pd"
   ]
  },
  {
   "cell_type": "code",
   "execution_count": 2,
   "metadata": {},
   "outputs": [
    {
     "name": "stdout",
     "output_type": "stream",
     "text": [
      "    수학  영어   음악   체육\n",
      "이름                  \n",
      "서준  90  98   85  100\n",
      "우현  80  89   95   90\n",
      "인아  70  95  100   90\n"
     ]
    }
   ],
   "source": [
    "exam_data = {\"이름\" : [\"서준\", \"우현\", \"인아\"], \"수학\" : [90, 80, 70], \"영어\" : [98, 89, 95], \"음악\" : [85, 95, 100], \"체육\" : [100, 90, 90]}\n",
    "df = pd.DataFrame(exam_data)\n",
    "df.set_index(\"이름\", inplace = True)\n",
    "print(df)"
   ]
  },
  {
   "cell_type": "code",
   "execution_count": 3,
   "metadata": {},
   "outputs": [
    {
     "name": "stdout",
     "output_type": "stream",
     "text": [
      "     수학   영어   음악   체육\n",
      "이름                    \n",
      "서준  180  196  170  200\n",
      "우현  160  178  190  180\n",
      "인아  140  190  200  180\n",
      "<class 'pandas.core.frame.DataFrame'>\n"
     ]
    }
   ],
   "source": [
    "df2 = df * 2\n",
    "print(df2)\n",
    "print(type(df2))"
   ]
  },
  {
   "cell_type": "code",
   "execution_count": 4,
   "metadata": {},
   "outputs": [
    {
     "name": "stdout",
     "output_type": "stream",
     "text": [
      "    수학  영어   음악   체육\n",
      "이름                  \n",
      "서준  90  98   85  100\n",
      "우현  80  89   95   90\n",
      "인아  70  95  100   90\n",
      "<class 'pandas.core.frame.DataFrame'>\n"
     ]
    }
   ],
   "source": [
    "sub = df2 - df\n",
    "print(sub)\n",
    "print(type(sub))"
   ]
  },
  {
   "cell_type": "code",
   "execution_count": 5,
   "metadata": {},
   "outputs": [
    {
     "name": "stdout",
     "output_type": "stream",
     "text": [
      "     수학   영어   음악   체육\n",
      "이름                    \n",
      "서준  270  294  255  300\n",
      "우현  240  267  285  270\n",
      "인아  210  285  300  270\n",
      "<class 'pandas.core.frame.DataFrame'>\n"
     ]
    }
   ],
   "source": [
    "add = df2 + df\n",
    "print(add)\n",
    "print(type(add))"
   ]
  },
  {
   "cell_type": "code",
   "execution_count": null,
   "metadata": {},
   "outputs": [],
   "source": []
  }
 ],
 "metadata": {
  "kernelspec": {
   "display_name": "PY_39",
   "language": "python",
   "name": "python3"
  },
  "language_info": {
   "codemirror_mode": {
    "name": "ipython",
    "version": 3
   },
   "file_extension": ".py",
   "mimetype": "text/x-python",
   "name": "python",
   "nbconvert_exporter": "python",
   "pygments_lexer": "ipython3",
   "version": "3.9.19"
  }
 },
 "nbformat": 4,
 "nbformat_minor": 2
}
