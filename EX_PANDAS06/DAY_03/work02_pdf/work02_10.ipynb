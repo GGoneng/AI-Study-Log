{
 "cells": [
  {
   "cell_type": "code",
   "execution_count": 1,
   "metadata": {},
   "outputs": [],
   "source": [
    "import pandas as pd"
   ]
  },
  {
   "cell_type": "code",
   "execution_count": 2,
   "metadata": {},
   "outputs": [],
   "source": [
    "exam_data = {\"이름\" : [\"서준\", \"우현\", \"인아\"], \"수학\" : [90, 80, 70], \"영어\" : [98, 89, 95], \"음악\" : [85, 95, 100], \"체육\" : [100, 90, 90]}\n",
    "df = pd.DataFrame(exam_data)"
   ]
  },
  {
   "cell_type": "code",
   "execution_count": 3,
   "metadata": {},
   "outputs": [
    {
     "name": "stdout",
     "output_type": "stream",
     "text": [
      "    수학  영어   음악   체육\n",
      "이름                  \n",
      "서준  90  98   85  100\n",
      "우현  80  89   95   90\n",
      "인아  70  95  100   90\n"
     ]
    }
   ],
   "source": [
    "df.set_index(\"이름\", inplace = True)\n",
    "print(df)"
   ]
  },
  {
   "cell_type": "code",
   "execution_count": 4,
   "metadata": {},
   "outputs": [
    {
     "name": "stdout",
     "output_type": "stream",
     "text": [
      "85\n",
      "85\n"
     ]
    }
   ],
   "source": [
    "a = df.loc[\"서준\", \"음악\"]\n",
    "print(a)\n",
    "\n",
    "b = df.iloc[0, 2]\n",
    "print(b)"
   ]
  },
  {
   "cell_type": "code",
   "execution_count": 5,
   "metadata": {},
   "outputs": [
    {
     "name": "stdout",
     "output_type": "stream",
     "text": [
      "음악     85\n",
      "체육    100\n",
      "Name: 서준, dtype: int64\n",
      "음악     85\n",
      "체육    100\n",
      "Name: 서준, dtype: int64\n",
      "음악     85\n",
      "체육    100\n",
      "Name: 서준, dtype: int64\n",
      "음악     85\n",
      "체육    100\n",
      "Name: 서준, dtype: int64\n"
     ]
    }
   ],
   "source": [
    "c = df.loc[\"서준\", [\"음악\", \"체육\"]]\n",
    "print(c)\n",
    "\n",
    "d = df.iloc[0, [2, 3]]\n",
    "print(d)\n",
    "\n",
    "e = df.loc[\"서준\", \"음악\" : \"체육\"]\n",
    "print(e)\n",
    "\n",
    "f = df.iloc[0, 2:]\n",
    "print(f)"
   ]
  },
  {
   "cell_type": "code",
   "execution_count": 6,
   "metadata": {},
   "outputs": [
    {
     "name": "stdout",
     "output_type": "stream",
     "text": [
      "    음악   체육\n",
      "이름         \n",
      "서준  85  100\n",
      "우현  95   90\n",
      "    음악   체육\n",
      "이름         \n",
      "서준  85  100\n",
      "우현  95   90\n",
      "    음악   체육\n",
      "이름         \n",
      "서준  85  100\n",
      "우현  95   90\n",
      "    음악   체육\n",
      "이름         \n",
      "서준  85  100\n",
      "우현  95   90\n"
     ]
    }
   ],
   "source": [
    "g = df.loc[[\"서준\", \"우현\"], [\"음악\", \"체육\"]]\n",
    "print(g)\n",
    "\n",
    "h = df.iloc[[0, 1], [2, 3]]\n",
    "print(h)\n",
    "\n",
    "i = df.loc[\"서준\" : \"우현\", \"음악\" : \"체육\"]\n",
    "print(i)\n",
    "\n",
    "j = df.iloc[0 : 2, 2 :]\n",
    "print(j)\n"
   ]
  },
  {
   "cell_type": "code",
   "execution_count": null,
   "metadata": {},
   "outputs": [],
   "source": []
  }
 ],
 "metadata": {
  "kernelspec": {
   "display_name": "PY_39",
   "language": "python",
   "name": "python3"
  },
  "language_info": {
   "codemirror_mode": {
    "name": "ipython",
    "version": 3
   },
   "file_extension": ".py",
   "mimetype": "text/x-python",
   "name": "python",
   "nbconvert_exporter": "python",
   "pygments_lexer": "ipython3",
   "version": "3.9.19"
  }
 },
 "nbformat": 4,
 "nbformat_minor": 2
}
