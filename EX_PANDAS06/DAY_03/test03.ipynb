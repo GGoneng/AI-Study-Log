{
 "cells": [
  {
   "cell_type": "markdown",
   "metadata": {},
   "source": [
    "- 3.1 판다스는 데이터를 분석하기 위한 패키지입니다.  \n",
    "- 3.2 판다스에서는 다양한 종류의 데이터를 데이터프레임 형태로 저장합니다.    \n",
    "- 3.3 판다스에서는 1차원 데이터를 저장하는 자료구조를 Series라고 합니다.  \n",
    "- 3.4 판다스에서는 2차원 데이터를 저장하는 자료구조를 DataFrame라고 합니다.  \n",
    "- 3.5 판다스는 내부적으로 데이터를 ndarray 형태로 저장합니다.  \n",
    "- 3.6 판다스에서는 1개 열 추출 시 자료구조는 Series 입니다.  \n",
    "- 3.7 판다스에서는 1개 행 추출 시 자료구조는 Series 입니다.  \n",
    "- 3.8 판다스에서는 2개 이상 열 또는 행 추출 시 자료구조는 DataFrame 입니다.  "
   ]
  },
  {
   "cell_type": "markdown",
   "metadata": {},
   "source": []
  }
 ],
 "metadata": {
  "language_info": {
   "name": "python"
  }
 },
 "nbformat": 4,
 "nbformat_minor": 2
}
