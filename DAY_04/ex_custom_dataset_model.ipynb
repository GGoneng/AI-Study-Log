{
 "cells": [
  {
   "cell_type": "markdown",
   "metadata": {},
   "source": [
    "#### 사용자 정의 데이터셋과 모델과 학습\n",
    "- iris.csv ==> 사용자 정의 데이터셋\n",
    "- DNN 모델 ==> 사용자 정의 모델"
   ]
  },
  {
   "cell_type": "markdown",
   "metadata": {},
   "source": [
    "[1] 모듈 로딩 및 데이터 준비 <hr>"
   ]
  },
  {
   "cell_type": "code",
   "execution_count": 87,
   "metadata": {},
   "outputs": [],
   "source": [
    "# 모듈 로딩\n",
    "import torch\n",
    "import torch.nn as nn\n",
    "import torch.nn.functional as F\n",
    "import torch.optim as optim\n",
    "from torchmetrics.classification import F1Score\n",
    "from torchinfo import summary\n",
    "\n",
    "from torch.utils.data import Dataset, DataLoader\n",
    "\n",
    "import pandas as pd\n",
    "from sklearn.preprocessing import LabelEncoder      # 타겟 컬럼 수치화화"
   ]
  },
  {
   "cell_type": "code",
   "execution_count": 88,
   "metadata": {},
   "outputs": [],
   "source": [
    "# 데이터\n",
    "DATA_FILE = '../../Data/iris.csv'"
   ]
  },
  {
   "cell_type": "code",
   "execution_count": 89,
   "metadata": {},
   "outputs": [
    {
     "data": {
      "text/html": [
       "<div>\n",
       "<style scoped>\n",
       "    .dataframe tbody tr th:only-of-type {\n",
       "        vertical-align: middle;\n",
       "    }\n",
       "\n",
       "    .dataframe tbody tr th {\n",
       "        vertical-align: top;\n",
       "    }\n",
       "\n",
       "    .dataframe thead th {\n",
       "        text-align: right;\n",
       "    }\n",
       "</style>\n",
       "<table border=\"1\" class=\"dataframe\">\n",
       "  <thead>\n",
       "    <tr style=\"text-align: right;\">\n",
       "      <th></th>\n",
       "      <th>sepal.length</th>\n",
       "      <th>sepal.width</th>\n",
       "      <th>petal.length</th>\n",
       "      <th>petal.width</th>\n",
       "      <th>variety</th>\n",
       "    </tr>\n",
       "  </thead>\n",
       "  <tbody>\n",
       "    <tr>\n",
       "      <th>0</th>\n",
       "      <td>5.1</td>\n",
       "      <td>3.5</td>\n",
       "      <td>1.4</td>\n",
       "      <td>0.2</td>\n",
       "      <td>Setosa</td>\n",
       "    </tr>\n",
       "    <tr>\n",
       "      <th>1</th>\n",
       "      <td>4.9</td>\n",
       "      <td>3.0</td>\n",
       "      <td>1.4</td>\n",
       "      <td>0.2</td>\n",
       "      <td>Setosa</td>\n",
       "    </tr>\n",
       "  </tbody>\n",
       "</table>\n",
       "</div>"
      ],
      "text/plain": [
       "   sepal.length  sepal.width  petal.length  petal.width variety\n",
       "0           5.1          3.5           1.4          0.2  Setosa\n",
       "1           4.9          3.0           1.4          0.2  Setosa"
      ]
     },
     "execution_count": 89,
     "metadata": {},
     "output_type": "execute_result"
    }
   ],
   "source": [
    "# CSV ==> DataFrame\n",
    "irisDF = pd.read_csv(DATA_FILE)\n",
    "irisDF.head(2)"
   ]
  },
  {
   "cell_type": "code",
   "execution_count": 90,
   "metadata": {},
   "outputs": [
    {
     "data": {
      "text/html": [
       "<div>\n",
       "<style scoped>\n",
       "    .dataframe tbody tr th:only-of-type {\n",
       "        vertical-align: middle;\n",
       "    }\n",
       "\n",
       "    .dataframe tbody tr th {\n",
       "        vertical-align: top;\n",
       "    }\n",
       "\n",
       "    .dataframe thead th {\n",
       "        text-align: right;\n",
       "    }\n",
       "</style>\n",
       "<table border=\"1\" class=\"dataframe\">\n",
       "  <thead>\n",
       "    <tr style=\"text-align: right;\">\n",
       "      <th></th>\n",
       "      <th>sepal.length</th>\n",
       "      <th>sepal.width</th>\n",
       "      <th>petal.length</th>\n",
       "      <th>petal.width</th>\n",
       "      <th>variety</th>\n",
       "    </tr>\n",
       "  </thead>\n",
       "  <tbody>\n",
       "    <tr>\n",
       "      <th>0</th>\n",
       "      <td>5.1</td>\n",
       "      <td>3.5</td>\n",
       "      <td>1.4</td>\n",
       "      <td>0.2</td>\n",
       "      <td>0</td>\n",
       "    </tr>\n",
       "    <tr>\n",
       "      <th>1</th>\n",
       "      <td>4.9</td>\n",
       "      <td>3.0</td>\n",
       "      <td>1.4</td>\n",
       "      <td>0.2</td>\n",
       "      <td>0</td>\n",
       "    </tr>\n",
       "    <tr>\n",
       "      <th>2</th>\n",
       "      <td>4.7</td>\n",
       "      <td>3.2</td>\n",
       "      <td>1.3</td>\n",
       "      <td>0.2</td>\n",
       "      <td>0</td>\n",
       "    </tr>\n",
       "  </tbody>\n",
       "</table>\n",
       "</div>"
      ],
      "text/plain": [
       "   sepal.length  sepal.width  petal.length  petal.width  variety\n",
       "0           5.1          3.5           1.4          0.2        0\n",
       "1           4.9          3.0           1.4          0.2        0\n",
       "2           4.7          3.2           1.3          0.2        0"
      ]
     },
     "execution_count": 90,
     "metadata": {},
     "output_type": "execute_result"
    }
   ],
   "source": [
    "# 타겟 컬럼 수치화 --> LabelEncoder\n",
    "encoder = LabelEncoder()\n",
    "encoder.fit(irisDF['variety'])\n",
    "\n",
    "irisDF['variety'] = encoder.transform(irisDF['variety'])\n",
    "irisDF.head(3)"
   ]
  },
  {
   "cell_type": "markdown",
   "metadata": {},
   "source": [
    "[2] 사용자 정의 데이터셋 클래스 생성 <hr>"
   ]
  },
  {
   "cell_type": "code",
   "execution_count": 91,
   "metadata": {},
   "outputs": [],
   "source": [
    "# ------------------------------------------------\n",
    "# 클래스 목적 : 학습용 데이터셋 텐서화 및 전처리\n",
    "# 클래스 이름 : CustomDataSet\n",
    "# 부모 클래스 : torch.utils.data.Dataset\n",
    "# 매개 변수   : featureDF, targetDF \n",
    "# ------------------------------------------------"
   ]
  },
  {
   "cell_type": "code",
   "execution_count": 92,
   "metadata": {},
   "outputs": [],
   "source": [
    "\n",
    "\n",
    "class CustomDataset(Dataset):\n",
    "    # 데이터 로딩 및 전처리 진행과 인스턴스 생성 메서드\n",
    "    def __init__(self, featureDF, targetDF):\n",
    "        super().__init__()\n",
    "        self.featureDF = featureDF\n",
    "        self.targetDF = targetDF\n",
    "        self.n_rows = featureDF.shape[0]\n",
    "        self.n_features = featureDF.shape[1]\n",
    "\n",
    "    \n",
    "    # 데이터의 개수 반환 메서드\n",
    "    def __len__(self):\n",
    "        return self.n_rows\n",
    "\n",
    "    \n",
    "    # 특정 index의 데이터와 타겟 반환 메서드 => Tensor 반환!!   \n",
    "    def __getitem__(self, idx):\n",
    "        featureTS = torch.FloatTensor(self.featureDF.iloc[idx].values)\n",
    "        targetTS = torch.FloatTensor(self.targetDF.iloc[idx].values)\n",
    "        return featureTS, targetTS"
   ]
  },
  {
   "cell_type": "code",
   "execution_count": 93,
   "metadata": {},
   "outputs": [],
   "source": [
    "# -----------------------------------------\n",
    "# 함수 기능 : 파일 확장자별 데이터프레임 변환 기능\n",
    "# 함수 이름 : convertDataFrame\n",
    "# 매개 변수 : data_path 파일 경로\n",
    "# 함수 결과 : DataFrame\n",
    "# -----------------------------------------\n",
    "\n",
    "def convertDataFrame(data_path, exit_header = 0):\n",
    "    ext = data_path.rsplit('.')[-1]\n",
    "    if ext == 'csv':\n",
    "        return pd.read_csv(data_path, header = exit_header)\n",
    "    \n",
    "    elif ext == 'json':\n",
    "        return pd.read_json(data_path, header = exit_header)\n",
    "\n",
    "    elif ext in ['xlsx', 'xls']:\n",
    "        return pd.read_excel(data_path, header = exit_header)\n",
    "\n",
    "    else:\n",
    "        return pd.read_table(data_path, header = exit_header)"
   ]
  },
  {
   "cell_type": "code",
   "execution_count": 94,
   "metadata": {},
   "outputs": [],
   "source": [
    "# -----------------------------------------\n",
    "# 클래스 기능 : 파일 기반 데이터셋\n",
    "# 클래스 이름 : FileDataset\n",
    "# 매개 변수 : data_path 파일 경로\n",
    "# 부모 클래스 : utils.data.Dataset\n",
    "# -----------------------------------------\n",
    "\n",
    "class FileDataset(Dataset):\n",
    "    # 데이터 로딩 및 전처리 진행과 인스턴스 생성 메서드\n",
    "    def __init__(self, data_path):\n",
    "        super().__init__()\n",
    "        \n",
    "        dataDF = convertDataFrame(data_path)\n",
    "        self.featuresDF = dataDF[dataDF.columns[:-1]]\n",
    "        self.targetDF = dataDF[dataDF.columns[[-1]]]\n",
    "        \n",
    "        self.n_features = dataDF.shape[1]\n",
    "        self.n_rows = self.featuresDF.shape[0]\n",
    "    \n",
    "    # 데이터의 개수 반환 메서드\n",
    "    def __len__(self):\n",
    "        return self.n_rows\n",
    "\n",
    "    \n",
    "    # 특정 index의 데이터와 타겟 반환 메서드 => Tensor 반환!!   \n",
    "    def __getitem__(self, idx):\n",
    "        featureTS = torch.FloatTensor(self.featureDF.iloc[idx].values)\n",
    "        targetTS = torch.FloatTensor(self.targetDF.iloc[idx].values)\n",
    "        return featureTS, targetTS"
   ]
  },
  {
   "cell_type": "markdown",
   "metadata": {},
   "source": [
    "[3] 데이터셋 인스턴스 생성 <hr>"
   ]
  },
  {
   "cell_type": "code",
   "execution_count": 104,
   "metadata": {},
   "outputs": [
    {
     "name": "stdout",
     "output_type": "stream",
     "text": [
      "featureDF => (150, 4), targetDF => (150, 1)\n"
     ]
    }
   ],
   "source": [
    "# 피쳐와 타겟 추출\n",
    "featureDF, targetDF = irisDF[irisDF.columns[:-1]], irisDF[irisDF.columns[[-1]]]\n",
    "print(f\"featureDF => {featureDF.shape}, targetDF => {targetDF.shape}\")\n"
   ]
  },
  {
   "cell_type": "code",
   "execution_count": 96,
   "metadata": {},
   "outputs": [],
   "source": [
    "# IRIS 데이터셋 인스턴스 생성\n",
    "irisDS = CustomDataset(featureDF, targetDF)"
   ]
  },
  {
   "cell_type": "code",
   "execution_count": 97,
   "metadata": {},
   "outputs": [
    {
     "data": {
      "text/plain": [
       "(4, 150)"
      ]
     },
     "execution_count": 97,
     "metadata": {},
     "output_type": "execute_result"
    }
   ],
   "source": [
    "# IRIS 데이터셋 속성\n",
    "irisDS.n_features, irisDS.n_rows"
   ]
  },
  {
   "cell_type": "code",
   "execution_count": 98,
   "metadata": {},
   "outputs": [
    {
     "data": {
      "text/plain": [
       "(tensor([5.1000, 3.5000, 1.4000, 0.2000]), tensor([0.]))"
      ]
     },
     "execution_count": 98,
     "metadata": {},
     "output_type": "execute_result"
    }
   ],
   "source": [
    "# IRIS 데이터셋 메서드\n",
    "irisDS[0]"
   ]
  },
  {
   "cell_type": "markdown",
   "metadata": {},
   "source": [
    "[4] 데이터로더 인스턴스 생성"
   ]
  },
  {
   "cell_type": "code",
   "execution_count": 99,
   "metadata": {},
   "outputs": [],
   "source": [
    "## 필요한 것 : Dataset 인스턴스, Batch_size\n",
    "irisDL = DataLoader(irisDS, batch_size = 10)"
   ]
  },
  {
   "cell_type": "code",
   "execution_count": 100,
   "metadata": {},
   "outputs": [
    {
     "name": "stdout",
     "output_type": "stream",
     "text": [
      "torch.Size([10, 4]) torch.Size([10, 1])\n"
     ]
    }
   ],
   "source": [
    "for dataTS, targetTS in irisDL:\n",
    "    print(dataTS.shape, targetTS.shape)\n",
    "    break\n"
   ]
  },
  {
   "cell_type": "markdown",
   "metadata": {},
   "source": [
    "[5] 모델 준비 <hr>"
   ]
  },
  {
   "cell_type": "code",
   "execution_count": 101,
   "metadata": {},
   "outputs": [],
   "source": [
    "# --------------------------------------------------------------\n",
    "# 모델 이름 : CustomModel\n",
    "# 부모 클래스 : nn.Module\n",
    "# 매개 변수 : None\n",
    "# 모델 구조\n",
    "# - 입력층 : 입력 4개     출력 10개    AF ReLU -> LeakyReLU\n",
    "# - 은닉층 : 입력 10개    출력 30개    AF ReLU -> LeakyReLU\n",
    "# - 출력층 : 입력 30개    출력 3개     AF 분류 - 다중 softmax\n",
    "# --------------------------------------------------------------\n",
    "\n",
    "class CustomModel(nn.Module):\n",
    "\n",
    "    # 모델 구성 및 인스턴스 생성 메서드\n",
    "    def __init__(self):\n",
    "        super().__init__()\n",
    "        self.in_layer = nn.Linear(4, 10)\n",
    "        self.hidden_layer = nn.Linear(10, 30)\n",
    "        self.out_layer = nn.Linear(30, 3)\n",
    "\n",
    "    # 순방향 학습 메서드\n",
    "    def forward(self, x):\n",
    "        y = F.relu(self.in_layer(x))\n",
    "        y = F.relu(self.hidden_layer(y))\n",
    "        \n",
    "        return self.out_layer(y)\n"
   ]
  },
  {
   "cell_type": "code",
   "execution_count": 102,
   "metadata": {},
   "outputs": [
    {
     "name": "stdout",
     "output_type": "stream",
     "text": [
      "CustomModel(\n",
      "  (in_layer): Linear(in_features=4, out_features=10, bias=True)\n",
      "  (hidden_layer): Linear(in_features=10, out_features=30, bias=True)\n",
      "  (out_layer): Linear(in_features=30, out_features=3, bias=True)\n",
      ")\n"
     ]
    },
    {
     "data": {
      "text/plain": [
       "==========================================================================================\n",
       "Layer (type:depth-idx)                   Output Shape              Param #\n",
       "==========================================================================================\n",
       "CustomModel                              [100000, 3]               --\n",
       "├─Linear: 1-1                            [100000, 10]              50\n",
       "├─Linear: 1-2                            [100000, 30]              330\n",
       "├─Linear: 1-3                            [100000, 3]               93\n",
       "==========================================================================================\n",
       "Total params: 473\n",
       "Trainable params: 473\n",
       "Non-trainable params: 0\n",
       "Total mult-adds (M): 47.30\n",
       "==========================================================================================\n",
       "Input size (MB): 1.60\n",
       "Forward/backward pass size (MB): 34.40\n",
       "Params size (MB): 0.00\n",
       "Estimated Total Size (MB): 36.00\n",
       "=========================================================================================="
      ]
     },
     "execution_count": 102,
     "metadata": {},
     "output_type": "execute_result"
    }
   ],
   "source": [
    "### 모델 인스턴스 생성\n",
    "model = CustomModel()\n",
    "print(model)\n",
    "summary(model, input_size = (100000, 4))"
   ]
  },
  {
   "cell_type": "markdown",
   "metadata": {},
   "source": [
    "[6] 학습 <hr>"
   ]
  },
  {
   "cell_type": "code",
   "execution_count": 103,
   "metadata": {},
   "outputs": [
    {
     "name": "stdout",
     "output_type": "stream",
     "text": [
      "torch.Size([10, 4]) torch.Size([10, 1])\n",
      "torch.Size([10, 3]) torch.Size([10])\n",
      "torch.Size([10, 4]) torch.Size([10])\n",
      "torch.Size([10, 3]) torch.Size([10])\n",
      "torch.Size([10, 4]) torch.Size([10])\n",
      "torch.Size([10, 3]) torch.Size([10])\n",
      "torch.Size([10, 4]) torch.Size([10])\n",
      "torch.Size([10, 3]) torch.Size([10])\n",
      "torch.Size([10, 4]) torch.Size([10])\n",
      "torch.Size([10, 3]) torch.Size([10])\n",
      "torch.Size([10, 4]) torch.Size([10])\n",
      "torch.Size([10, 3]) torch.Size([10])\n",
      "torch.Size([10, 4]) torch.Size([10])\n",
      "torch.Size([10, 3]) torch.Size([10])\n",
      "torch.Size([10, 4]) torch.Size([10])\n",
      "torch.Size([10, 3]) torch.Size([10])\n",
      "torch.Size([10, 4]) torch.Size([10])\n",
      "torch.Size([10, 3]) torch.Size([10])\n",
      "torch.Size([10, 4]) torch.Size([10])\n",
      "torch.Size([10, 3]) torch.Size([10])\n",
      "torch.Size([10, 4]) torch.Size([10])\n",
      "torch.Size([10, 3]) torch.Size([10])\n",
      "torch.Size([10, 4]) torch.Size([10])\n",
      "torch.Size([10, 3]) torch.Size([10])\n",
      "torch.Size([10, 4]) torch.Size([10])\n",
      "torch.Size([10, 3]) torch.Size([10])\n",
      "torch.Size([10, 4]) torch.Size([10])\n",
      "torch.Size([10, 3]) torch.Size([10])\n",
      "torch.Size([10, 4]) torch.Size([10])\n",
      "torch.Size([10, 3]) torch.Size([10])\n",
      "torch.Size([10, 4]) torch.Size([10])\n",
      "torch.Size([10, 3]) torch.Size([10])\n",
      "torch.Size([10, 4]) torch.Size([10])\n",
      "torch.Size([10, 3]) torch.Size([10])\n",
      "torch.Size([10, 4]) torch.Size([10])\n",
      "torch.Size([10, 3]) torch.Size([10])\n",
      "torch.Size([10, 4]) torch.Size([10])\n",
      "torch.Size([10, 3]) torch.Size([10])\n",
      "torch.Size([10, 4]) torch.Size([10])\n",
      "torch.Size([10, 3]) torch.Size([10])\n",
      "torch.Size([10, 4]) torch.Size([10])\n",
      "torch.Size([10, 3]) torch.Size([10])\n",
      "torch.Size([10, 4]) torch.Size([10])\n",
      "torch.Size([10, 3]) torch.Size([10])\n",
      "torch.Size([10, 4]) torch.Size([10])\n",
      "torch.Size([10, 3]) torch.Size([10])\n",
      "torch.Size([10, 4]) torch.Size([10])\n",
      "torch.Size([10, 3]) torch.Size([10])\n",
      "torch.Size([10, 4]) torch.Size([10])\n",
      "torch.Size([10, 3]) torch.Size([10])\n",
      "torch.Size([10, 4]) torch.Size([10])\n",
      "torch.Size([10, 3]) torch.Size([10])\n",
      "torch.Size([10, 4]) torch.Size([10])\n",
      "torch.Size([10, 3]) torch.Size([10])\n",
      "torch.Size([10, 4]) torch.Size([10])\n",
      "torch.Size([10, 3]) torch.Size([10])\n",
      "torch.Size([10, 4]) torch.Size([10])\n",
      "torch.Size([10, 3]) torch.Size([10])\n",
      "torch.Size([10, 4]) torch.Size([10])\n",
      "torch.Size([10, 3]) torch.Size([10])\n",
      "torch.Size([10, 4]) torch.Size([10])\n",
      "torch.Size([10, 3]) torch.Size([10])\n",
      "torch.Size([10, 4]) torch.Size([10])\n",
      "torch.Size([10, 3]) torch.Size([10])\n",
      "torch.Size([10, 4]) torch.Size([10])\n",
      "torch.Size([10, 3]) torch.Size([10])\n",
      "torch.Size([10, 4]) torch.Size([10])\n",
      "torch.Size([10, 3]) torch.Size([10])\n",
      "torch.Size([10, 4]) torch.Size([10])\n",
      "torch.Size([10, 3]) torch.Size([10])\n",
      "torch.Size([10, 4]) torch.Size([10])\n",
      "torch.Size([10, 3]) torch.Size([10])\n",
      "torch.Size([10, 4]) torch.Size([10])\n",
      "torch.Size([10, 3]) torch.Size([10])\n",
      "torch.Size([10, 4]) torch.Size([10])\n",
      "torch.Size([10, 3]) torch.Size([10])\n",
      "torch.Size([10, 4]) torch.Size([10])\n",
      "torch.Size([10, 3]) torch.Size([10])\n",
      "torch.Size([10, 4]) torch.Size([10])\n",
      "torch.Size([10, 3]) torch.Size([10])\n",
      "torch.Size([10, 4]) torch.Size([10])\n",
      "torch.Size([10, 3]) torch.Size([10])\n",
      "torch.Size([10, 4]) torch.Size([10])\n",
      "torch.Size([10, 3]) torch.Size([10])\n",
      "torch.Size([10, 4]) torch.Size([10])\n",
      "torch.Size([10, 3]) torch.Size([10])\n",
      "torch.Size([10, 4]) torch.Size([10])\n",
      "torch.Size([10, 3]) torch.Size([10])\n",
      "torch.Size([10, 4]) torch.Size([10])\n",
      "torch.Size([10, 3]) torch.Size([10])\n",
      "torch.Size([10, 4]) torch.Size([10])\n",
      "torch.Size([10, 3]) torch.Size([10])\n",
      "torch.Size([10, 4]) torch.Size([10])\n",
      "torch.Size([10, 3]) torch.Size([10])\n",
      "torch.Size([10, 4]) torch.Size([10])\n",
      "torch.Size([10, 3]) torch.Size([10])\n",
      "torch.Size([10, 4]) torch.Size([10])\n",
      "torch.Size([10, 3]) torch.Size([10])\n",
      "torch.Size([10, 4]) torch.Size([10])\n",
      "torch.Size([10, 3]) torch.Size([10])\n",
      "torch.Size([10, 4]) torch.Size([10])\n",
      "torch.Size([10, 3]) torch.Size([10])\n",
      "torch.Size([10, 4]) torch.Size([10])\n",
      "torch.Size([10, 3]) torch.Size([10])\n",
      "torch.Size([10, 4]) torch.Size([10])\n",
      "torch.Size([10, 3]) torch.Size([10])\n",
      "torch.Size([10, 4]) torch.Size([10])\n",
      "torch.Size([10, 3]) torch.Size([10])\n",
      "torch.Size([10, 4]) torch.Size([10])\n",
      "torch.Size([10, 3]) torch.Size([10])\n",
      "torch.Size([10, 4]) torch.Size([10])\n",
      "torch.Size([10, 3]) torch.Size([10])\n",
      "torch.Size([10, 4]) torch.Size([10])\n",
      "torch.Size([10, 3]) torch.Size([10])\n",
      "torch.Size([10, 4]) torch.Size([10])\n",
      "torch.Size([10, 3]) torch.Size([10])\n",
      "torch.Size([10, 4]) torch.Size([10])\n",
      "torch.Size([10, 3]) torch.Size([10])\n",
      "torch.Size([10, 4]) torch.Size([10])\n",
      "torch.Size([10, 3]) torch.Size([10])\n",
      "torch.Size([10, 4]) torch.Size([10])\n",
      "torch.Size([10, 3]) torch.Size([10])\n",
      "torch.Size([10, 4]) torch.Size([10])\n",
      "torch.Size([10, 3]) torch.Size([10])\n",
      "torch.Size([10, 4]) torch.Size([10])\n",
      "torch.Size([10, 3]) torch.Size([10])\n",
      "torch.Size([10, 4]) torch.Size([10])\n",
      "torch.Size([10, 3]) torch.Size([10])\n",
      "torch.Size([10, 4]) torch.Size([10])\n",
      "torch.Size([10, 3]) torch.Size([10])\n",
      "torch.Size([10, 4]) torch.Size([10])\n",
      "torch.Size([10, 3]) torch.Size([10])\n",
      "torch.Size([10, 4]) torch.Size([10])\n",
      "torch.Size([10, 3]) torch.Size([10])\n",
      "torch.Size([10, 4]) torch.Size([10])\n",
      "torch.Size([10, 3]) torch.Size([10])\n"
     ]
    },
    {
     "name": "stdout",
     "output_type": "stream",
     "text": [
      "torch.Size([10, 4]) torch.Size([10])\n",
      "torch.Size([10, 3]) torch.Size([10])\n",
      "torch.Size([10, 4]) torch.Size([10])\n",
      "torch.Size([10, 3]) torch.Size([10])\n",
      "torch.Size([10, 4]) torch.Size([10])\n",
      "torch.Size([10, 3]) torch.Size([10])\n",
      "torch.Size([10, 4]) torch.Size([10])\n",
      "torch.Size([10, 3]) torch.Size([10])\n",
      "torch.Size([10, 4]) torch.Size([10])\n",
      "torch.Size([10, 3]) torch.Size([10])\n",
      "torch.Size([10, 4]) torch.Size([10])\n",
      "torch.Size([10, 3]) torch.Size([10])\n",
      "torch.Size([10, 4]) torch.Size([10])\n",
      "torch.Size([10, 3]) torch.Size([10])\n",
      "torch.Size([10, 4]) torch.Size([10])\n",
      "torch.Size([10, 3]) torch.Size([10])\n",
      "torch.Size([10, 4]) torch.Size([10])\n",
      "torch.Size([10, 3]) torch.Size([10])\n",
      "torch.Size([10, 4]) torch.Size([10])\n",
      "torch.Size([10, 3]) torch.Size([10])\n",
      "torch.Size([10, 4]) torch.Size([10])\n",
      "torch.Size([10, 3]) torch.Size([10])\n",
      "torch.Size([10, 4]) torch.Size([10])\n",
      "torch.Size([10, 3]) torch.Size([10])\n",
      "torch.Size([10, 4]) torch.Size([10])\n",
      "torch.Size([10, 3]) torch.Size([10])\n",
      "torch.Size([10, 4]) torch.Size([10])\n",
      "torch.Size([10, 3]) torch.Size([10])\n",
      "torch.Size([10, 4]) torch.Size([10])\n",
      "torch.Size([10, 3]) torch.Size([10])\n",
      "torch.Size([10, 4]) torch.Size([10])\n",
      "torch.Size([10, 3]) torch.Size([10])\n",
      "torch.Size([10, 4]) torch.Size([10])\n",
      "torch.Size([10, 3]) torch.Size([10])\n",
      "torch.Size([10, 4]) torch.Size([10])\n",
      "torch.Size([10, 3]) torch.Size([10])\n",
      "torch.Size([10, 4]) torch.Size([10])\n",
      "torch.Size([10, 3]) torch.Size([10])\n",
      "torch.Size([10, 4]) torch.Size([10])\n",
      "torch.Size([10, 3]) torch.Size([10])\n",
      "torch.Size([10, 4]) torch.Size([10])\n",
      "torch.Size([10, 3]) torch.Size([10])\n",
      "torch.Size([10, 4]) torch.Size([10])\n",
      "torch.Size([10, 3]) torch.Size([10])\n",
      "torch.Size([10, 4]) torch.Size([10])\n",
      "torch.Size([10, 3]) torch.Size([10])\n",
      "torch.Size([10, 4]) torch.Size([10])\n",
      "torch.Size([10, 3]) torch.Size([10])\n",
      "torch.Size([10, 4]) torch.Size([10])\n",
      "torch.Size([10, 3]) torch.Size([10])\n",
      "torch.Size([10, 4]) torch.Size([10])\n",
      "torch.Size([10, 3]) torch.Size([10])\n",
      "torch.Size([10, 4]) torch.Size([10])\n",
      "torch.Size([10, 3]) torch.Size([10])\n",
      "torch.Size([10, 4]) torch.Size([10])\n",
      "torch.Size([10, 3]) torch.Size([10])\n",
      "torch.Size([10, 4]) torch.Size([10])\n",
      "torch.Size([10, 3]) torch.Size([10])\n",
      "torch.Size([10, 4]) torch.Size([10])\n",
      "torch.Size([10, 3]) torch.Size([10])\n",
      "torch.Size([10, 4]) torch.Size([10])\n",
      "torch.Size([10, 3]) torch.Size([10])\n",
      "torch.Size([10, 4]) torch.Size([10])\n",
      "torch.Size([10, 3]) torch.Size([10])\n",
      "torch.Size([10, 4]) torch.Size([10])\n",
      "torch.Size([10, 3]) torch.Size([10])\n",
      "torch.Size([10, 4]) torch.Size([10])\n",
      "torch.Size([10, 3]) torch.Size([10])\n",
      "torch.Size([10, 4]) torch.Size([10])\n",
      "torch.Size([10, 3]) torch.Size([10])\n",
      "torch.Size([10, 4]) torch.Size([10])\n",
      "torch.Size([10, 3]) torch.Size([10])\n",
      "torch.Size([10, 4]) torch.Size([10])\n",
      "torch.Size([10, 3]) torch.Size([10])\n",
      "torch.Size([10, 4]) torch.Size([10])\n",
      "torch.Size([10, 3]) torch.Size([10])\n",
      "torch.Size([10, 4]) torch.Size([10])\n",
      "torch.Size([10, 3]) torch.Size([10])\n",
      "torch.Size([10, 4]) torch.Size([10])\n",
      "torch.Size([10, 3]) torch.Size([10])\n",
      "torch.Size([10, 4]) torch.Size([10])\n",
      "torch.Size([10, 3]) torch.Size([10])\n",
      "torch.Size([10, 4]) torch.Size([10])\n",
      "torch.Size([10, 3]) torch.Size([10])\n",
      "torch.Size([10, 4]) torch.Size([10])\n",
      "torch.Size([10, 3]) torch.Size([10])\n",
      "torch.Size([10, 4]) torch.Size([10])\n",
      "torch.Size([10, 3]) torch.Size([10])\n",
      "torch.Size([10, 4]) torch.Size([10])\n",
      "torch.Size([10, 3]) torch.Size([10])\n",
      "torch.Size([10, 4]) torch.Size([10])\n",
      "torch.Size([10, 3]) torch.Size([10])\n",
      "torch.Size([10, 4]) torch.Size([10])\n",
      "torch.Size([10, 3]) torch.Size([10])\n",
      "torch.Size([10, 4]) torch.Size([10])\n",
      "torch.Size([10, 3]) torch.Size([10])\n",
      "torch.Size([10, 4]) torch.Size([10])\n",
      "torch.Size([10, 3]) torch.Size([10])\n",
      "torch.Size([10, 4]) torch.Size([10])\n",
      "torch.Size([10, 3]) torch.Size([10])\n",
      "torch.Size([10, 4]) torch.Size([10])\n",
      "torch.Size([10, 3]) torch.Size([10])\n",
      "torch.Size([10, 4]) torch.Size([10])\n",
      "torch.Size([10, 3]) torch.Size([10])\n",
      "torch.Size([10, 4]) torch.Size([10])\n",
      "torch.Size([10, 3]) torch.Size([10])\n",
      "torch.Size([10, 4]) torch.Size([10])\n",
      "torch.Size([10, 3]) torch.Size([10])\n",
      "torch.Size([10, 4]) torch.Size([10])\n",
      "torch.Size([10, 3]) torch.Size([10])\n",
      "torch.Size([10, 4]) torch.Size([10])\n",
      "torch.Size([10, 3]) torch.Size([10])\n",
      "torch.Size([10, 4]) torch.Size([10])\n",
      "torch.Size([10, 3]) torch.Size([10])\n",
      "torch.Size([10, 4]) torch.Size([10])\n",
      "torch.Size([10, 3]) torch.Size([10])\n",
      "torch.Size([10, 4]) torch.Size([10])\n",
      "torch.Size([10, 3]) torch.Size([10])\n",
      "torch.Size([10, 4]) torch.Size([10])\n",
      "torch.Size([10, 3]) torch.Size([10])\n",
      "torch.Size([10, 4]) torch.Size([10])\n",
      "torch.Size([10, 3]) torch.Size([10])\n",
      "torch.Size([10, 4]) torch.Size([10])\n",
      "torch.Size([10, 3]) torch.Size([10])\n",
      "torch.Size([10, 4]) torch.Size([10])\n",
      "torch.Size([10, 3]) torch.Size([10])\n",
      "torch.Size([10, 4]) torch.Size([10])\n",
      "torch.Size([10, 3]) torch.Size([10])\n",
      "torch.Size([10, 4]) torch.Size([10])\n",
      "torch.Size([10, 3]) torch.Size([10])\n",
      "torch.Size([10, 4]) torch.Size([10])\n",
      "torch.Size([10, 3]) torch.Size([10])\n",
      "torch.Size([10, 4]) torch.Size([10])\n",
      "torch.Size([10, 3]) torch.Size([10])\n",
      "torch.Size([10, 4]) torch.Size([10])\n",
      "torch.Size([10, 3]) torch.Size([10])\n",
      "torch.Size([10, 4]) torch.Size([10])\n",
      "torch.Size([10, 3]) torch.Size([10])\n",
      "torch.Size([10, 4]) torch.Size([10])\n",
      "torch.Size([10, 3]) torch.Size([10])\n",
      "torch.Size([10, 4]) torch.Size([10])\n",
      "torch.Size([10, 3]) torch.Size([10])\n",
      "torch.Size([10, 4]) torch.Size([10])\n",
      "torch.Size([10, 3]) torch.Size([10])\n",
      "torch.Size([10, 4]) torch.Size([10])\n",
      "torch.Size([10, 3]) torch.Size([10])\n",
      "torch.Size([10, 4]) torch.Size([10])\n",
      "torch.Size([10, 3]) torch.Size([10])\n",
      "torch.Size([10, 4]) torch.Size([10])\n",
      "torch.Size([10, 3]) torch.Size([10])\n",
      "torch.Size([10, 4]) torch.Size([10])\n",
      "torch.Size([10, 3]) torch.Size([10])\n",
      "torch.Size([10, 4]) torch.Size([10])\n",
      "torch.Size([10, 3]) torch.Size([10])\n",
      "torch.Size([10, 4]) torch.Size([10])\n",
      "torch.Size([10, 3]) torch.Size([10])\n",
      "torch.Size([10, 4]) torch.Size([10])\n",
      "torch.Size([10, 3]) torch.Size([10])\n",
      "torch.Size([10, 4]) torch.Size([10])\n",
      "torch.Size([10, 3]) torch.Size([10])\n",
      "torch.Size([10, 4]) torch.Size([10])\n",
      "torch.Size([10, 3]) torch.Size([10])\n",
      "torch.Size([10, 4]) torch.Size([10])\n",
      "torch.Size([10, 3]) torch.Size([10])\n"
     ]
    }
   ],
   "source": [
    "## 배치크기만큼 데이터와 타겟 추출해서 학습 진행\n",
    "TS_loss, TS_score = [[], []], [[], []] \n",
    "\n",
    "for epoch in range(10):\n",
    "    loss_total, score_total = 0, 0\n",
    "\n",
    "    for dataTS, targetTs in irisDL:\n",
    "\n",
    "        # 배치 크기만큼의 학습 데이터\n",
    "        print(dataTS.shape, targetTS.shape)\n",
    "\n",
    "        # 배치 크기만큼 학습 진행 \n",
    "        pre_y = model(dataTS)\n",
    "        targetTS = targetTS.reshape(-1).long()\n",
    "        print(pre_y.shape, targetTS.shape)\n",
    "\n",
    "        # 손실 계산\n",
    "        loss = nn.CrossEntropyLoss()(pre_y, targetTS)\n",
    "        loss_total += loss"
   ]
  },
  {
   "cell_type": "code",
   "execution_count": null,
   "metadata": {},
   "outputs": [],
   "source": []
  }
 ],
 "metadata": {
  "kernelspec": {
   "display_name": "TORCH_38",
   "language": "python",
   "name": "python3"
  },
  "language_info": {
   "codemirror_mode": {
    "name": "ipython",
    "version": 3
   },
   "file_extension": ".py",
   "mimetype": "text/x-python",
   "name": "python",
   "nbconvert_exporter": "python",
   "pygments_lexer": "ipython3",
   "version": "3.8.19"
  }
 },
 "nbformat": 4,
 "nbformat_minor": 2
}
