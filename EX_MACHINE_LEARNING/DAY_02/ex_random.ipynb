{
 "cells": [
  {
   "cell_type": "markdown",
   "metadata": {},
   "source": [
    "#### 임의의 숫자 즉, 난수 추출\n",
    "- random 모듈 존재\n",
    "- 0.0 ~ 1.0 실수 추출\n",
    "- n ~ m 정수 추출\n",
    "- random값 고정 ==> seed 기능"
   ]
  },
  {
   "cell_type": "code",
   "execution_count": 2,
   "metadata": {},
   "outputs": [],
   "source": [
    "import random"
   ]
  },
  {
   "cell_type": "code",
   "execution_count": 7,
   "metadata": {},
   "outputs": [
    {
     "name": "stdout",
     "output_type": "stream",
     "text": [
      "40\n",
      "18\n",
      "69\n",
      "74\n",
      "8\n",
      "37\n",
      "11\n",
      "38\n",
      "59\n",
      "33\n"
     ]
    }
   ],
   "source": [
    "for _ in range(10):\n",
    "    print(random.randint(1, 100))"
   ]
  },
  {
   "cell_type": "code",
   "execution_count": 6,
   "metadata": {},
   "outputs": [
    {
     "name": "stdout",
     "output_type": "stream",
     "text": [
      "0.9472584435127858\n",
      "0.35849386851087073\n",
      "0.9237835479269165\n",
      "0.1249308359952862\n",
      "0.9420186044904721\n",
      "0.5065644041876303\n",
      "0.17410098401884155\n",
      "0.6594383458339362\n",
      "0.21155728251946637\n",
      "0.9381386813654432\n"
     ]
    }
   ],
   "source": [
    "# 실수 임의의 수 추출\n",
    "for _ in range(10):\n",
    "    print(random.random())"
   ]
  },
  {
   "cell_type": "code",
   "execution_count": 13,
   "metadata": {},
   "outputs": [
    {
     "name": "stdout",
     "output_type": "stream",
     "text": [
      "0.5714025946899135\n",
      "0.4288890546751146\n",
      "0.5780913011344704\n",
      "0.20609823213950174\n",
      "0.81332125135732\n",
      "0.8235888725334455\n",
      "0.6534725339011758\n",
      "0.16022955651881965\n",
      "0.5206693596399246\n",
      "0.32777281162209315\n"
     ]
    }
   ],
   "source": [
    "random.seed(10)\n",
    "for _ in range(10):\n",
    "    print(random.random())  "
   ]
  },
  {
   "cell_type": "code",
   "execution_count": 14,
   "metadata": {},
   "outputs": [],
   "source": [
    "X = [[10], [3], [9], [5], [7],\n",
    "    [8], [12], [67], [91], [45],\n",
    "    [2], [17]]\n",
    "\n",
    "y = [1,2,3,4,5,6,7,8,9,10,11,12]"
   ]
  },
  {
   "cell_type": "code",
   "execution_count": 15,
   "metadata": {},
   "outputs": [],
   "source": [
    "from sklearn.model_selection import train_test_split"
   ]
  },
  {
   "cell_type": "code",
   "execution_count": 19,
   "metadata": {},
   "outputs": [],
   "source": [
    "#### 섞지 않고 학습용 / 테스트용 데이터셋 분리\n",
    "X_train, X_test, y_train, y_test = train_test_split(X, y, shuffle = False)"
   ]
  },
  {
   "cell_type": "code",
   "execution_count": 20,
   "metadata": {},
   "outputs": [
    {
     "name": "stdout",
     "output_type": "stream",
     "text": [
      "X : [[10], [3], [9], [5], [7], [8], [12], [67], [91], [45], [2], [17]]\n",
      "X_train : [[10], [3], [9], [5], [7], [8], [12], [67], [91]]\n",
      "X_test : [[45], [2], [17]]\n"
     ]
    }
   ],
   "source": [
    "print(F\"X : {X}\")\n",
    "print(F\"X_train : {X_train}\")\n",
    "print(f\"X_test : {X_test}\")"
   ]
  },
  {
   "cell_type": "code",
   "execution_count": 858,
   "metadata": {},
   "outputs": [
    {
     "name": "stdout",
     "output_type": "stream",
     "text": [
      "X : [[10], [3], [9], [5], [7], [8], [12], [67], [91], [45], [2], [17]]\n",
      "X_train : [[5], [12], [10], [17], [91], [45], [9], [8], [2]]\n",
      "X_test : [[7], [3], [67]]\n"
     ]
    }
   ],
   "source": [
    "#### 섞어서 학습용 / 테스트용 데이터셋 분리 ===> 실행할 때 마다 변경\n",
    "X_train, X_test, y_train, y_test = train_test_split(X, y)\n",
    "\n",
    "print(F\"X : {X}\")\n",
    "print(F\"X_train : {X_train}\")\n",
    "print(f\"X_test : {X_test}\")"
   ]
  },
  {
   "cell_type": "code",
   "execution_count": 478,
   "metadata": {},
   "outputs": [
    {
     "name": "stdout",
     "output_type": "stream",
     "text": [
      "X : [[10], [3], [9], [5], [7], [8], [12], [67], [91], [45], [2], [17]]\n",
      "X_train : [[8], [17], [91], [2], [5], [3], [10], [7], [45]]\n",
      "X_test : [[9], [12], [67]]\n"
     ]
    }
   ],
   "source": [
    "#### 섞어서 학습용 / 테스트용 데이터셋 분리 \n",
    "#### random에서 seed 설정 역할 매개 변수 => random_state\n",
    "X_train, X_test, y_train, y_test = train_test_split(X, y, random_state = 10)\n",
    "\n",
    "print(F\"X : {X}\")\n",
    "print(F\"X_train : {X_train}\")\n",
    "print(f\"X_test : {X_test}\")"
   ]
  },
  {
   "cell_type": "code",
   "execution_count": null,
   "metadata": {},
   "outputs": [],
   "source": []
  }
 ],
 "metadata": {
  "kernelspec": {
   "display_name": "ML_38",
   "language": "python",
   "name": "python3"
  },
  "language_info": {
   "codemirror_mode": {
    "name": "ipython",
    "version": 3
   },
   "file_extension": ".py",
   "mimetype": "text/x-python",
   "name": "python",
   "nbconvert_exporter": "python",
   "pygments_lexer": "ipython3",
   "version": "3.8.19"
  }
 },
 "nbformat": 4,
 "nbformat_minor": 2
}
