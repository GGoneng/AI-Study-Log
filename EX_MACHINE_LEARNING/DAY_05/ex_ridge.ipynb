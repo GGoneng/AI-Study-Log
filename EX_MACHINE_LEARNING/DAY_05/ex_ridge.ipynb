{
 "cells": [
  {
   "cell_type": "markdown",
   "metadata": {},
   "source": [
    "##### 보스턴 집값 예측 모델\n",
    "- 데이터셋 : boston.csv\n",
    "- 학습 방법 : 지도학습 >> 회귀\n",
    "- 피쳐/독립 : 13개\n",
    "- 타겟/종속 : 1개"
   ]
  },
  {
   "cell_type": "markdown",
   "metadata": {},
   "source": [
    "[1] 데이터 준비"
   ]
  },
  {
   "cell_type": "code",
   "execution_count": 2,
   "metadata": {},
   "outputs": [],
   "source": [
    "# 모듈로딩\n",
    "import pandas as pd\n",
    "import numpy as np\n",
    "from sklearn.preprocessing import StandardScaler, MinMaxScaler, RobustScaler\n",
    "from sklearn.model_selection import train_test_split"
   ]
  },
  {
   "cell_type": "code",
   "execution_count": 3,
   "metadata": {},
   "outputs": [],
   "source": [
    "# 데이터\n",
    "DATA_FILE = '../Data/boston.csv'"
   ]
  },
  {
   "cell_type": "code",
   "execution_count": 4,
   "metadata": {},
   "outputs": [
    {
     "data": {
      "text/html": [
       "<div>\n",
       "<style scoped>\n",
       "    .dataframe tbody tr th:only-of-type {\n",
       "        vertical-align: middle;\n",
       "    }\n",
       "\n",
       "    .dataframe tbody tr th {\n",
       "        vertical-align: top;\n",
       "    }\n",
       "\n",
       "    .dataframe thead th {\n",
       "        text-align: right;\n",
       "    }\n",
       "</style>\n",
       "<table border=\"1\" class=\"dataframe\">\n",
       "  <thead>\n",
       "    <tr style=\"text-align: right;\">\n",
       "      <th></th>\n",
       "      <th>CRIM</th>\n",
       "      <th>ZN</th>\n",
       "      <th>INDUS</th>\n",
       "      <th>CHAS</th>\n",
       "      <th>NOX</th>\n",
       "      <th>RM</th>\n",
       "      <th>AGE</th>\n",
       "      <th>DIS</th>\n",
       "      <th>RAD</th>\n",
       "      <th>TAX</th>\n",
       "      <th>PTRATIO</th>\n",
       "      <th>B</th>\n",
       "      <th>LSTAT</th>\n",
       "      <th>MEDV</th>\n",
       "    </tr>\n",
       "  </thead>\n",
       "  <tbody>\n",
       "    <tr>\n",
       "      <th>0</th>\n",
       "      <td>0.00632</td>\n",
       "      <td>18.0</td>\n",
       "      <td>2.31</td>\n",
       "      <td>0</td>\n",
       "      <td>0.538</td>\n",
       "      <td>6.575</td>\n",
       "      <td>65.2</td>\n",
       "      <td>4.0900</td>\n",
       "      <td>1</td>\n",
       "      <td>296.0</td>\n",
       "      <td>15.3</td>\n",
       "      <td>396.9</td>\n",
       "      <td>4.98</td>\n",
       "      <td>24.0</td>\n",
       "    </tr>\n",
       "    <tr>\n",
       "      <th>1</th>\n",
       "      <td>0.02731</td>\n",
       "      <td>0.0</td>\n",
       "      <td>7.07</td>\n",
       "      <td>0</td>\n",
       "      <td>0.469</td>\n",
       "      <td>6.421</td>\n",
       "      <td>78.9</td>\n",
       "      <td>4.9671</td>\n",
       "      <td>2</td>\n",
       "      <td>242.0</td>\n",
       "      <td>17.8</td>\n",
       "      <td>396.9</td>\n",
       "      <td>9.14</td>\n",
       "      <td>21.6</td>\n",
       "    </tr>\n",
       "  </tbody>\n",
       "</table>\n",
       "</div>"
      ],
      "text/plain": [
       "      CRIM    ZN  INDUS  CHAS    NOX     RM   AGE     DIS  RAD    TAX  \\\n",
       "0  0.00632  18.0   2.31     0  0.538  6.575  65.2  4.0900    1  296.0   \n",
       "1  0.02731   0.0   7.07     0  0.469  6.421  78.9  4.9671    2  242.0   \n",
       "\n",
       "   PTRATIO      B  LSTAT  MEDV  \n",
       "0     15.3  396.9   4.98  24.0  \n",
       "1     17.8  396.9   9.14  21.6  "
      ]
     },
     "execution_count": 4,
     "metadata": {},
     "output_type": "execute_result"
    }
   ],
   "source": [
    "# CSV => DataFrame\n",
    "dataDF = pd.read_csv(DATA_FILE)\n",
    "dataDF.head(2)"
   ]
  },
  {
   "cell_type": "code",
   "execution_count": 5,
   "metadata": {},
   "outputs": [
    {
     "name": "stdout",
     "output_type": "stream",
     "text": [
      "<class 'pandas.core.frame.DataFrame'>\n",
      "RangeIndex: 506 entries, 0 to 505\n",
      "Data columns (total 14 columns):\n",
      " #   Column   Non-Null Count  Dtype  \n",
      "---  ------   --------------  -----  \n",
      " 0   CRIM     506 non-null    float64\n",
      " 1   ZN       506 non-null    float64\n",
      " 2   INDUS    506 non-null    float64\n",
      " 3   CHAS     506 non-null    int64  \n",
      " 4   NOX      506 non-null    float64\n",
      " 5   RM       506 non-null    float64\n",
      " 6   AGE      506 non-null    float64\n",
      " 7   DIS      506 non-null    float64\n",
      " 8   RAD      506 non-null    int64  \n",
      " 9   TAX      506 non-null    float64\n",
      " 10  PTRATIO  506 non-null    float64\n",
      " 11  B        506 non-null    float64\n",
      " 12  LSTAT    506 non-null    float64\n",
      " 13  MEDV     506 non-null    float64\n",
      "dtypes: float64(12), int64(2)\n",
      "memory usage: 55.5 KB\n"
     ]
    }
   ],
   "source": [
    "# 데이터 기본 정보 확인\n",
    "dataDF.info()"
   ]
  },
  {
   "cell_type": "markdown",
   "metadata": {},
   "source": [
    "[2] 전처리\n",
    "- [2-1] 데이터 정제"
   ]
  },
  {
   "cell_type": "markdown",
   "metadata": {},
   "source": [
    "- 결측치, 중복값, 이상치, 컬럼별 고유값 추출로 이상 데이터 체크"
   ]
  },
  {
   "cell_type": "markdown",
   "metadata": {},
   "source": [
    "- [2-2] 표준화 & 정규화 ===> 진행 여부에 따라 성능의 변화는 경우에 따라 다름!!!\n",
    "    * 정규분포 데이터셋을 기반으로 한 모델 ==> StandardScaler, MinMaxScaler, Log 변환\n",
    "    * 피쳐의 값의 범위 차이를 줄이기 ==> 피쳐 스케일링, MinMaxScaler, RobustScaler....\n",
    "    * 범주형 피쳐 ===> 수치화 인코딩 OneHotEncoder, OrdinalEncoder\n",
    "    * 문자열 타겟 ===> 정수 라벨 인코딩 LabelEncoder"
   ]
  },
  {
   "cell_type": "markdown",
   "metadata": {},
   "source": [
    "- [2-3] 피쳐와 타겟 분리"
   ]
  },
  {
   "cell_type": "code",
   "execution_count": 6,
   "metadata": {},
   "outputs": [],
   "source": [
    "featureDF = dataDF.iloc[:, : -1]\n",
    "targetSR = dataDF[\"MEDV\"]"
   ]
  },
  {
   "cell_type": "code",
   "execution_count": 7,
   "metadata": {},
   "outputs": [
    {
     "name": "stdout",
     "output_type": "stream",
     "text": [
      "featureDF : (506, 13) targetSR : (506,)\n"
     ]
    }
   ],
   "source": [
    "print(f\"featureDF : {featureDF.shape} targetSR : {targetSR.shape}\")"
   ]
  },
  {
   "cell_type": "markdown",
   "metadata": {},
   "source": [
    "[3] 학습 준비"
   ]
  },
  {
   "cell_type": "markdown",
   "metadata": {},
   "source": [
    "[3-1] 학습용 데이터셋과 테스트용 데이터셋 분리"
   ]
  },
  {
   "cell_type": "code",
   "execution_count": 8,
   "metadata": {},
   "outputs": [],
   "source": [
    "X_train, X_test, y_train, y_test = train_test_split(featureDF, targetSR, random_state = 10)"
   ]
  },
  {
   "cell_type": "code",
   "execution_count": 9,
   "metadata": {},
   "outputs": [
    {
     "name": "stdout",
     "output_type": "stream",
     "text": [
      "X_train : (379, 13) y_train : (379,)\n",
      "X_test : (127, 13) y_test : (127,)\n"
     ]
    }
   ],
   "source": [
    "print(f\"X_train : {X_train.shape} y_train : {y_train.shape}\")\n",
    "print(f\"X_test : {X_test.shape} y_test : {y_test.shape}\")\n"
   ]
  },
  {
   "cell_type": "markdown",
   "metadata": {},
   "source": [
    "[3-2] 학습용 데이터셋으로 스케일러 생성"
   ]
  },
  {
   "cell_type": "code",
   "execution_count": 10,
   "metadata": {},
   "outputs": [
    {
     "data": {
      "text/html": [
       "<style>#sk-container-id-1 {color: black;}#sk-container-id-1 pre{padding: 0;}#sk-container-id-1 div.sk-toggleable {background-color: white;}#sk-container-id-1 label.sk-toggleable__label {cursor: pointer;display: block;width: 100%;margin-bottom: 0;padding: 0.3em;box-sizing: border-box;text-align: center;}#sk-container-id-1 label.sk-toggleable__label-arrow:before {content: \"▸\";float: left;margin-right: 0.25em;color: #696969;}#sk-container-id-1 label.sk-toggleable__label-arrow:hover:before {color: black;}#sk-container-id-1 div.sk-estimator:hover label.sk-toggleable__label-arrow:before {color: black;}#sk-container-id-1 div.sk-toggleable__content {max-height: 0;max-width: 0;overflow: hidden;text-align: left;background-color: #f0f8ff;}#sk-container-id-1 div.sk-toggleable__content pre {margin: 0.2em;color: black;border-radius: 0.25em;background-color: #f0f8ff;}#sk-container-id-1 input.sk-toggleable__control:checked~div.sk-toggleable__content {max-height: 200px;max-width: 100%;overflow: auto;}#sk-container-id-1 input.sk-toggleable__control:checked~label.sk-toggleable__label-arrow:before {content: \"▾\";}#sk-container-id-1 div.sk-estimator input.sk-toggleable__control:checked~label.sk-toggleable__label {background-color: #d4ebff;}#sk-container-id-1 div.sk-label input.sk-toggleable__control:checked~label.sk-toggleable__label {background-color: #d4ebff;}#sk-container-id-1 input.sk-hidden--visually {border: 0;clip: rect(1px 1px 1px 1px);clip: rect(1px, 1px, 1px, 1px);height: 1px;margin: -1px;overflow: hidden;padding: 0;position: absolute;width: 1px;}#sk-container-id-1 div.sk-estimator {font-family: monospace;background-color: #f0f8ff;border: 1px dotted black;border-radius: 0.25em;box-sizing: border-box;margin-bottom: 0.5em;}#sk-container-id-1 div.sk-estimator:hover {background-color: #d4ebff;}#sk-container-id-1 div.sk-parallel-item::after {content: \"\";width: 100%;border-bottom: 1px solid gray;flex-grow: 1;}#sk-container-id-1 div.sk-label:hover label.sk-toggleable__label {background-color: #d4ebff;}#sk-container-id-1 div.sk-serial::before {content: \"\";position: absolute;border-left: 1px solid gray;box-sizing: border-box;top: 0;bottom: 0;left: 50%;z-index: 0;}#sk-container-id-1 div.sk-serial {display: flex;flex-direction: column;align-items: center;background-color: white;padding-right: 0.2em;padding-left: 0.2em;position: relative;}#sk-container-id-1 div.sk-item {position: relative;z-index: 1;}#sk-container-id-1 div.sk-parallel {display: flex;align-items: stretch;justify-content: center;background-color: white;position: relative;}#sk-container-id-1 div.sk-item::before, #sk-container-id-1 div.sk-parallel-item::before {content: \"\";position: absolute;border-left: 1px solid gray;box-sizing: border-box;top: 0;bottom: 0;left: 50%;z-index: -1;}#sk-container-id-1 div.sk-parallel-item {display: flex;flex-direction: column;z-index: 1;position: relative;background-color: white;}#sk-container-id-1 div.sk-parallel-item:first-child::after {align-self: flex-end;width: 50%;}#sk-container-id-1 div.sk-parallel-item:last-child::after {align-self: flex-start;width: 50%;}#sk-container-id-1 div.sk-parallel-item:only-child::after {width: 0;}#sk-container-id-1 div.sk-dashed-wrapped {border: 1px dashed gray;margin: 0 0.4em 0.5em 0.4em;box-sizing: border-box;padding-bottom: 0.4em;background-color: white;}#sk-container-id-1 div.sk-label label {font-family: monospace;font-weight: bold;display: inline-block;line-height: 1.2em;}#sk-container-id-1 div.sk-label-container {text-align: center;}#sk-container-id-1 div.sk-container {/* jupyter's `normalize.less` sets `[hidden] { display: none; }` but bootstrap.min.css set `[hidden] { display: none !important; }` so we also need the `!important` here to be able to override the default hidden behavior on the sphinx rendered scikit-learn.org. See: https://github.com/scikit-learn/scikit-learn/issues/21755 */display: inline-block !important;position: relative;}#sk-container-id-1 div.sk-text-repr-fallback {display: none;}</style><div id=\"sk-container-id-1\" class=\"sk-top-container\"><div class=\"sk-text-repr-fallback\"><pre>StandardScaler()</pre><b>In a Jupyter environment, please rerun this cell to show the HTML representation or trust the notebook. <br />On GitHub, the HTML representation is unable to render, please try loading this page with nbviewer.org.</b></div><div class=\"sk-container\" hidden><div class=\"sk-item\"><div class=\"sk-estimator sk-toggleable\"><input class=\"sk-toggleable__control sk-hidden--visually\" id=\"sk-estimator-id-1\" type=\"checkbox\" checked><label for=\"sk-estimator-id-1\" class=\"sk-toggleable__label sk-toggleable__label-arrow\">StandardScaler</label><div class=\"sk-toggleable__content\"><pre>StandardScaler()</pre></div></div></div></div></div>"
      ],
      "text/plain": [
       "StandardScaler()"
      ]
     },
     "execution_count": 10,
     "metadata": {},
     "output_type": "execute_result"
    }
   ],
   "source": [
    "### - 수치 피쳐 값의 범위 차가 큼 ==> Scaling 진행\n",
    "ssScaler = StandardScaler()\n",
    "\n",
    "ssScaler.fit(X_train)"
   ]
  },
  {
   "cell_type": "code",
   "execution_count": 11,
   "metadata": {},
   "outputs": [],
   "source": [
    "X_train_scaled = ssScaler.transform(X_train)\n",
    "X_test_scaled = ssScaler.transform(X_test)\n"
   ]
  },
  {
   "cell_type": "markdown",
   "metadata": {},
   "source": [
    "[4] 학습 진행 ==> 교차 검증으로 진행"
   ]
  },
  {
   "cell_type": "code",
   "execution_count": 12,
   "metadata": {},
   "outputs": [],
   "source": [
    "from sklearn.model_selection import cross_validate\n",
    "from sklearn.linear_model import Ridge, Lasso"
   ]
  },
  {
   "cell_type": "code",
   "execution_count": 13,
   "metadata": {},
   "outputs": [
    {
     "name": "stdout",
     "output_type": "stream",
     "text": [
      "{'fit_time': array([0.00812006, 0.        , 0.        ]), 'score_time': array([0.00842166, 0.        , 0.        ]), 'estimator': [Lasso(alpha=0.0, max_iter=3), Lasso(alpha=0.0, max_iter=3), Lasso(alpha=0.0, max_iter=3)], 'test_neg_mean_squared_error': array([-17.97755983, -24.15628474, -25.25978452]), 'train_neg_mean_squared_error': array([-22.0562488 , -19.76097481, -19.44626821]), 'test_r2': array([0.73873047, 0.73930894, 0.6443532 ]), 'train_r2': array([0.73246304, 0.71790954, 0.7594718 ])}\n"
     ]
    },
    {
     "name": "stdout",
     "output_type": "stream",
     "text": [
      "0.006267434331734156\n",
      "[-0.76918209  1.30798802 -1.3660128   0.70871821 -1.12810945  3.13078874\n",
      "  0.20140226 -3.18951128  0.40006951 -1.02796444 -1.33246342  1.05170534\n",
      " -2.85931196]\n",
      "[Ridge (alpha = 0.0)]\n",
      "    test_r2  train_r2      diff\n",
      "0  0.738730  0.732463  0.006267\n",
      "1  0.739309  0.717910  0.021399\n",
      "2  0.644353  0.759472 -0.115119 \n",
      "\n",
      "\n",
      "[20.89447192 24.91350293 34.14210688 33.45356876  7.55452514 35.95547143\n",
      " 24.38676976 17.01412673 23.94896554 27.79993157 36.28033589  5.49691167\n",
      "  6.11669451 28.81216952 12.52507926 17.79148918 19.89042972  5.96951469\n",
      " 13.72090277 38.53677317 26.33652325 23.22842271 25.60682368 12.47997489\n",
      " 20.60321099 38.08215048 21.0730438  10.0118152  17.66468448 25.48698294\n",
      "  8.92582647 16.03731787 27.44502163 11.11508975 10.92768036 17.87410136\n",
      " 18.7475499  32.3304534  22.59427867 26.25927632 10.22140401 22.57244524\n",
      "  6.0093879  27.44669466 22.21201488 23.88449041 19.3017314  26.68771245\n",
      " 17.08616762 12.23982655 24.82742478 22.24397153 20.80644297 20.73943852\n",
      " 22.53644913 23.22696003 20.84716533  9.63007907 33.31955489 23.03529719\n",
      " 17.0113669  23.06434891 21.87689035 28.83709042 20.25987606 33.0500949\n",
      " 34.15668204 20.73597863 30.58193508 16.36094941 25.52944416 21.14035498\n",
      " 31.67794062 27.30564592 32.91021213 26.30207319 20.83264414 18.3628471\n",
      " 19.94714774 33.27002819 27.41845359 31.91591354 19.71956463 23.2667531\n",
      " 30.95636861 30.3506609  37.05582726 24.63643305 19.00952561 23.44639602\n",
      " 30.9456576  20.69969929 22.86873015 15.25595685 14.68143074 13.96875584\n",
      " 12.3133177  16.9856247  27.53362525 15.14943895 14.28909988 33.91316309\n",
      " 18.19804566 22.98984566 36.10886937 13.703817   23.49062836 15.9836574\n",
      " 18.73103158 41.59886289 19.95846746 23.82524378 23.45439789  5.9230503\n",
      " 19.17800945 18.89072172 22.11634909 23.92781226 26.27631673 22.88837196\n",
      " 15.4012288  21.94254055 30.12265231 21.01959327 19.80208371 23.21637314\n",
      " 19.83433195 21.78760204 16.66838421 15.10037141 19.52622597 15.63968562\n",
      " 12.49331461 20.82317327 38.33052036 10.8405018  35.16317892 35.39677654\n",
      " 19.98479566 25.96526007 11.42832338 15.7040749  17.6549668  14.36761784\n",
      " 43.56929482  5.62713359 19.71121773 25.11394392 16.10146384 17.27213947\n",
      " 18.39639273  9.62162188 12.17250359  9.65780003 24.1117573  25.86458133\n",
      " 13.06520901  7.18366776 24.2014728  22.54993331 17.54347127 31.53994591\n",
      " 20.77229726 31.92483376 18.22131873 10.85107579 15.65922674 25.32829264\n",
      " 33.99757417 21.94303485 13.0527994  12.5188186  37.45240683 22.93400758\n",
      " 20.23799302 21.88512982 39.45989333 28.49636236 15.83394574  8.8163547\n",
      " 18.1444204  16.05528213 37.82744223 20.6421262   0.4887221  18.02116374\n",
      " 36.50109805 36.82451208 19.15348957 35.81240487 12.23757721 12.26351621\n",
      " 36.1885764  23.7183541  22.42114583 32.12544648 21.9306734  23.96875281\n",
      " 11.22577943 25.10750744 14.73676853 20.9849234  23.50570935 17.77968752\n",
      " 19.70137398 14.32939885 22.21241467 22.02373497 24.75352935 16.93797648\n",
      " 11.28318872 13.28931274 24.70964123 16.53789738 29.99759949 39.04427167\n",
      " 22.41794582 16.54137455 42.15655481 21.49079058 15.13482917 11.00614834\n",
      " 15.3093214  15.49253543 11.82906735 26.24199304 29.79597747 20.89633489\n",
      " 22.88989882 26.20623981 18.65767316 24.44096091 16.17245285 16.07078448\n",
      " 22.00000474 25.88260806 12.88487153 10.42098913 18.0738982  18.83688984\n",
      "  8.82976003 28.63664385 27.3117274  37.74015516 20.00883404 19.98279992\n",
      " 11.86153971 12.86644819 23.02552784 32.17695604 36.86880324 15.01109926\n",
      " 17.35188276 23.43539696 20.93134586 16.52233779 22.66149515 22.07986742\n",
      " 28.82922004 27.99518839 29.44593751 16.52953926 20.30479429 23.2358961\n",
      " 29.96981974 21.34268667 12.64754516 25.00298954 24.7665104  14.49141785\n",
      " 32.64263965 24.11613256 38.55288879 14.26447641 21.15664363 26.03755376\n",
      " 17.51750208 33.7895211  39.30161392 21.99117873 21.36206056 21.64618486\n",
      " 31.70851921 28.37689254 19.65749276 14.05221116 14.02312852 16.66671882\n",
      " 26.84137842 20.96838824 33.82246007 35.18347416 37.32615898 36.68286681\n",
      " 15.73635765 13.60458071  8.6987228  29.26216377 16.50157158 22.45004041\n",
      " 18.05615659 23.65729645 26.23743997 32.78201222 42.38183201 18.72823987\n",
      " 15.71874712 14.23451395 11.7238866  23.70753922 20.54414051 21.1910186\n",
      " 17.55088694 23.95364467 18.80907926 25.47236887 24.10116072 22.61617139\n",
      " 16.85191555 21.32152563 25.80524455 17.45276264  5.9240628  17.75019704\n",
      " 26.96299135 17.01043613 45.62192777 32.15953587 25.86931996 20.14662693\n",
      " 25.1062422  15.7448839  32.51784168 26.65268995 21.84594446 24.68304391\n",
      " 28.29680104  6.5137862  12.60410063 18.62783816 26.10393458 20.70405866\n",
      " 22.44818079 22.51349859 25.37322709 33.87606461 29.32105367 18.35079735\n",
      " 18.99270254 32.56062436 16.64295386 23.8790732  18.8177723  19.11938437\n",
      " 29.70545163 18.85736359 19.40598587 27.84074788 19.44776561 21.25089253\n",
      " 22.38279615 18.53865587 35.0281471   5.47370394 37.72926692 22.73155766\n",
      " 13.11011318 22.05633614  9.55752303 25.15838443 23.45215306 13.4679554\n",
      " 15.4701484  29.95935339 25.19392474 20.34440639 16.06350663 20.36904736\n",
      " 28.16069314]\n",
      "{'fit_time': array([0., 0., 0.]), 'score_time': array([0., 0., 0.]), 'estimator': [Lasso(max_iter=3), Lasso(max_iter=3), Lasso(max_iter=3)], 'test_neg_mean_squared_error': array([-21.08302989, -27.14424256, -29.25700427]), 'train_neg_mean_squared_error': array([-27.623517  , -23.72135172, -22.42683637]), 'test_r2': array([0.69359839, 0.70706334, 0.58807409]), 'train_r2': array([0.66493342, 0.66137465, 0.72260556])}\n",
      "0.028664969284985853\n",
      "[-0.12685525  0.         -0.68948499  0.         -0.35867851  3.50097227\n",
      " -0.         -0.         -0.02775436 -0.34045443 -1.07046702  0.47097032\n",
      " -2.11146537]\n",
      "[Ridge (alpha = 1.0)]\n",
      "    test_r2  train_r2      diff\n",
      "0  0.693598  0.664933  0.028665\n",
      "1  0.707063  0.661375  0.045689\n",
      "2  0.588074  0.722606 -0.134531 \n",
      "\n",
      "\n",
      "[20.69587885 24.20680041 32.11827263 28.63766345 10.87532175 29.35287606\n",
      " 29.53591289 18.35302114 25.32857944 27.04927938 31.22515391  6.56007927\n",
      " 13.17599463 28.13503774 14.36916369 18.96536339 15.94833786  9.17230938\n",
      " 13.20473726 34.0764769  27.44163032 22.08768279 23.3190864  16.77211533\n",
      " 21.86075264 36.11781578 20.84986346 11.12598055 22.75738875 25.36782425\n",
      "  9.51471998 16.25220266 25.89641185 13.442974   14.56427789 18.35015493\n",
      " 20.17632514 29.15343749 22.78656833 25.49716922 10.54594666 24.62839738\n",
      "  7.07592469 27.58363806 20.72192284 22.1862984  16.02983925 28.06308001\n",
      " 18.84759908 15.45503349 29.97234966 20.64702992 19.7553042  21.82962228\n",
      " 21.24045454 22.27123598 18.41427787 13.97582594 31.98047321 19.55226806\n",
      " 19.50780487 23.77074109 23.41210878 24.74979685 19.20277888 29.1702982\n",
      " 30.97464504 22.54979422 25.1723236  16.86243849 23.98942756 24.11938119\n",
      " 30.75948328 26.39189026 31.36373862 24.30935945 20.33085991 19.78378366\n",
      " 20.84735774 31.84641492 25.08008525 30.81372077 17.69249626 24.06096947\n",
      " 30.90098344 30.10548952 32.1836588  20.35535413 19.72276972 24.42807347\n",
      " 31.21354608 22.31026953 26.58300087 16.72273342 15.82981876 18.04834483\n",
      " 12.42552682 18.26359621 28.32305632 15.58475295 18.49746021 29.75906606\n",
      " 18.8156824  24.56951408 34.61899046 13.98285067 23.84625537 15.63693656\n",
      " 17.57401647 37.59990663 21.7708905  27.42280299 21.28890917  6.23813373\n",
      " 19.42403589 19.3719661  27.62477942 21.93418348 26.47965796 21.1608001\n",
      " 15.10474324 22.10098674 26.82278983 19.30164518 19.37754254 19.99509485\n",
      " 20.16317579 20.19349446 17.75298699 16.67026393 18.52938477 16.64289061\n",
      " 15.74353401 20.7913329  35.71824986 12.25870961 32.26287585 34.07113653\n",
      " 23.69869767 27.03028734 12.09389037 21.15425239 18.53869217 17.23401006\n",
      " 38.14930434  7.30037874 19.86926241 26.1683062  15.47547017 19.38798872\n",
      " 22.54853582  7.15777932 13.99642883 11.24069631 26.76024923 26.06262891\n",
      " 16.83434074  9.8887799  22.3580941  21.24185053 20.6503552  29.16647514\n",
      " 20.33876386 32.084591   17.64784622 14.88776627 15.64995252 24.51867724\n",
      " 30.82208849 21.55504231 15.18411635 13.34264659 34.95472614 22.4463517\n",
      " 20.95902675 22.14318208 34.58665935 28.36817348 15.14906855 12.48405532\n",
      " 19.5349722  21.41155498 32.915182   20.23267398  1.17318507 20.32286215\n",
      " 34.91698171 33.69989576 22.02884826 30.65683322 14.87260644 12.30360882\n",
      " 31.90312966 21.6041424  20.81004607 28.31957568 22.92306199 23.47462227\n",
      " 13.27023046 24.17711116 16.58160428 22.92921991 23.7868786  18.08567246\n",
      " 17.87531013 15.78340992 23.96494787 22.9926931  24.4721219  16.79365773\n",
      " 14.18620687 17.02709508 23.64894187 17.6304886  27.95084379 36.81818402\n",
      " 21.32949745 16.73077406 38.2829649  20.00550035 14.9975959  13.98496074\n",
      " 18.99166572 17.81177288 12.74663963 25.48956015 27.65670708 22.71585187\n",
      " 23.06262483 24.0154656  19.35707493 25.96214842 19.67490816 16.86958514\n",
      " 20.16836492 25.28012317 12.84668152 10.51697294 15.06131164 19.83549224\n",
      " 12.88829707 26.02283121 28.81146614 36.73602395 21.4193168  20.13205076\n",
      " 15.2375452  12.26009191 24.44664209 29.30385266 32.74887354 15.99246537\n",
      " 17.92146026 24.74645036 21.55613223 18.18365522 22.89192737 22.18800461\n",
      " 26.40491764 28.00510361 30.67509033 17.28510725 19.88897945 22.60497185\n",
      " 26.86072987 21.58679515 13.45735094 29.82285316 23.37481392 17.89184186\n",
      " 31.91150369 25.37284116 37.67696232 17.95990078 21.6337598  23.57470468\n",
      " 17.98788167 28.31511108 35.2628048  20.03997123 23.24400118 21.29730089\n",
      " 27.47681561 27.52262462 23.44341759 15.12868703 14.30388709 17.17823283\n",
      " 25.19558987 21.7206797  29.42612988 31.31961123 34.98420557 31.93571941\n",
      " 15.89200348 17.25121069 13.04069287 30.75396686 16.77362594 23.76871602\n",
      " 23.4159802  26.4251806  27.09453521 31.36063203 36.93797537 18.90666576\n",
      " 17.61492218 16.2753688  15.60632518 24.37590992 21.97259888 19.79850777\n",
      " 18.59379574 21.7177826  18.7448676  21.31753018 24.4024156  20.87907566\n",
      " 18.45615526 24.96088317 23.35879841 16.33171885  5.38699785 18.67984686\n",
      " 24.45933065 17.33762863 38.31074302 27.81202667 24.32467347 20.57856329\n",
      " 25.06193865 15.8969822  30.42491954 24.00718535 23.91507346 27.41341158\n",
      " 28.67006674  6.84111963 12.77805668 19.96246447 27.44784487 21.46552383\n",
      " 24.38915754 22.63109433 26.22833138 30.35399878 26.66498456 19.70966812\n",
      " 21.09379816 31.62065309 16.97659385 25.81411713 17.89217404 16.47477578\n",
      " 29.50962692 19.6453078  19.59269357 27.95792247 17.78816922 21.83644918\n",
      " 20.57119675 19.43464182 31.25632511  7.74033765 34.35740277 24.15250437\n",
      " 16.26610004 20.50204138 10.96726965 20.7279132  24.08659737 14.84254601\n",
      " 15.08157789 24.82881912 25.22530079 20.79599864 17.89922711 18.98303719\n",
      " 22.90443045]\n",
      "{'fit_time': array([0., 0., 0.]), 'score_time': array([0., 0., 0.]), 'estimator': [Lasso(alpha=10, max_iter=3), Lasso(alpha=10, max_iter=3), Lasso(alpha=10, max_iter=3)], 'test_neg_mean_squared_error': array([-68.80916831, -94.03545537, -72.33696986]), 'train_neg_mean_squared_error': array([-82.441875  , -70.05190676, -80.84818291]), 'test_r2': array([-9.96170955e-06, -1.48167589e-02, -1.84731187e-02]), 'train_r2': array([0., 0., 0.])}\n",
      "-9.961709551475906e-06\n",
      "[-0.  0. -0.  0. -0.  0. -0.  0. -0. -0. -0.  0. -0.]\n",
      "[Ridge (alpha = 10)]\n",
      "    test_r2  train_r2      diff\n",
      "0 -0.000010       0.0 -0.000010\n",
      "1 -0.014817       0.0 -0.014817\n",
      "2 -0.018473       0.0 -0.018473 \n",
      "\n",
      "\n",
      "[21.925 21.925 21.925 21.925 21.925 21.925 21.925 21.925 21.925 21.925\n",
      " 21.925 21.925 21.925 21.925 21.925 21.925 21.925 21.925 21.925 21.925\n",
      " 21.925 21.925 21.925 21.925 21.925 21.925 21.925 21.925 21.925 21.925\n",
      " 21.925 21.925 21.925 21.925 21.925 21.925 21.925 21.925 21.925 21.925\n",
      " 21.925 21.925 21.925 21.925 21.925 21.925 21.925 21.925 21.925 21.925\n",
      " 21.925 21.925 21.925 21.925 21.925 21.925 21.925 21.925 21.925 21.925\n",
      " 21.925 21.925 21.925 21.925 21.925 21.925 21.925 21.925 21.925 21.925\n",
      " 21.925 21.925 21.925 21.925 21.925 21.925 21.925 21.925 21.925 21.925\n",
      " 21.925 21.925 21.925 21.925 21.925 21.925 21.925 21.925 21.925 21.925\n",
      " 21.925 21.925 21.925 21.925 21.925 21.925 21.925 21.925 21.925 21.925\n",
      " 21.925 21.925 21.925 21.925 21.925 21.925 21.925 21.925 21.925 21.925\n",
      " 21.925 21.925 21.925 21.925 21.925 21.925 21.925 21.925 21.925 21.925\n",
      " 21.925 21.925 21.925 21.925 21.925 21.925 21.925 21.925 21.925 21.925\n",
      " 21.925 21.925 21.925 21.925 21.925 21.925 21.925 21.925 21.925 21.925\n",
      " 21.925 21.925 21.925 21.925 21.925 21.925 21.925 21.925 21.925 21.925\n",
      " 21.925 21.925 21.925 21.925 21.925 21.925 21.925 21.925 21.925 21.925\n",
      " 21.925 21.925 21.925 21.925 21.925 21.925 21.925 21.925 21.925 21.925\n",
      " 21.925 21.925 21.925 21.925 21.925 21.925 21.925 21.925 21.925 21.925\n",
      " 21.925 21.925 21.925 21.925 21.925 21.925 21.925 21.925 21.925 21.925\n",
      " 21.925 21.925 21.925 21.925 21.925 21.925 21.925 21.925 21.925 21.925\n",
      " 21.925 21.925 21.925 21.925 21.925 21.925 21.925 21.925 21.925 21.925\n",
      " 21.925 21.925 21.925 21.925 21.925 21.925 21.925 21.925 21.925 21.925\n",
      " 21.925 21.925 21.925 21.925 21.925 21.925 21.925 21.925 21.925 21.925\n",
      " 21.925 21.925 21.925 21.925 21.925 21.925 21.925 21.925 21.925 21.925\n",
      " 21.925 21.925 21.925 21.925 21.925 21.925 21.925 21.925 21.925 21.925\n",
      " 21.925 21.925 21.925 21.925 21.925 21.925 21.925 21.925 21.925 21.925\n",
      " 21.925 21.925 21.925 21.925 21.925 21.925 21.925 21.925 21.925 21.925\n",
      " 21.925 21.925 21.925 21.925 21.925 21.925 21.925 21.925 21.925 21.925\n",
      " 21.925 21.925 21.925 21.925 21.925 21.925 21.925 21.925 21.925 21.925\n",
      " 21.925 21.925 21.925 21.925 21.925 21.925 21.925 21.925 21.925 21.925\n",
      " 21.925 21.925 21.925 21.925 21.925 21.925 21.925 21.925 21.925 21.925\n",
      " 21.925 21.925 21.925 21.925 21.925 21.925 21.925 21.925 21.925 21.925\n",
      " 21.925 21.925 21.925 21.925 21.925 21.925 21.925 21.925 21.925 21.925\n",
      " 21.925 21.925 21.925 21.925 21.925 21.925 21.925 21.925 21.925 21.925\n",
      " 21.925 21.925 21.925 21.925 21.925 21.925 21.925 21.925 21.925 21.925\n",
      " 21.925 21.925 21.925 21.925 21.925 21.925 21.925 21.925 21.925 21.925\n",
      " 21.925 21.925 21.925 21.925 21.925 21.925 21.925 21.925 21.925 21.925\n",
      " 21.925 21.925 21.925 21.925 21.925 21.925 21.925 21.925 21.925]\n",
      "{'fit_time': array([0., 0., 0.]), 'score_time': array([0.00769639, 0.        , 0.        ]), 'estimator': [Lasso(alpha=100, max_iter=3), Lasso(alpha=100, max_iter=3), Lasso(alpha=100, max_iter=3)], 'test_neg_mean_squared_error': array([-68.80916831, -94.03545537, -72.33696986]), 'train_neg_mean_squared_error': array([-82.441875  , -70.05190676, -80.84818291]), 'test_r2': array([-9.96170955e-06, -1.48167589e-02, -1.84731187e-02]), 'train_r2': array([0., 0., 0.])}\n",
      "-9.961709551475906e-06\n",
      "[-0.  0. -0.  0. -0.  0. -0.  0. -0. -0. -0.  0. -0.]\n",
      "[Ridge (alpha = 100)]\n",
      "    test_r2  train_r2      diff\n",
      "0 -0.000010       0.0 -0.000010\n",
      "1 -0.014817       0.0 -0.014817\n",
      "2 -0.018473       0.0 -0.018473 \n",
      "\n",
      "\n",
      "[21.925 21.925 21.925 21.925 21.925 21.925 21.925 21.925 21.925 21.925\n",
      " 21.925 21.925 21.925 21.925 21.925 21.925 21.925 21.925 21.925 21.925\n",
      " 21.925 21.925 21.925 21.925 21.925 21.925 21.925 21.925 21.925 21.925\n",
      " 21.925 21.925 21.925 21.925 21.925 21.925 21.925 21.925 21.925 21.925\n",
      " 21.925 21.925 21.925 21.925 21.925 21.925 21.925 21.925 21.925 21.925\n",
      " 21.925 21.925 21.925 21.925 21.925 21.925 21.925 21.925 21.925 21.925\n",
      " 21.925 21.925 21.925 21.925 21.925 21.925 21.925 21.925 21.925 21.925\n",
      " 21.925 21.925 21.925 21.925 21.925 21.925 21.925 21.925 21.925 21.925\n",
      " 21.925 21.925 21.925 21.925 21.925 21.925 21.925 21.925 21.925 21.925\n",
      " 21.925 21.925 21.925 21.925 21.925 21.925 21.925 21.925 21.925 21.925\n",
      " 21.925 21.925 21.925 21.925 21.925 21.925 21.925 21.925 21.925 21.925\n",
      " 21.925 21.925 21.925 21.925 21.925 21.925 21.925 21.925 21.925 21.925\n",
      " 21.925 21.925 21.925 21.925 21.925 21.925 21.925 21.925 21.925 21.925\n",
      " 21.925 21.925 21.925 21.925 21.925 21.925 21.925 21.925 21.925 21.925\n",
      " 21.925 21.925 21.925 21.925 21.925 21.925 21.925 21.925 21.925 21.925\n",
      " 21.925 21.925 21.925 21.925 21.925 21.925 21.925 21.925 21.925 21.925\n",
      " 21.925 21.925 21.925 21.925 21.925 21.925 21.925 21.925 21.925 21.925\n",
      " 21.925 21.925 21.925 21.925 21.925 21.925 21.925 21.925 21.925 21.925\n",
      " 21.925 21.925 21.925 21.925 21.925 21.925 21.925 21.925 21.925 21.925\n",
      " 21.925 21.925 21.925 21.925 21.925 21.925 21.925 21.925 21.925 21.925\n",
      " 21.925 21.925 21.925 21.925 21.925 21.925 21.925 21.925 21.925 21.925\n",
      " 21.925 21.925 21.925 21.925 21.925 21.925 21.925 21.925 21.925 21.925\n",
      " 21.925 21.925 21.925 21.925 21.925 21.925 21.925 21.925 21.925 21.925\n",
      " 21.925 21.925 21.925 21.925 21.925 21.925 21.925 21.925 21.925 21.925\n",
      " 21.925 21.925 21.925 21.925 21.925 21.925 21.925 21.925 21.925 21.925\n",
      " 21.925 21.925 21.925 21.925 21.925 21.925 21.925 21.925 21.925 21.925\n",
      " 21.925 21.925 21.925 21.925 21.925 21.925 21.925 21.925 21.925 21.925\n",
      " 21.925 21.925 21.925 21.925 21.925 21.925 21.925 21.925 21.925 21.925\n",
      " 21.925 21.925 21.925 21.925 21.925 21.925 21.925 21.925 21.925 21.925\n",
      " 21.925 21.925 21.925 21.925 21.925 21.925 21.925 21.925 21.925 21.925\n",
      " 21.925 21.925 21.925 21.925 21.925 21.925 21.925 21.925 21.925 21.925\n",
      " 21.925 21.925 21.925 21.925 21.925 21.925 21.925 21.925 21.925 21.925\n",
      " 21.925 21.925 21.925 21.925 21.925 21.925 21.925 21.925 21.925 21.925\n",
      " 21.925 21.925 21.925 21.925 21.925 21.925 21.925 21.925 21.925 21.925\n",
      " 21.925 21.925 21.925 21.925 21.925 21.925 21.925 21.925 21.925 21.925\n",
      " 21.925 21.925 21.925 21.925 21.925 21.925 21.925 21.925 21.925 21.925\n",
      " 21.925 21.925 21.925 21.925 21.925 21.925 21.925 21.925 21.925 21.925\n",
      " 21.925 21.925 21.925 21.925 21.925 21.925 21.925 21.925 21.925]\n"
     ]
    },
    {
     "name": "stderr",
     "output_type": "stream",
     "text": [
      "c:\\Users\\KDP-2\\anaconda3\\envs\\ML_38\\lib\\site-packages\\sklearn\\base.py:1151: UserWarning: With alpha=0, this algorithm does not converge well. You are advised to use the LinearRegression estimator\n",
      "  return fit_method(estimator, *args, **kwargs)\n",
      "c:\\Users\\KDP-2\\anaconda3\\envs\\ML_38\\lib\\site-packages\\sklearn\\linear_model\\_coordinate_descent.py:628: UserWarning: Coordinate descent with no regularization may lead to unexpected results and is discouraged.\n",
      "  model = cd_fast.enet_coordinate_descent(\n",
      "c:\\Users\\KDP-2\\anaconda3\\envs\\ML_38\\lib\\site-packages\\sklearn\\linear_model\\_coordinate_descent.py:628: ConvergenceWarning: Objective did not converge. You might want to increase the number of iterations, check the scale of the features or consider increasing regularisation. Duality gap: 2.779e+03, tolerance: 2.078e+00 Linear regression models with null weight for the l1 regularization term are more efficiently fitted using one of the solvers implemented in sklearn.linear_model.Ridge/RidgeCV instead.\n",
      "  model = cd_fast.enet_coordinate_descent(\n",
      "c:\\Users\\KDP-2\\anaconda3\\envs\\ML_38\\lib\\site-packages\\sklearn\\base.py:1151: UserWarning: With alpha=0, this algorithm does not converge well. You are advised to use the LinearRegression estimator\n",
      "  return fit_method(estimator, *args, **kwargs)\n",
      "c:\\Users\\KDP-2\\anaconda3\\envs\\ML_38\\lib\\site-packages\\sklearn\\linear_model\\_coordinate_descent.py:628: UserWarning: Coordinate descent with no regularization may lead to unexpected results and is discouraged.\n",
      "  model = cd_fast.enet_coordinate_descent(\n",
      "c:\\Users\\KDP-2\\anaconda3\\envs\\ML_38\\lib\\site-packages\\sklearn\\linear_model\\_coordinate_descent.py:628: ConvergenceWarning: Objective did not converge. You might want to increase the number of iterations, check the scale of the features or consider increasing regularisation. Duality gap: 2.500e+03, tolerance: 1.772e+00 Linear regression models with null weight for the l1 regularization term are more efficiently fitted using one of the solvers implemented in sklearn.linear_model.Ridge/RidgeCV instead.\n",
      "  model = cd_fast.enet_coordinate_descent(\n",
      "c:\\Users\\KDP-2\\anaconda3\\envs\\ML_38\\lib\\site-packages\\sklearn\\base.py:1151: UserWarning: With alpha=0, this algorithm does not converge well. You are advised to use the LinearRegression estimator\n",
      "  return fit_method(estimator, *args, **kwargs)\n",
      "c:\\Users\\KDP-2\\anaconda3\\envs\\ML_38\\lib\\site-packages\\sklearn\\linear_model\\_coordinate_descent.py:628: UserWarning: Coordinate descent with no regularization may lead to unexpected results and is discouraged.\n",
      "  model = cd_fast.enet_coordinate_descent(\n",
      "c:\\Users\\KDP-2\\anaconda3\\envs\\ML_38\\lib\\site-packages\\sklearn\\linear_model\\_coordinate_descent.py:628: ConvergenceWarning: Objective did not converge. You might want to increase the number of iterations, check the scale of the features or consider increasing regularisation. Duality gap: 2.460e+03, tolerance: 2.045e+00 Linear regression models with null weight for the l1 regularization term are more efficiently fitted using one of the solvers implemented in sklearn.linear_model.Ridge/RidgeCV instead.\n",
      "  model = cd_fast.enet_coordinate_descent(\n",
      "c:\\Users\\KDP-2\\anaconda3\\envs\\ML_38\\lib\\site-packages\\sklearn\\linear_model\\_coordinate_descent.py:628: ConvergenceWarning: Objective did not converge. You might want to increase the number of iterations, check the scale of the features or consider increasing regularisation. Duality gap: 8.691e+02, tolerance: 2.078e+00\n",
      "  model = cd_fast.enet_coordinate_descent(\n",
      "c:\\Users\\KDP-2\\anaconda3\\envs\\ML_38\\lib\\site-packages\\sklearn\\linear_model\\_coordinate_descent.py:628: ConvergenceWarning: Objective did not converge. You might want to increase the number of iterations, check the scale of the features or consider increasing regularisation. Duality gap: 6.640e+02, tolerance: 1.772e+00\n",
      "  model = cd_fast.enet_coordinate_descent(\n",
      "c:\\Users\\KDP-2\\anaconda3\\envs\\ML_38\\lib\\site-packages\\sklearn\\linear_model\\_coordinate_descent.py:628: ConvergenceWarning: Objective did not converge. You might want to increase the number of iterations, check the scale of the features or consider increasing regularisation. Duality gap: 1.011e+03, tolerance: 2.045e+00\n",
      "  model = cd_fast.enet_coordinate_descent(\n"
     ]
    }
   ],
   "source": [
    "### 모델의 성능을 좌우하는 Hyper-parameter 제어 즉, 튜닝\n",
    "alpha_values = [0., 1., 10, 100]\n",
    "\n",
    "for value in alpha_values:\n",
    "# 모델 인스턴스 생성\n",
    "    ridge_model = Lasso(alpha = value, max_iter = 3)    # 기본값 1.0\n",
    "\n",
    "    # 학습 진행\n",
    "    # - cv : 3개\n",
    "    # - scoring : 'mean_squared_error', 'r2'\n",
    "    # - return_train_score\n",
    "    result = cross_validate(ridge_model, X_train_scaled, y_train, \n",
    "                            cv = 3,\n",
    "                            scoring = ['neg_mean_squared_error', 'r2'],\n",
    "                        return_train_score = True,\n",
    "                        return_estimator = True)\n",
    "    print(result)\n",
    "\n",
    "    resultDF = pd.DataFrame(result)[['test_r2', 'train_r2']]\n",
    "    resultDF['diff'] = resultDF['test_r2'] - resultDF['train_r2']\n",
    "    best_idx = resultDF['diff'].sort_values()[0]\n",
    "    print(best_idx)\n",
    "\n",
    "    print(result['estimator'][0].coef_)\n",
    "    print(f'[Ridge (alpha = {value})]')\n",
    "    print(resultDF, \"\\n\\n\")\n",
    "\n",
    "    model = result['estimator'][0]\n",
    "    print(model.predict(X_train_scaled))"
   ]
  },
  {
   "cell_type": "markdown",
   "metadata": {},
   "source": [
    "- 하이퍼 파라미터 튜닝과 교차 검증을 동시에 진행"
   ]
  },
  {
   "cell_type": "code",
   "execution_count": 14,
   "metadata": {},
   "outputs": [],
   "source": [
    "from sklearn.model_selection import GridSearchCV\n"
   ]
  },
  {
   "cell_type": "code",
   "execution_count": 15,
   "metadata": {},
   "outputs": [],
   "source": [
    "# Ridge의 Hyper-parameter 값 설정\n",
    "params = {'alpha' : [0., 0.1, 0.5, 1.0],\n",
    "          'max_iter' : [3, 5]}\n",
    "\n",
    "# ==> 0., 3 => Model  # ==> 0., 5 => Model\n",
    "# ==> 0.1, 3 => Model  # ==> 0.1, 5 => Model\n",
    "# ==> 0.5, 3 => Model  # ==> 0.5, 5 => Model\n",
    "# ==> 1.0, 3 => Model  # ==> 1.0, 5 => Model\n",
    "# ==> 8개의 Ridge 모델 생성"
   ]
  },
  {
   "cell_type": "code",
   "execution_count": 16,
   "metadata": {},
   "outputs": [],
   "source": [
    "# 인스턴스 생성\n",
    "rModel = Ridge()\n",
    "\n",
    "# GridSearchCV 인스턴스 생성\n",
    "searchCV = GridSearchCV(rModel, params, cv = 3, verbose = True, return_train_score = True)"
   ]
  },
  {
   "cell_type": "code",
   "execution_count": 17,
   "metadata": {},
   "outputs": [
    {
     "name": "stdout",
     "output_type": "stream",
     "text": [
      "Fitting 3 folds for each of 8 candidates, totalling 24 fits\n"
     ]
    },
    {
     "data": {
      "text/html": [
       "<style>#sk-container-id-2 {color: black;}#sk-container-id-2 pre{padding: 0;}#sk-container-id-2 div.sk-toggleable {background-color: white;}#sk-container-id-2 label.sk-toggleable__label {cursor: pointer;display: block;width: 100%;margin-bottom: 0;padding: 0.3em;box-sizing: border-box;text-align: center;}#sk-container-id-2 label.sk-toggleable__label-arrow:before {content: \"▸\";float: left;margin-right: 0.25em;color: #696969;}#sk-container-id-2 label.sk-toggleable__label-arrow:hover:before {color: black;}#sk-container-id-2 div.sk-estimator:hover label.sk-toggleable__label-arrow:before {color: black;}#sk-container-id-2 div.sk-toggleable__content {max-height: 0;max-width: 0;overflow: hidden;text-align: left;background-color: #f0f8ff;}#sk-container-id-2 div.sk-toggleable__content pre {margin: 0.2em;color: black;border-radius: 0.25em;background-color: #f0f8ff;}#sk-container-id-2 input.sk-toggleable__control:checked~div.sk-toggleable__content {max-height: 200px;max-width: 100%;overflow: auto;}#sk-container-id-2 input.sk-toggleable__control:checked~label.sk-toggleable__label-arrow:before {content: \"▾\";}#sk-container-id-2 div.sk-estimator input.sk-toggleable__control:checked~label.sk-toggleable__label {background-color: #d4ebff;}#sk-container-id-2 div.sk-label input.sk-toggleable__control:checked~label.sk-toggleable__label {background-color: #d4ebff;}#sk-container-id-2 input.sk-hidden--visually {border: 0;clip: rect(1px 1px 1px 1px);clip: rect(1px, 1px, 1px, 1px);height: 1px;margin: -1px;overflow: hidden;padding: 0;position: absolute;width: 1px;}#sk-container-id-2 div.sk-estimator {font-family: monospace;background-color: #f0f8ff;border: 1px dotted black;border-radius: 0.25em;box-sizing: border-box;margin-bottom: 0.5em;}#sk-container-id-2 div.sk-estimator:hover {background-color: #d4ebff;}#sk-container-id-2 div.sk-parallel-item::after {content: \"\";width: 100%;border-bottom: 1px solid gray;flex-grow: 1;}#sk-container-id-2 div.sk-label:hover label.sk-toggleable__label {background-color: #d4ebff;}#sk-container-id-2 div.sk-serial::before {content: \"\";position: absolute;border-left: 1px solid gray;box-sizing: border-box;top: 0;bottom: 0;left: 50%;z-index: 0;}#sk-container-id-2 div.sk-serial {display: flex;flex-direction: column;align-items: center;background-color: white;padding-right: 0.2em;padding-left: 0.2em;position: relative;}#sk-container-id-2 div.sk-item {position: relative;z-index: 1;}#sk-container-id-2 div.sk-parallel {display: flex;align-items: stretch;justify-content: center;background-color: white;position: relative;}#sk-container-id-2 div.sk-item::before, #sk-container-id-2 div.sk-parallel-item::before {content: \"\";position: absolute;border-left: 1px solid gray;box-sizing: border-box;top: 0;bottom: 0;left: 50%;z-index: -1;}#sk-container-id-2 div.sk-parallel-item {display: flex;flex-direction: column;z-index: 1;position: relative;background-color: white;}#sk-container-id-2 div.sk-parallel-item:first-child::after {align-self: flex-end;width: 50%;}#sk-container-id-2 div.sk-parallel-item:last-child::after {align-self: flex-start;width: 50%;}#sk-container-id-2 div.sk-parallel-item:only-child::after {width: 0;}#sk-container-id-2 div.sk-dashed-wrapped {border: 1px dashed gray;margin: 0 0.4em 0.5em 0.4em;box-sizing: border-box;padding-bottom: 0.4em;background-color: white;}#sk-container-id-2 div.sk-label label {font-family: monospace;font-weight: bold;display: inline-block;line-height: 1.2em;}#sk-container-id-2 div.sk-label-container {text-align: center;}#sk-container-id-2 div.sk-container {/* jupyter's `normalize.less` sets `[hidden] { display: none; }` but bootstrap.min.css set `[hidden] { display: none !important; }` so we also need the `!important` here to be able to override the default hidden behavior on the sphinx rendered scikit-learn.org. See: https://github.com/scikit-learn/scikit-learn/issues/21755 */display: inline-block !important;position: relative;}#sk-container-id-2 div.sk-text-repr-fallback {display: none;}</style><div id=\"sk-container-id-2\" class=\"sk-top-container\"><div class=\"sk-text-repr-fallback\"><pre>GridSearchCV(cv=3, estimator=Ridge(),\n",
       "             param_grid={&#x27;alpha&#x27;: [0.0, 0.1, 0.5, 1.0], &#x27;max_iter&#x27;: [3, 5]},\n",
       "             return_train_score=True, verbose=True)</pre><b>In a Jupyter environment, please rerun this cell to show the HTML representation or trust the notebook. <br />On GitHub, the HTML representation is unable to render, please try loading this page with nbviewer.org.</b></div><div class=\"sk-container\" hidden><div class=\"sk-item sk-dashed-wrapped\"><div class=\"sk-label-container\"><div class=\"sk-label sk-toggleable\"><input class=\"sk-toggleable__control sk-hidden--visually\" id=\"sk-estimator-id-2\" type=\"checkbox\" ><label for=\"sk-estimator-id-2\" class=\"sk-toggleable__label sk-toggleable__label-arrow\">GridSearchCV</label><div class=\"sk-toggleable__content\"><pre>GridSearchCV(cv=3, estimator=Ridge(),\n",
       "             param_grid={&#x27;alpha&#x27;: [0.0, 0.1, 0.5, 1.0], &#x27;max_iter&#x27;: [3, 5]},\n",
       "             return_train_score=True, verbose=True)</pre></div></div></div><div class=\"sk-parallel\"><div class=\"sk-parallel-item\"><div class=\"sk-item\"><div class=\"sk-label-container\"><div class=\"sk-label sk-toggleable\"><input class=\"sk-toggleable__control sk-hidden--visually\" id=\"sk-estimator-id-3\" type=\"checkbox\" ><label for=\"sk-estimator-id-3\" class=\"sk-toggleable__label sk-toggleable__label-arrow\">estimator: Ridge</label><div class=\"sk-toggleable__content\"><pre>Ridge()</pre></div></div></div><div class=\"sk-serial\"><div class=\"sk-item\"><div class=\"sk-estimator sk-toggleable\"><input class=\"sk-toggleable__control sk-hidden--visually\" id=\"sk-estimator-id-4\" type=\"checkbox\" ><label for=\"sk-estimator-id-4\" class=\"sk-toggleable__label sk-toggleable__label-arrow\">Ridge</label><div class=\"sk-toggleable__content\"><pre>Ridge()</pre></div></div></div></div></div></div></div></div></div></div>"
      ],
      "text/plain": [
       "GridSearchCV(cv=3, estimator=Ridge(),\n",
       "             param_grid={'alpha': [0.0, 0.1, 0.5, 1.0], 'max_iter': [3, 5]},\n",
       "             return_train_score=True, verbose=True)"
      ]
     },
     "execution_count": 17,
     "metadata": {},
     "output_type": "execute_result"
    }
   ],
   "source": [
    "# 학습 진행\n",
    "searchCV.fit(X_train_scaled, y_train)"
   ]
  },
  {
   "cell_type": "code",
   "execution_count": null,
   "metadata": {},
   "outputs": [],
   "source": []
  },
  {
   "cell_type": "code",
   "execution_count": 18,
   "metadata": {},
   "outputs": [
    {
     "data": {
      "text/plain": [
       "{'alpha': 1.0, 'max_iter': 3}"
      ]
     },
     "execution_count": 18,
     "metadata": {},
     "output_type": "execute_result"
    }
   ],
   "source": [
    "# fit() 진행 후 모델 파라미터 확인\n",
    "searchCV.best_params_"
   ]
  },
  {
   "cell_type": "code",
   "execution_count": 19,
   "metadata": {},
   "outputs": [
    {
     "data": {
      "text/html": [
       "<style>#sk-container-id-3 {color: black;}#sk-container-id-3 pre{padding: 0;}#sk-container-id-3 div.sk-toggleable {background-color: white;}#sk-container-id-3 label.sk-toggleable__label {cursor: pointer;display: block;width: 100%;margin-bottom: 0;padding: 0.3em;box-sizing: border-box;text-align: center;}#sk-container-id-3 label.sk-toggleable__label-arrow:before {content: \"▸\";float: left;margin-right: 0.25em;color: #696969;}#sk-container-id-3 label.sk-toggleable__label-arrow:hover:before {color: black;}#sk-container-id-3 div.sk-estimator:hover label.sk-toggleable__label-arrow:before {color: black;}#sk-container-id-3 div.sk-toggleable__content {max-height: 0;max-width: 0;overflow: hidden;text-align: left;background-color: #f0f8ff;}#sk-container-id-3 div.sk-toggleable__content pre {margin: 0.2em;color: black;border-radius: 0.25em;background-color: #f0f8ff;}#sk-container-id-3 input.sk-toggleable__control:checked~div.sk-toggleable__content {max-height: 200px;max-width: 100%;overflow: auto;}#sk-container-id-3 input.sk-toggleable__control:checked~label.sk-toggleable__label-arrow:before {content: \"▾\";}#sk-container-id-3 div.sk-estimator input.sk-toggleable__control:checked~label.sk-toggleable__label {background-color: #d4ebff;}#sk-container-id-3 div.sk-label input.sk-toggleable__control:checked~label.sk-toggleable__label {background-color: #d4ebff;}#sk-container-id-3 input.sk-hidden--visually {border: 0;clip: rect(1px 1px 1px 1px);clip: rect(1px, 1px, 1px, 1px);height: 1px;margin: -1px;overflow: hidden;padding: 0;position: absolute;width: 1px;}#sk-container-id-3 div.sk-estimator {font-family: monospace;background-color: #f0f8ff;border: 1px dotted black;border-radius: 0.25em;box-sizing: border-box;margin-bottom: 0.5em;}#sk-container-id-3 div.sk-estimator:hover {background-color: #d4ebff;}#sk-container-id-3 div.sk-parallel-item::after {content: \"\";width: 100%;border-bottom: 1px solid gray;flex-grow: 1;}#sk-container-id-3 div.sk-label:hover label.sk-toggleable__label {background-color: #d4ebff;}#sk-container-id-3 div.sk-serial::before {content: \"\";position: absolute;border-left: 1px solid gray;box-sizing: border-box;top: 0;bottom: 0;left: 50%;z-index: 0;}#sk-container-id-3 div.sk-serial {display: flex;flex-direction: column;align-items: center;background-color: white;padding-right: 0.2em;padding-left: 0.2em;position: relative;}#sk-container-id-3 div.sk-item {position: relative;z-index: 1;}#sk-container-id-3 div.sk-parallel {display: flex;align-items: stretch;justify-content: center;background-color: white;position: relative;}#sk-container-id-3 div.sk-item::before, #sk-container-id-3 div.sk-parallel-item::before {content: \"\";position: absolute;border-left: 1px solid gray;box-sizing: border-box;top: 0;bottom: 0;left: 50%;z-index: -1;}#sk-container-id-3 div.sk-parallel-item {display: flex;flex-direction: column;z-index: 1;position: relative;background-color: white;}#sk-container-id-3 div.sk-parallel-item:first-child::after {align-self: flex-end;width: 50%;}#sk-container-id-3 div.sk-parallel-item:last-child::after {align-self: flex-start;width: 50%;}#sk-container-id-3 div.sk-parallel-item:only-child::after {width: 0;}#sk-container-id-3 div.sk-dashed-wrapped {border: 1px dashed gray;margin: 0 0.4em 0.5em 0.4em;box-sizing: border-box;padding-bottom: 0.4em;background-color: white;}#sk-container-id-3 div.sk-label label {font-family: monospace;font-weight: bold;display: inline-block;line-height: 1.2em;}#sk-container-id-3 div.sk-label-container {text-align: center;}#sk-container-id-3 div.sk-container {/* jupyter's `normalize.less` sets `[hidden] { display: none; }` but bootstrap.min.css set `[hidden] { display: none !important; }` so we also need the `!important` here to be able to override the default hidden behavior on the sphinx rendered scikit-learn.org. See: https://github.com/scikit-learn/scikit-learn/issues/21755 */display: inline-block !important;position: relative;}#sk-container-id-3 div.sk-text-repr-fallback {display: none;}</style><div id=\"sk-container-id-3\" class=\"sk-top-container\"><div class=\"sk-text-repr-fallback\"><pre>Ridge(max_iter=3)</pre><b>In a Jupyter environment, please rerun this cell to show the HTML representation or trust the notebook. <br />On GitHub, the HTML representation is unable to render, please try loading this page with nbviewer.org.</b></div><div class=\"sk-container\" hidden><div class=\"sk-item\"><div class=\"sk-estimator sk-toggleable\"><input class=\"sk-toggleable__control sk-hidden--visually\" id=\"sk-estimator-id-5\" type=\"checkbox\" checked><label for=\"sk-estimator-id-5\" class=\"sk-toggleable__label sk-toggleable__label-arrow\">Ridge</label><div class=\"sk-toggleable__content\"><pre>Ridge(max_iter=3)</pre></div></div></div></div></div>"
      ],
      "text/plain": [
       "Ridge(max_iter=3)"
      ]
     },
     "execution_count": 19,
     "metadata": {},
     "output_type": "execute_result"
    }
   ],
   "source": [
    "best_model = searchCV.best_estimator_\n",
    "best_model"
   ]
  },
  {
   "cell_type": "code",
   "execution_count": 20,
   "metadata": {},
   "outputs": [
    {
     "data": {
      "text/plain": [
       "6"
      ]
     },
     "execution_count": 20,
     "metadata": {},
     "output_type": "execute_result"
    }
   ],
   "source": [
    "searchCV.best_index_"
   ]
  },
  {
   "cell_type": "code",
   "execution_count": 21,
   "metadata": {},
   "outputs": [
    {
     "data": {
      "text/html": [
       "<div>\n",
       "<style scoped>\n",
       "    .dataframe tbody tr th:only-of-type {\n",
       "        vertical-align: middle;\n",
       "    }\n",
       "\n",
       "    .dataframe tbody tr th {\n",
       "        vertical-align: top;\n",
       "    }\n",
       "\n",
       "    .dataframe thead th {\n",
       "        text-align: right;\n",
       "    }\n",
       "</style>\n",
       "<table border=\"1\" class=\"dataframe\">\n",
       "  <thead>\n",
       "    <tr style=\"text-align: right;\">\n",
       "      <th></th>\n",
       "      <th>mean_fit_time</th>\n",
       "      <th>std_fit_time</th>\n",
       "      <th>mean_score_time</th>\n",
       "      <th>std_score_time</th>\n",
       "      <th>param_alpha</th>\n",
       "      <th>param_max_iter</th>\n",
       "      <th>params</th>\n",
       "      <th>split0_test_score</th>\n",
       "      <th>split1_test_score</th>\n",
       "      <th>split2_test_score</th>\n",
       "      <th>mean_test_score</th>\n",
       "      <th>std_test_score</th>\n",
       "      <th>rank_test_score</th>\n",
       "      <th>split0_train_score</th>\n",
       "      <th>split1_train_score</th>\n",
       "      <th>split2_train_score</th>\n",
       "      <th>mean_train_score</th>\n",
       "      <th>std_train_score</th>\n",
       "    </tr>\n",
       "  </thead>\n",
       "  <tbody>\n",
       "    <tr>\n",
       "      <th>0</th>\n",
       "      <td>0.005446</td>\n",
       "      <td>0.007701</td>\n",
       "      <td>0.002667</td>\n",
       "      <td>0.003772</td>\n",
       "      <td>0.0</td>\n",
       "      <td>3</td>\n",
       "      <td>{'alpha': 0.0, 'max_iter': 3}</td>\n",
       "      <td>0.747022</td>\n",
       "      <td>0.756482</td>\n",
       "      <td>0.680801</td>\n",
       "      <td>0.728101</td>\n",
       "      <td>0.033669</td>\n",
       "      <td>7</td>\n",
       "      <td>0.755720</td>\n",
       "      <td>0.740082</td>\n",
       "      <td>0.786156</td>\n",
       "      <td>0.760653</td>\n",
       "      <td>0.019131</td>\n",
       "    </tr>\n",
       "    <tr>\n",
       "      <th>1</th>\n",
       "      <td>0.000214</td>\n",
       "      <td>0.000302</td>\n",
       "      <td>0.000000</td>\n",
       "      <td>0.000000</td>\n",
       "      <td>0.0</td>\n",
       "      <td>5</td>\n",
       "      <td>{'alpha': 0.0, 'max_iter': 5}</td>\n",
       "      <td>0.747022</td>\n",
       "      <td>0.756482</td>\n",
       "      <td>0.680801</td>\n",
       "      <td>0.728101</td>\n",
       "      <td>0.033669</td>\n",
       "      <td>7</td>\n",
       "      <td>0.755720</td>\n",
       "      <td>0.740082</td>\n",
       "      <td>0.786156</td>\n",
       "      <td>0.760653</td>\n",
       "      <td>0.019131</td>\n",
       "    </tr>\n",
       "    <tr>\n",
       "      <th>2</th>\n",
       "      <td>0.002038</td>\n",
       "      <td>0.002883</td>\n",
       "      <td>0.000000</td>\n",
       "      <td>0.000000</td>\n",
       "      <td>0.1</td>\n",
       "      <td>3</td>\n",
       "      <td>{'alpha': 0.1, 'max_iter': 3}</td>\n",
       "      <td>0.747159</td>\n",
       "      <td>0.756462</td>\n",
       "      <td>0.680831</td>\n",
       "      <td>0.728151</td>\n",
       "      <td>0.033675</td>\n",
       "      <td>5</td>\n",
       "      <td>0.755720</td>\n",
       "      <td>0.740081</td>\n",
       "      <td>0.786156</td>\n",
       "      <td>0.760652</td>\n",
       "      <td>0.019131</td>\n",
       "    </tr>\n",
       "    <tr>\n",
       "      <th>3</th>\n",
       "      <td>0.000000</td>\n",
       "      <td>0.000000</td>\n",
       "      <td>0.001021</td>\n",
       "      <td>0.001444</td>\n",
       "      <td>0.1</td>\n",
       "      <td>5</td>\n",
       "      <td>{'alpha': 0.1, 'max_iter': 5}</td>\n",
       "      <td>0.747159</td>\n",
       "      <td>0.756462</td>\n",
       "      <td>0.680831</td>\n",
       "      <td>0.728151</td>\n",
       "      <td>0.033675</td>\n",
       "      <td>5</td>\n",
       "      <td>0.755720</td>\n",
       "      <td>0.740081</td>\n",
       "      <td>0.786156</td>\n",
       "      <td>0.760652</td>\n",
       "      <td>0.019131</td>\n",
       "    </tr>\n",
       "    <tr>\n",
       "      <th>4</th>\n",
       "      <td>0.000556</td>\n",
       "      <td>0.000786</td>\n",
       "      <td>0.000675</td>\n",
       "      <td>0.000955</td>\n",
       "      <td>0.5</td>\n",
       "      <td>3</td>\n",
       "      <td>{'alpha': 0.5, 'max_iter': 3}</td>\n",
       "      <td>0.747682</td>\n",
       "      <td>0.756385</td>\n",
       "      <td>0.680927</td>\n",
       "      <td>0.728331</td>\n",
       "      <td>0.033708</td>\n",
       "      <td>3</td>\n",
       "      <td>0.755705</td>\n",
       "      <td>0.740070</td>\n",
       "      <td>0.786141</td>\n",
       "      <td>0.760639</td>\n",
       "      <td>0.019129</td>\n",
       "    </tr>\n",
       "    <tr>\n",
       "      <th>5</th>\n",
       "      <td>0.000000</td>\n",
       "      <td>0.000000</td>\n",
       "      <td>0.000000</td>\n",
       "      <td>0.000000</td>\n",
       "      <td>0.5</td>\n",
       "      <td>5</td>\n",
       "      <td>{'alpha': 0.5, 'max_iter': 5}</td>\n",
       "      <td>0.747682</td>\n",
       "      <td>0.756385</td>\n",
       "      <td>0.680927</td>\n",
       "      <td>0.728331</td>\n",
       "      <td>0.033708</td>\n",
       "      <td>3</td>\n",
       "      <td>0.755705</td>\n",
       "      <td>0.740070</td>\n",
       "      <td>0.786141</td>\n",
       "      <td>0.760639</td>\n",
       "      <td>0.019129</td>\n",
       "    </tr>\n",
       "    <tr>\n",
       "      <th>6</th>\n",
       "      <td>0.000000</td>\n",
       "      <td>0.000000</td>\n",
       "      <td>0.000000</td>\n",
       "      <td>0.000000</td>\n",
       "      <td>1.0</td>\n",
       "      <td>3</td>\n",
       "      <td>{'alpha': 1.0, 'max_iter': 3}</td>\n",
       "      <td>0.748283</td>\n",
       "      <td>0.756292</td>\n",
       "      <td>0.680991</td>\n",
       "      <td>0.728522</td>\n",
       "      <td>0.033768</td>\n",
       "      <td>1</td>\n",
       "      <td>0.755663</td>\n",
       "      <td>0.740039</td>\n",
       "      <td>0.786097</td>\n",
       "      <td>0.760600</td>\n",
       "      <td>0.019124</td>\n",
       "    </tr>\n",
       "    <tr>\n",
       "      <th>7</th>\n",
       "      <td>0.004010</td>\n",
       "      <td>0.005671</td>\n",
       "      <td>0.000000</td>\n",
       "      <td>0.000000</td>\n",
       "      <td>1.0</td>\n",
       "      <td>5</td>\n",
       "      <td>{'alpha': 1.0, 'max_iter': 5}</td>\n",
       "      <td>0.748283</td>\n",
       "      <td>0.756292</td>\n",
       "      <td>0.680991</td>\n",
       "      <td>0.728522</td>\n",
       "      <td>0.033768</td>\n",
       "      <td>1</td>\n",
       "      <td>0.755663</td>\n",
       "      <td>0.740039</td>\n",
       "      <td>0.786097</td>\n",
       "      <td>0.760600</td>\n",
       "      <td>0.019124</td>\n",
       "    </tr>\n",
       "  </tbody>\n",
       "</table>\n",
       "</div>"
      ],
      "text/plain": [
       "   mean_fit_time  std_fit_time  mean_score_time  std_score_time param_alpha  \\\n",
       "0       0.005446      0.007701         0.002667        0.003772         0.0   \n",
       "1       0.000214      0.000302         0.000000        0.000000         0.0   \n",
       "2       0.002038      0.002883         0.000000        0.000000         0.1   \n",
       "3       0.000000      0.000000         0.001021        0.001444         0.1   \n",
       "4       0.000556      0.000786         0.000675        0.000955         0.5   \n",
       "5       0.000000      0.000000         0.000000        0.000000         0.5   \n",
       "6       0.000000      0.000000         0.000000        0.000000         1.0   \n",
       "7       0.004010      0.005671         0.000000        0.000000         1.0   \n",
       "\n",
       "  param_max_iter                         params  split0_test_score  \\\n",
       "0              3  {'alpha': 0.0, 'max_iter': 3}           0.747022   \n",
       "1              5  {'alpha': 0.0, 'max_iter': 5}           0.747022   \n",
       "2              3  {'alpha': 0.1, 'max_iter': 3}           0.747159   \n",
       "3              5  {'alpha': 0.1, 'max_iter': 5}           0.747159   \n",
       "4              3  {'alpha': 0.5, 'max_iter': 3}           0.747682   \n",
       "5              5  {'alpha': 0.5, 'max_iter': 5}           0.747682   \n",
       "6              3  {'alpha': 1.0, 'max_iter': 3}           0.748283   \n",
       "7              5  {'alpha': 1.0, 'max_iter': 5}           0.748283   \n",
       "\n",
       "   split1_test_score  split2_test_score  mean_test_score  std_test_score  \\\n",
       "0           0.756482           0.680801         0.728101        0.033669   \n",
       "1           0.756482           0.680801         0.728101        0.033669   \n",
       "2           0.756462           0.680831         0.728151        0.033675   \n",
       "3           0.756462           0.680831         0.728151        0.033675   \n",
       "4           0.756385           0.680927         0.728331        0.033708   \n",
       "5           0.756385           0.680927         0.728331        0.033708   \n",
       "6           0.756292           0.680991         0.728522        0.033768   \n",
       "7           0.756292           0.680991         0.728522        0.033768   \n",
       "\n",
       "   rank_test_score  split0_train_score  split1_train_score  \\\n",
       "0                7            0.755720            0.740082   \n",
       "1                7            0.755720            0.740082   \n",
       "2                5            0.755720            0.740081   \n",
       "3                5            0.755720            0.740081   \n",
       "4                3            0.755705            0.740070   \n",
       "5                3            0.755705            0.740070   \n",
       "6                1            0.755663            0.740039   \n",
       "7                1            0.755663            0.740039   \n",
       "\n",
       "   split2_train_score  mean_train_score  std_train_score  \n",
       "0            0.786156          0.760653         0.019131  \n",
       "1            0.786156          0.760653         0.019131  \n",
       "2            0.786156          0.760652         0.019131  \n",
       "3            0.786156          0.760652         0.019131  \n",
       "4            0.786141          0.760639         0.019129  \n",
       "5            0.786141          0.760639         0.019129  \n",
       "6            0.786097          0.760600         0.019124  \n",
       "7            0.786097          0.760600         0.019124  "
      ]
     },
     "execution_count": 21,
     "metadata": {},
     "output_type": "execute_result"
    }
   ],
   "source": [
    "resultDF = pd.DataFrame(searchCV.cv_results_)\n",
    "resultDF"
   ]
  },
  {
   "cell_type": "code",
   "execution_count": null,
   "metadata": {},
   "outputs": [],
   "source": []
  }
 ],
 "metadata": {
  "kernelspec": {
   "display_name": "ML_38",
   "language": "python",
   "name": "python3"
  },
  "language_info": {
   "codemirror_mode": {
    "name": "ipython",
    "version": 3
   },
   "file_extension": ".py",
   "mimetype": "text/x-python",
   "name": "python",
   "nbconvert_exporter": "python",
   "pygments_lexer": "ipython3",
   "version": "3.8.19"
  }
 },
 "nbformat": 4,
 "nbformat_minor": 2
}
