{
 "cells": [
  {
   "cell_type": "code",
   "execution_count": 19,
   "metadata": {},
   "outputs": [],
   "source": [
    "from AutoEncoderModule import *\n",
    "import torch\n",
    "import torch.nn as nn\n",
    "import numpy as np\n",
    "import pickle"
   ]
  },
  {
   "cell_type": "code",
   "execution_count": null,
   "metadata": {},
   "outputs": [],
   "source": [
    "ELEC_SCALER_PATH = './electric_min_max_scaler.pkl'\n",
    "WATER_SCALER_PATH = './water_robust_scaler.pkl'\n",
    "\n",
    "ELEC_MODEL_PATH = './model_weights_89.pth'\n",
    "WATER_MODEL_PATH = './model_weights_166.pth'"
   ]
  },
  {
   "cell_type": "code",
   "execution_count": 77,
   "metadata": {},
   "outputs": [],
   "source": [
    "# water_list = [93,49,-93,-72,-36,194,-107,-50,60,111,-81,-27,37,23,-72,-51,65,77,-73,-47,93,49,-93,-20,10,0,0]\n",
    "elec_list = [1.73,1.62,1.31,1.48,1.74,1.71,1.3,1.49,1.94,1.68,1.26,1.39,1.69,1.61,1.28,1.44,1.77,1.68,1.2,1.42,1.88,1.67,1.24,1.39,1.2,1.2, 1.2, 1.2]"
   ]
  },
  {
   "cell_type": "code",
   "execution_count": 78,
   "metadata": {},
   "outputs": [
    {
     "name": "stderr",
     "output_type": "stream",
     "text": [
      "c:\\Users\\KDP-2\\anaconda3\\envs\\Project_38\\lib\\site-packages\\sklearn\\base.py:465: UserWarning: X does not have valid feature names, but MinMaxScaler was fitted with feature names\n",
      "  warnings.warn(\n"
     ]
    },
    {
     "data": {
      "text/plain": [
       "tensor([[0.6250, 0.5000, 0.1477, 0.3409, 0.6364, 0.6023, 0.1364, 0.3523, 0.8636,\n",
       "         0.5682, 0.0909, 0.2386, 0.5795, 0.4886, 0.1136, 0.2955, 0.6705, 0.5682,\n",
       "         0.0227, 0.2727, 0.7955, 0.5568, 0.0682, 0.2386, 0.0227, 0.0227, 0.0227,\n",
       "         0.0227]])"
      ]
     },
     "execution_count": 78,
     "metadata": {},
     "output_type": "execute_result"
    }
   ],
   "source": [
    "with open(ELEC_SCALER_PATH, 'rb') as f:\n",
    "    elec_scaler = pickle.load(f)\n",
    "\n",
    "with open(WATER_SCALER_PATH, 'rb') as f:\n",
    "    water_scaler = pickle.load(f)\n",
    "\n",
    "elec_df = pd.DataFrame(columns = range(28))\n",
    "elec_df.loc[0] = elec_list\n",
    "\n",
    "# water_df = pd.DataFrame(columns = range(27))\n",
    "# water_df.loc[0] = water_list\n",
    "\n",
    "scaled_elec = elec_scaler.transform(elec_df)\n",
    "# scaled_water = water_scaler.transform(water_df)\n",
    "\n",
    "elec_ts = torch.FloatTensor(scaled_elec)\n",
    "# water_ts = torch.FloatTensor(scaled_water)\n",
    "\n",
    "elec_ts\n",
    "\n"
   ]
  },
  {
   "cell_type": "code",
   "execution_count": 79,
   "metadata": {},
   "outputs": [
    {
     "ename": "NameError",
     "evalue": "name 'water_ts' is not defined",
     "output_type": "error",
     "traceback": [
      "\u001b[1;31m---------------------------------------------------------------------------\u001b[0m",
      "\u001b[1;31mNameError\u001b[0m                                 Traceback (most recent call last)",
      "Cell \u001b[1;32mIn[79], line 1\u001b[0m\n\u001b[1;32m----> 1\u001b[0m \u001b[43mwater_ts\u001b[49m\n",
      "\u001b[1;31mNameError\u001b[0m: name 'water_ts' is not defined"
     ]
    }
   ],
   "source": [
    "water_ts"
   ]
  },
  {
   "cell_type": "code",
   "execution_count": 80,
   "metadata": {},
   "outputs": [
    {
     "ename": "NameError",
     "evalue": "name 'water_ts' is not defined",
     "output_type": "error",
     "traceback": [
      "\u001b[1;31m---------------------------------------------------------------------------\u001b[0m",
      "\u001b[1;31mNameError\u001b[0m                                 Traceback (most recent call last)",
      "Cell \u001b[1;32mIn[80], line 8\u001b[0m\n\u001b[0;32m      5\u001b[0m water_model\u001b[38;5;241m.\u001b[39mload_state_dict(torch\u001b[38;5;241m.\u001b[39mload(WATER_MODEL_PATH, map_location \u001b[38;5;241m=\u001b[39m torch\u001b[38;5;241m.\u001b[39mdevice(\u001b[38;5;124m'\u001b[39m\u001b[38;5;124mcpu\u001b[39m\u001b[38;5;124m'\u001b[39m), weights_only \u001b[38;5;241m=\u001b[39m \u001b[38;5;28;01mTrue\u001b[39;00m))\n\u001b[0;32m      6\u001b[0m water_model\u001b[38;5;241m.\u001b[39meval()\n\u001b[1;32m----> 8\u001b[0m water_predict_value \u001b[38;5;241m=\u001b[39m water_model(\u001b[43mwater_ts\u001b[49m)\n\u001b[0;32m      9\u001b[0m water_predict_value\n",
      "\u001b[1;31mNameError\u001b[0m: name 'water_ts' is not defined"
     ]
    }
   ],
   "source": [
    "input_size = 27\n",
    "hidden_dim = 128\n",
    "\n",
    "water_model = VanillaModel(input_size = input_size, hidden_dim = hidden_dim)\n",
    "water_model.load_state_dict(torch.load(WATER_MODEL_PATH, map_location = torch.device('cpu'), weights_only = True))\n",
    "water_model.eval()\n",
    "\n",
    "water_predict_value = water_model(water_ts)\n",
    "water_predict_value"
   ]
  },
  {
   "cell_type": "code",
   "execution_count": 81,
   "metadata": {},
   "outputs": [
    {
     "data": {
      "text/plain": [
       "tensor([[0.6251, 0.4984, 0.1180, 0.3283, 0.6524, 0.6007, 0.1739, 0.3552, 0.8601,\n",
       "         0.5720, 0.0842, 0.2269, 0.5967, 0.4770, 0.0878, 0.2365, 0.6819, 0.5540,\n",
       "         0.0780, 0.3602, 0.7878, 0.6314, 0.0513, 0.1012, 0.1039, 0.1070, 0.0874,\n",
       "         0.0208]], grad_fn=<AddmmBackward0>)"
      ]
     },
     "execution_count": 81,
     "metadata": {},
     "output_type": "execute_result"
    }
   ],
   "source": [
    "input_size = 28\n",
    "hidden_dim = 256\n",
    "\n",
    "elec_model = VanillaModel(input_size = input_size, hidden_dim = hidden_dim)\n",
    "elec_model.load_state_dict(torch.load(ELEC_MODEL_PATH, map_location = torch.device('cpu'), weights_only = True))\n",
    "elec_model.eval()\n",
    "\n",
    "elec_predict_value = elec_model(elec_ts)\n",
    "elec_predict_value"
   ]
  },
  {
   "cell_type": "code",
   "execution_count": 82,
   "metadata": {},
   "outputs": [
    {
     "data": {
      "text/plain": [
       "array([[1.7300507, 1.6185739, 1.2838594, 1.4689155, 1.7540829, 1.7086508,\n",
       "        1.3330611, 1.4925996, 1.936863 , 1.6833357, 1.2541289, 1.3796595,\n",
       "        1.7051294, 1.5997428, 1.2572595, 1.3881507, 1.7800292, 1.6675302,\n",
       "        1.2486577, 1.4969479, 1.8732288, 1.7356366, 1.2251221, 1.2690616,\n",
       "        1.271407 , 1.2741516, 1.2569125, 1.1983331]], dtype=float32)"
      ]
     },
     "execution_count": 82,
     "metadata": {},
     "output_type": "execute_result"
    }
   ],
   "source": [
    "elec_scaler.inverse_transform(elec_predict_value.detach().numpy())"
   ]
  },
  {
   "cell_type": "code",
   "execution_count": 83,
   "metadata": {},
   "outputs": [
    {
     "data": {
      "text/plain": [
       "[1.73,\n",
       " 1.62,\n",
       " 1.31,\n",
       " 1.48,\n",
       " 1.74,\n",
       " 1.71,\n",
       " 1.3,\n",
       " 1.49,\n",
       " 1.94,\n",
       " 1.68,\n",
       " 1.26,\n",
       " 1.39,\n",
       " 1.69,\n",
       " 1.61,\n",
       " 1.28,\n",
       " 1.44,\n",
       " 1.77,\n",
       " 1.68,\n",
       " 1.2,\n",
       " 1.42,\n",
       " 1.88,\n",
       " 1.67,\n",
       " 1.24,\n",
       " 1.39,\n",
       " 1.2,\n",
       " 1.2,\n",
       " 1.2,\n",
       " 1.2]"
      ]
     },
     "execution_count": 83,
     "metadata": {},
     "output_type": "execute_result"
    }
   ],
   "source": [
    "elec_list"
   ]
  },
  {
   "cell_type": "code",
   "execution_count": 9,
   "metadata": {},
   "outputs": [
    {
     "data": {
      "text/plain": [
       "tensor(0.0101, grad_fn=<MeanBackward0>)"
      ]
     },
     "execution_count": 9,
     "metadata": {},
     "output_type": "execute_result"
    }
   ],
   "source": [
    "nn.L1Loss()(elec_ts, elec_predict_value)"
   ]
  },
  {
   "cell_type": "code",
   "execution_count": null,
   "metadata": {},
   "outputs": [
    {
     "data": {
      "text/plain": [
       "tensor([[-1.3244, -1.3244, -1.3244,  0.8375, -1.2344,  3.1784,  0.5044,  0.6213,\n",
       "         -0.9368, -0.1010,  0.3785, -0.5680, -0.8375, -0.0541,  0.3681, -0.4689,\n",
       "         -0.9097, -0.0727,  0.5099,  0.4595, -0.8462,  0.1329,  0.5670,  0.0267,\n",
       "          3.2718,  2.5486,  3.1794,  3.1798]], grad_fn=<AddmmBackward0>)"
      ]
     },
     "execution_count": 117,
     "metadata": {},
     "output_type": "execute_result"
    }
   ],
   "source": [
    "input_size = 28\n",
    "hidden_dim = 64\n",
    "\n",
    "water_model = VanillaModel(input_size = input_size, hidden_dim = hidden_dim)\n",
    "water_model.load_state_dict(torch.load(WATER_MODEL_PATH, map_location = torch.device('cpu'), weights_only = True))\n",
    "water_model.eval()\n",
    "\n",
    "water_predict_value = water_model(water_ts)\n",
    "water_predict_value"
   ]
  },
  {
   "cell_type": "code",
   "execution_count": null,
   "metadata": {},
   "outputs": [
    {
     "data": {
      "text/plain": [
       "tensor([[-1.3243, -1.3243, -1.3243,  0.8378, -1.2342,  3.1802,  0.5045,  0.6216,\n",
       "         -0.9369, -0.0991,  0.3784, -0.5676, -0.8378, -0.0541,  0.3694, -0.4685,\n",
       "         -0.9099, -0.0721,  0.5135,  0.4595, -0.8468,  0.1351,  0.5676,  0.0270,\n",
       "          3.2703,  2.5495,  3.1802,  3.1802]])"
      ]
     },
     "execution_count": 118,
     "metadata": {},
     "output_type": "execute_result"
    }
   ],
   "source": [
    "water_ts"
   ]
  },
  {
   "cell_type": "code",
   "execution_count": null,
   "metadata": {},
   "outputs": [
    {
     "data": {
      "text/plain": [
       "tensor(0.0007, grad_fn=<MeanBackward0>)"
      ]
     },
     "execution_count": 119,
     "metadata": {},
     "output_type": "execute_result"
    }
   ],
   "source": [
    "nn.L1Loss()(water_ts, water_predict_value)"
   ]
  }
 ],
 "metadata": {
  "kernelspec": {
   "display_name": "Project_38",
   "language": "python",
   "name": "python3"
  },
  "language_info": {
   "codemirror_mode": {
    "name": "ipython",
    "version": 3
   },
   "file_extension": ".py",
   "mimetype": "text/x-python",
   "name": "python",
   "nbconvert_exporter": "python",
   "pygments_lexer": "ipython3",
   "version": "3.8.20"
  }
 },
 "nbformat": 4,
 "nbformat_minor": 2
}
