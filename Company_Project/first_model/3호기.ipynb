{
 "cells": [
  {
   "cell_type": "code",
   "execution_count": 1,
   "metadata": {},
   "outputs": [
    {
     "ename": "ModuleNotFoundError",
     "evalue": "No module named 'ProjectModule'",
     "output_type": "error",
     "traceback": [
      "\u001b[1;31m---------------------------------------------------------------------------\u001b[0m",
      "\u001b[1;31mModuleNotFoundError\u001b[0m                       Traceback (most recent call last)",
      "Cell \u001b[1;32mIn[1], line 2\u001b[0m\n\u001b[0;32m      1\u001b[0m \u001b[38;5;28;01mimport\u001b[39;00m \u001b[38;5;21;01mtorch\u001b[39;00m\n\u001b[1;32m----> 2\u001b[0m \u001b[38;5;28;01mfrom\u001b[39;00m \u001b[38;5;21;01mProjectModule\u001b[39;00m \u001b[38;5;28;01mimport\u001b[39;00m \u001b[38;5;241m*\u001b[39m\n\u001b[0;32m      3\u001b[0m \u001b[38;5;28;01mimport\u001b[39;00m \u001b[38;5;21;01mpandas\u001b[39;00m \u001b[38;5;28;01mas\u001b[39;00m \u001b[38;5;21;01mpd\u001b[39;00m\n\u001b[0;32m      4\u001b[0m \u001b[38;5;28;01mimport\u001b[39;00m \u001b[38;5;21;01mpickle\u001b[39;00m\n",
      "\u001b[1;31mModuleNotFoundError\u001b[0m: No module named 'ProjectModule'"
     ]
    }
   ],
   "source": [
    "import torch\n",
    "from ProjectModule import *\n",
    "import pandas as pd\n",
    "import pickle"
   ]
  },
  {
   "cell_type": "code",
   "execution_count": null,
   "metadata": {},
   "outputs": [
    {
     "name": "stderr",
     "output_type": "stream",
     "text": [
      "C:\\Users\\KDP-2\\AppData\\Local\\Temp\\ipykernel_24528\\4106913018.py:11: FutureWarning: You are using `torch.load` with `weights_only=False` (the current default value), which uses the default pickle module implicitly. It is possible to construct malicious pickle data which will execute arbitrary code during unpickling (See https://github.com/pytorch/pytorch/blob/main/SECURITY.md#untrusted-models for more details). In a future release, the default value for `weights_only` will be flipped to `True`. This limits the functions that could be executed during unpickling. Arbitrary objects will no longer be allowed to be loaded via this mode unless they are explicitly allowlisted by the user via `torch.serialization.add_safe_globals`. We recommend you start setting `weights_only=True` for any use case where you don't have full control of the loaded file. Please open an issue on GitHub for any issues related to this experimental feature.\n",
      "  water_lstm_model.load_state_dict(torch.load(r'C:\\Users\\KDP-2\\OneDrive\\바탕 화면\\Python\\기업 프로젝트\\water_best_model_0.91.pth', map_location = torch.device('cpu')))\n"
     ]
    },
    {
     "data": {
      "text/plain": [
       "LSTMModel(\n",
       "  (model): LSTM(28, 128, num_layers=2, batch_first=True, dropout=0.9, bidirectional=True)\n",
       "  (linear): Linear(in_features=256, out_features=1, bias=True)\n",
       ")"
      ]
     },
     "execution_count": 30,
     "metadata": {},
     "output_type": "execute_result"
    }
   ],
   "source": [
    "input_size = 28\n",
    "hidden_dim = 128\n",
    "n_layers = 2\n",
    "dropout = 0.9\n",
    "DEVICE = 'cuda' if torch.cuda.is_available() else 'cpu'\n",
    "\n",
    "water_lstm_model = LSTMModel(input_size = input_size, hidden_dim = hidden_dim,\n",
    "                       n_layers = n_layers, dropout = dropout, bidirectional = True).to(DEVICE)\n",
    "\n",
    "\n",
    "water_lstm_model.load_state_dict(torch.load(r'C:\\Users\\KDP-2\\OneDrive\\바탕 화면\\Python\\기업 프로젝트\\water_best_model_0.91.pth', map_location = torch.device('cpu')))\n",
    "water_lstm_model.eval()\n"
   ]
  },
  {
   "cell_type": "code",
   "execution_count": null,
   "metadata": {},
   "outputs": [
    {
     "name": "stderr",
     "output_type": "stream",
     "text": [
      "C:\\Users\\KDP-2\\AppData\\Local\\Temp\\ipykernel_24528\\356359432.py:10: FutureWarning: You are using `torch.load` with `weights_only=False` (the current default value), which uses the default pickle module implicitly. It is possible to construct malicious pickle data which will execute arbitrary code during unpickling (See https://github.com/pytorch/pytorch/blob/main/SECURITY.md#untrusted-models for more details). In a future release, the default value for `weights_only` will be flipped to `True`. This limits the functions that could be executed during unpickling. Arbitrary objects will no longer be allowed to be loaded via this mode unless they are explicitly allowlisted by the user via `torch.serialization.add_safe_globals`. We recommend you start setting `weights_only=True` for any use case where you don't have full control of the loaded file. Please open an issue on GitHub for any issues related to this experimental feature.\n",
      "  electric_lstm_model.load_state_dict(torch.load(r'C:\\Users\\KDP-2\\OneDrive\\바탕 화면\\Python\\기업 프로젝트\\model_weights_73_0.8415.pth', map_location = torch.device('cpu')))\n"
     ]
    },
    {
     "data": {
      "text/plain": [
       "LSTMModel(\n",
       "  (model): LSTM(28, 32, num_layers=2, batch_first=True, dropout=0.9, bidirectional=True)\n",
       "  (linear): Linear(in_features=64, out_features=1, bias=True)\n",
       ")"
      ]
     },
     "execution_count": 31,
     "metadata": {},
     "output_type": "execute_result"
    }
   ],
   "source": [
    "input_size = 28\n",
    "hidden_dim = 32\n",
    "n_layers = 2\n",
    "dropout = 0.9\n",
    "DEVICE = 'cuda' if torch.cuda.is_available() else 'cpu'\n",
    "\n",
    "electric_lstm_model = LSTMModel(input_size = input_size, hidden_dim = hidden_dim,\n",
    "                       n_layers = n_layers, dropout = dropout, bidirectional = True).to(DEVICE)\n",
    "\n",
    "electric_lstm_model.load_state_dict(torch.load(r'C:\\Users\\KDP-2\\OneDrive\\바탕 화면\\Python\\기업 프로젝트\\model_weights_73_0.8415.pth', map_location = torch.device('cpu')))\n",
    "electric_lstm_model.eval()"
   ]
  },
  {
   "cell_type": "code",
   "execution_count": null,
   "metadata": {},
   "outputs": [
    {
     "data": {
      "text/html": [
       "<div>\n",
       "<style scoped>\n",
       "    .dataframe tbody tr th:only-of-type {\n",
       "        vertical-align: middle;\n",
       "    }\n",
       "\n",
       "    .dataframe tbody tr th {\n",
       "        vertical-align: top;\n",
       "    }\n",
       "\n",
       "    .dataframe thead th {\n",
       "        text-align: right;\n",
       "    }\n",
       "</style>\n",
       "<table border=\"1\" class=\"dataframe\">\n",
       "  <thead>\n",
       "    <tr style=\"text-align: right;\">\n",
       "      <th></th>\n",
       "      <th>0</th>\n",
       "      <th>1</th>\n",
       "      <th>2</th>\n",
       "      <th>3</th>\n",
       "      <th>4</th>\n",
       "      <th>5</th>\n",
       "      <th>6</th>\n",
       "      <th>7</th>\n",
       "      <th>8</th>\n",
       "      <th>9</th>\n",
       "      <th>...</th>\n",
       "      <th>18</th>\n",
       "      <th>19</th>\n",
       "      <th>20</th>\n",
       "      <th>21</th>\n",
       "      <th>22</th>\n",
       "      <th>23</th>\n",
       "      <th>24</th>\n",
       "      <th>25</th>\n",
       "      <th>26</th>\n",
       "      <th>27</th>\n",
       "    </tr>\n",
       "  </thead>\n",
       "  <tbody>\n",
       "    <tr>\n",
       "      <th>0</th>\n",
       "      <td>148</td>\n",
       "      <td>36</td>\n",
       "      <td>320</td>\n",
       "      <td>185</td>\n",
       "      <td>138</td>\n",
       "      <td>50</td>\n",
       "      <td>460</td>\n",
       "      <td>192</td>\n",
       "      <td>176</td>\n",
       "      <td>60</td>\n",
       "      <td>...</td>\n",
       "      <td>128</td>\n",
       "      <td>136</td>\n",
       "      <td>139</td>\n",
       "      <td>32</td>\n",
       "      <td>182</td>\n",
       "      <td>148</td>\n",
       "      <td>40</td>\n",
       "      <td>80</td>\n",
       "      <td>152</td>\n",
       "      <td>290</td>\n",
       "    </tr>\n",
       "  </tbody>\n",
       "</table>\n",
       "<p>1 rows × 28 columns</p>\n",
       "</div>"
      ],
      "text/plain": [
       "    0   1    2    3    4   5    6    7    8   9   ...   18   19   20  21   22  \\\n",
       "0  148  36  320  185  138  50  460  192  176  60  ...  128  136  139  32  182   \n",
       "\n",
       "    23  24  25   26   27  \n",
       "0  148  40  80  152  290  \n",
       "\n",
       "[1 rows x 28 columns]"
      ]
     },
     "execution_count": 46,
     "metadata": {},
     "output_type": "execute_result"
    }
   ],
   "source": [
    "featureDF = pd.DataFrame(columns = range(28))\n",
    "featureDF.loc[0] = [148,36,320,185,138,50,460,192,176,60,132,137,140,30,186,152,40,58,128,136,139,32,182,148,40,80,152, 290\n",
    "]\n",
    "featureDF"
   ]
  },
  {
   "cell_type": "code",
   "execution_count": null,
   "metadata": {},
   "outputs": [
    {
     "name": "stderr",
     "output_type": "stream",
     "text": [
      "c:\\Users\\KDP-2\\anaconda3\\envs\\Project_38\\lib\\site-packages\\sklearn\\base.py:465: UserWarning: X does not have valid feature names, but MinMaxScaler was fitted with feature names\n",
      "  warnings.warn(\n",
      "c:\\Users\\KDP-2\\anaconda3\\envs\\Project_38\\lib\\site-packages\\sklearn\\base.py:465: UserWarning: X does not have valid feature names, but RobustScaler was fitted with feature names\n",
      "  warnings.warn(\n"
     ]
    },
    {
     "data": {
      "text/plain": [
       "tensor([[283.2565]], grad_fn=<AddmmBackward0>)"
      ]
     },
     "execution_count": 47,
     "metadata": {},
     "output_type": "execute_result"
    }
   ],
   "source": [
    "\n",
    "with open(r'C:\\Users\\KDP-2\\OneDrive\\바탕 화면\\Python\\기업 프로젝트\\electric_min_max_scaler.pkl', 'rb') as f:\n",
    "    electric_scaler = pickle.load(f)\n",
    "\n",
    "with open(r'C:\\Users\\KDP-2\\OneDrive\\바탕 화면\\Python\\기업 프로젝트\\water_robust_scaler.pkl', 'rb') as f:\n",
    "    water_scaler = pickle.load(f)\n",
    "\n",
    "electric_scaled_df = electric_scaler.transform(featureDF)\n",
    "water_scaled_df = water_scaler.transform(featureDF)\n",
    "\n",
    "electric_featureTS = torch.FloatTensor(electric_scaled_df)\n",
    "water_featureTS = torch.FloatTensor(water_scaled_df)\n",
    "\n",
    "electric_result = electric_lstm_model(electric_featureTS)\n",
    "water_result = water_lstm_model(water_featureTS)\n",
    "\n",
    "water_result"
   ]
  },
  {
   "cell_type": "code",
   "execution_count": null,
   "metadata": {},
   "outputs": [
    {
     "name": "stdout",
     "output_type": "stream",
     "text": [
      "    0    1   2    3    4    5   6    7    8    9   ...  18   19   20   21  22  \\\n",
      "0  145  140  32  310  180  135  48  450  192  170  ...  54  132  134  136  27   \n",
      "\n",
      "    23   24  25  26   27  \n",
      "0  180  148  35  76  152  \n",
      "\n",
      "[1 rows x 28 columns]\n",
      "tensor([[-0.0180, -0.0631, -1.0360,  1.4685,  0.2973, -0.1081, -0.8919,  2.7297,\n",
      "          0.4054,  0.2072, -0.8018, -0.1712, -0.1532, -0.0991, -1.0541,  0.3423,\n",
      "          0.0450, -0.9640, -0.8378, -0.1351, -0.1140, -0.0991, -1.0811,  0.2973,\n",
      "          0.0090, -1.0090, -0.6396,  0.0450]])\n",
      "tensor([[1.3029]], grad_fn=<AddmmBackward0>) tensor([[294.9832]], grad_fn=<AddmmBackward0>)\n"
     ]
    },
    {
     "name": "stderr",
     "output_type": "stream",
     "text": [
      "c:\\Users\\KDP-2\\anaconda3\\envs\\Project_38\\lib\\site-packages\\sklearn\\base.py:465: UserWarning: X does not have valid feature names, but MinMaxScaler was fitted with feature names\n",
      "  warnings.warn(\n",
      "c:\\Users\\KDP-2\\anaconda3\\envs\\Project_38\\lib\\site-packages\\sklearn\\base.py:465: UserWarning: X does not have valid feature names, but RobustScaler was fitted with feature names\n",
      "  warnings.warn(\n"
     ]
    }
   ],
   "source": [
    "electric_featureDF = pd.DataFrame(columns = range(28))\n",
    "electric_featureDF.loc[0] = [1.72,1.59,1.23,1.44,1.89,1.65,1.26,1.36,1.68,1.63,1.20,1.38,1.70,1.58,1.22,1.42,1.69,1.51,1.24,1.39,1.74,1.62,1.28,1.43,1.78,1.60,1.25,1.25]\n",
    "\n",
    "water_featureDF = pd.DataFrame(columns = range(28))\n",
    "water_featureDF.loc[0] = [145,140,32,310,180,135,48,450,192,170,58,128,130,136,30,185,152,40,54,132,134,136,27,180,148,35,76,152\n",
    "]\n",
    "\n",
    "electric_scaled_df = electric_scaler.transform(electric_featureDF)\n",
    "water_scaled_df = water_scaler.transform(water_featureDF)\n",
    "\n",
    "electric_featureTS = torch.FloatTensor(electric_scaled_df)\n",
    "water_featureTS = torch.FloatTensor(water_scaled_df)\n",
    "\n",
    "electric_result = electric_lstm_model(electric_featureTS)\n",
    "water_result = water_lstm_model(water_featureTS)\n",
    "\n",
    "print(water_featureDF)\n",
    "print(water_featureTS)\n",
    "print(electric_result, water_result)"
   ]
  },
  {
   "cell_type": "code",
   "execution_count": null,
   "metadata": {},
   "outputs": [
    {
     "data": {
      "text/plain": [
       "tensor([[1.4331]], grad_fn=<MulBackward0>)"
      ]
     },
     "execution_count": 75,
     "metadata": {},
     "output_type": "execute_result"
    }
   ],
   "source": [
    "electric_result * 1.1"
   ]
  },
  {
   "cell_type": "code",
   "execution_count": null,
   "metadata": {},
   "outputs": [
    {
     "name": "stdout",
     "output_type": "stream",
     "text": [
      "['LSTMModel', '__builtins__', '__cached__', '__doc__', '__file__', '__loader__', '__name__', '__package__', '__spec__', 'nn', 'torch']\n"
     ]
    }
   ],
   "source": [
    "from .Module.ProjectModule import *"
   ]
  },
  {
   "cell_type": "code",
   "execution_count": null,
   "metadata": {},
   "outputs": [
    {
     "ename": "NameError",
     "evalue": "name 'preprocessing' is not defined",
     "output_type": "error",
     "traceback": [
      "\u001b[1;31m---------------------------------------------------------------------------\u001b[0m",
      "\u001b[1;31mNameError\u001b[0m                                 Traceback (most recent call last)",
      "Cell \u001b[1;32mIn[108], line 10\u001b[0m\n\u001b[0;32m      7\u001b[0m water_inputs \u001b[38;5;241m=\u001b[39m [\u001b[38;5;241m145\u001b[39m,\u001b[38;5;241m140\u001b[39m,\u001b[38;5;241m32\u001b[39m,\u001b[38;5;241m310\u001b[39m,\u001b[38;5;241m180\u001b[39m,\u001b[38;5;241m135\u001b[39m,\u001b[38;5;241m48\u001b[39m,\u001b[38;5;241m450\u001b[39m,\u001b[38;5;241m192\u001b[39m,\u001b[38;5;241m170\u001b[39m,\u001b[38;5;241m58\u001b[39m,\u001b[38;5;241m128\u001b[39m,\u001b[38;5;241m130\u001b[39m,\u001b[38;5;241m136\u001b[39m,\u001b[38;5;241m30\u001b[39m,\u001b[38;5;241m185\u001b[39m,\u001b[38;5;241m152\u001b[39m,\u001b[38;5;241m40\u001b[39m,\u001b[38;5;241m54\u001b[39m,\u001b[38;5;241m132\u001b[39m,\u001b[38;5;241m134\u001b[39m,\u001b[38;5;241m136\u001b[39m,\u001b[38;5;241m27\u001b[39m,\u001b[38;5;241m180\u001b[39m,\u001b[38;5;241m148\u001b[39m,\u001b[38;5;241m35\u001b[39m,\u001b[38;5;241m76\u001b[39m,\u001b[38;5;241m152\u001b[39m]\n\u001b[0;32m      8\u001b[0m electric_inputs \u001b[38;5;241m=\u001b[39m [\u001b[38;5;241m1.72\u001b[39m,\u001b[38;5;241m1.59\u001b[39m,\u001b[38;5;241m1.23\u001b[39m,\u001b[38;5;241m1.44\u001b[39m,\u001b[38;5;241m1.89\u001b[39m,\u001b[38;5;241m1.65\u001b[39m,\u001b[38;5;241m1.26\u001b[39m,\u001b[38;5;241m1.36\u001b[39m,\u001b[38;5;241m1.68\u001b[39m,\u001b[38;5;241m1.63\u001b[39m,\u001b[38;5;241m1.20\u001b[39m,\u001b[38;5;241m1.38\u001b[39m,\u001b[38;5;241m1.70\u001b[39m,\u001b[38;5;241m1.58\u001b[39m,\u001b[38;5;241m1.22\u001b[39m,\u001b[38;5;241m1.42\u001b[39m,\u001b[38;5;241m1.69\u001b[39m,\u001b[38;5;241m1.51\u001b[39m,\u001b[38;5;241m1.24\u001b[39m,\u001b[38;5;241m1.39\u001b[39m,\u001b[38;5;241m1.74\u001b[39m,\u001b[38;5;241m1.62\u001b[39m,\u001b[38;5;241m1.28\u001b[39m,\u001b[38;5;241m1.43\u001b[39m,\u001b[38;5;241m1.78\u001b[39m,\u001b[38;5;241m1.60\u001b[39m,\u001b[38;5;241m1.25\u001b[39m,\u001b[38;5;241m1.25\u001b[39m]\n\u001b[1;32m---> 10\u001b[0m water_TS \u001b[38;5;241m=\u001b[39m \u001b[43mpreprocessing\u001b[49m(water_inputs, WATER_SCALER_PATH)\n\u001b[0;32m     11\u001b[0m electric_TS \u001b[38;5;241m=\u001b[39m preprocessing(electric_inputs, ELECTRIC_SCALER_PATH)\n\u001b[0;32m     13\u001b[0m water_model \u001b[38;5;241m=\u001b[39m load_water_model(WATER_MODEL_PATH)\n",
      "\u001b[1;31mNameError\u001b[0m: name 'preprocessing' is not defined"
     ]
    }
   ],
   "source": [
    "WATER_MODEL_PATH = './water_best_model_0.91.pth'\n",
    "ELECTRIC_MODEL_PATH = './model_weights_73_0.8415.pth'\n",
    "\n",
    "WATER_SCALER_PATH = './water_robust_scaler.pkl'\n",
    "ELECTRIC_SCALER_PATH = './electric_min_max_scaler.pkl'\n",
    "\n",
    "water_inputs = [145,140,32,310,180,135,48,450,192,170,58,128,130,136,30,185,152,40,54,132,134,136,27,180,148,35,76,152]\n",
    "electric_inputs = [1.72,1.59,1.23,1.44,1.89,1.65,1.26,1.36,1.68,1.63,1.20,1.38,1.70,1.58,1.22,1.42,1.69,1.51,1.24,1.39,1.74,1.62,1.28,1.43,1.78,1.60,1.25,1.25]\n",
    "\n",
    "water_TS = preprocessing(water_inputs, WATER_SCALER_PATH)\n",
    "electric_TS = preprocessing(electric_inputs, ELECTRIC_SCALER_PATH)\n",
    "\n",
    "water_model = load_water_model(WATER_MODEL_PATH)\n",
    "electric_model = load_electric_model(ELECTRIC_MODEL_PATH)\n",
    "\n",
    "water_predict_value, electric_predict_value = predict_values(water_model, electric_model, water_TS, electric_TS)"
   ]
  },
  {
   "cell_type": "code",
   "execution_count": null,
   "metadata": {},
   "outputs": [
    {
     "name": "stdout",
     "output_type": "stream",
     "text": [
      "['LSTMModel', '__builtins__', '__cached__', '__doc__', '__file__', '__loader__', '__name__', '__package__', '__spec__', 'nn', 'torch']\n"
     ]
    }
   ],
   "source": [
    "print(dir(ProjectModule))"
   ]
  },
  {
   "cell_type": "code",
   "execution_count": null,
   "metadata": {},
   "outputs": [],
   "source": []
  }
 ],
 "metadata": {
  "kernelspec": {
   "display_name": "Project_38",
   "language": "python",
   "name": "python3"
  },
  "language_info": {
   "codemirror_mode": {
    "name": "ipython",
    "version": 3
   },
   "file_extension": ".py",
   "mimetype": "text/x-python",
   "name": "python",
   "nbconvert_exporter": "python",
   "pygments_lexer": "ipython3",
   "version": "3.8.20"
  }
 },
 "nbformat": 4,
 "nbformat_minor": 2
}
