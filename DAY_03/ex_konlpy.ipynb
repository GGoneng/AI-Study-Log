{
 "cells": [
  {
   "cell_type": "markdown",
   "metadata": {},
   "source": [
    "#### 한국어 형태소 분석\n",
    "\n",
    "- Konlpy 패키지 활용\n",
    "    * 내부에 5가지 형태소 분석 패키지 포함\n",
    "    * 5가지 형태소 분석기 사용법 동일. 쉬움"
   ]
  },
  {
   "cell_type": "markdown",
   "metadata": {},
   "source": [
    "- [1] 모듈 로딩 <hr>"
   ]
  },
  {
   "cell_type": "code",
   "execution_count": 1,
   "metadata": {},
   "outputs": [],
   "source": [
    "from konlpy.tag import *                    # 의미 : 패키지 안에 모든 것 다 가져오기"
   ]
  },
  {
   "cell_type": "markdown",
   "metadata": {},
   "source": [
    "- [2] 다양한 형태소 분석기 설정"
   ]
  },
  {
   "cell_type": "code",
   "execution_count": 4,
   "metadata": {},
   "outputs": [],
   "source": [
    "#### 한나눔 형태소 분석기\n",
    "han = Hannanum()\n",
    "\n",
    "text = '크리스마스가 이제 3달 남다. 오늘 날씨가 화창하니 너무 좋다!'"
   ]
  },
  {
   "cell_type": "code",
   "execution_count": 5,
   "metadata": {},
   "outputs": [
    {
     "name": "stdout",
     "output_type": "stream",
     "text": [
      "['크리스마스', '가', '이제', '3달', '남', '다', '.', '오늘', '날씨', '가', '화창', '하', '니', '너무', '좋', '다', '!']\n"
     ]
    }
   ],
   "source": [
    "### 형태소 분리\n",
    "result = han.morphs(text)\n",
    "print(result)"
   ]
  },
  {
   "cell_type": "code",
   "execution_count": 7,
   "metadata": {},
   "outputs": [
    {
     "name": "stdout",
     "output_type": "stream",
     "text": [
      "['크리스마스', '3달', '오늘', '날씨', '화창']\n"
     ]
    }
   ],
   "source": [
    "### 명사만 추출 분리\n",
    "result = han.nouns(text)\n",
    "\n",
    "print(result)"
   ]
  },
  {
   "cell_type": "code",
   "execution_count": 9,
   "metadata": {},
   "outputs": [
    {
     "name": "stdout",
     "output_type": "stream",
     "text": [
      "[('크리스마스', 'N'), ('가', 'J'), ('이제', 'M'), ('3달', 'N'), ('남', 'P'), ('다', 'E'), ('.', 'S'), ('오늘', 'N'), ('날씨', 'N'), ('가', 'J'), ('화창', 'N'), ('하', 'X'), ('니', 'E'), ('너무', 'M'), ('좋', 'P'), ('다', 'E'), ('!', 'S')]\n"
     ]
    }
   ],
   "source": [
    "### 품사태깅 추출 분리 => 형태소 분리 후 품사 태깅 처리\n",
    "result = han.pos(text)\n",
    "\n",
    "print(result)"
   ]
  },
  {
   "cell_type": "code",
   "execution_count": 10,
   "metadata": {},
   "outputs": [],
   "source": [
    "### 꼬꼬마 형태소 분석기\n",
    "kkma = Kkma()"
   ]
  },
  {
   "cell_type": "code",
   "execution_count": 14,
   "metadata": {},
   "outputs": [
    {
     "name": "stdout",
     "output_type": "stream",
     "text": [
      "['크리스마스', '가', '이제', '3', '달', '남', '다', '.', '오늘', '날씨', '가', '화창', '하', '니', '너무', '좋', '다', '!']\n",
      "['크리스마스', '이제', '3', '3달', '달', '오늘', '날씨']\n",
      "[('크리스마스', 'NNG'), ('가', 'JKS'), ('이제', 'NNG'), ('3', 'NR'), ('달', 'NNG'), ('남', 'VV'), ('다', 'EFN'), ('.', 'SF'), ('오늘', 'NNG'), ('날씨', 'NNG'), ('가', 'JKS'), ('화창', 'XR'), ('하', 'XSA'), ('니', 'ECD'), ('너무', 'MAG'), ('좋', 'VA'), ('다', 'EFN'), ('!', 'SF')]\n"
     ]
    }
   ],
   "source": [
    "### 형태소 분석\n",
    "print(kkma.morphs(text))\n",
    "\n",
    "### 명사만 추출\n",
    "print(kkma.nouns(text))\n",
    "\n",
    "### 품사 태깅 후 분리\n",
    "print(kkma.pos(text))"
   ]
  },
  {
   "cell_type": "code",
   "execution_count": 15,
   "metadata": {},
   "outputs": [],
   "source": [
    "### 코모란 형태소 분석기\n",
    "komo = Komoran()"
   ]
  },
  {
   "cell_type": "code",
   "execution_count": 16,
   "metadata": {},
   "outputs": [
    {
     "name": "stdout",
     "output_type": "stream",
     "text": [
      "['크리스마스', '가', '이제', '3', '달', '남', '다', '.', '오늘', '날씨', '가', '화창', '하', '니', '너무', '좋', '다', '!']\n",
      "['크리스마스', '달', '오늘', '날씨']\n",
      "[('크리스마스', 'NNP'), ('가', 'JKS'), ('이제', 'MAG'), ('3', 'SN'), ('달', 'NNG'), ('남', 'VV'), ('다', 'EF'), ('.', 'SF'), ('오늘', 'NNG'), ('날씨', 'NNG'), ('가', 'JKS'), ('화창', 'XR'), ('하', 'XSA'), ('니', 'EC'), ('너무', 'MAG'), ('좋', 'VA'), ('다', 'EF'), ('!', 'SF')]\n"
     ]
    }
   ],
   "source": [
    "### 형태소 분석\n",
    "print(komo.morphs(text))\n",
    "\n",
    "### 명사만 추출\n",
    "print(komo.nouns(text))\n",
    "\n",
    "### 품사 태깅 후 분리\n",
    "print(komo.pos(text))"
   ]
  },
  {
   "cell_type": "code",
   "execution_count": 17,
   "metadata": {},
   "outputs": [],
   "source": [
    "### OKT 형태소 분석기\n",
    "okt = Okt()"
   ]
  },
  {
   "cell_type": "code",
   "execution_count": 18,
   "metadata": {},
   "outputs": [
    {
     "name": "stdout",
     "output_type": "stream",
     "text": [
      "['크리스마스', '가', '이제', '3', '달', '남다', '.', '오늘', '날씨', '가', '화창하니', '너무', '좋다', '!']\n",
      "['크리스마스', '이제', '달', '오늘', '날씨']\n",
      "[('크리스마스', 'Noun'), ('가', 'Josa'), ('이제', 'Noun'), ('3', 'Number'), ('달', 'Noun'), ('남다', 'Verb'), ('.', 'Punctuation'), ('오늘', 'Noun'), ('날씨', 'Noun'), ('가', 'Josa'), ('화창하니', 'Adjective'), ('너무', 'Adverb'), ('좋다', 'Adjective'), ('!', 'Punctuation')]\n"
     ]
    }
   ],
   "source": [
    "### 형태소 분석\n",
    "print(okt.morphs(text))\n",
    "\n",
    "### 명사만 추출\n",
    "print(okt.nouns(text))\n",
    "\n",
    "### 품사 태깅 후 분리\n",
    "print(okt.pos(text))"
   ]
  },
  {
   "cell_type": "code",
   "execution_count": 19,
   "metadata": {},
   "outputs": [
    {
     "ename": "Exception",
     "evalue": "Install MeCab in order to use it: http://konlpy.org/en/latest/install/",
     "output_type": "error",
     "traceback": [
      "\u001b[1;31m---------------------------------------------------------------------------\u001b[0m",
      "\u001b[1;31mNameError\u001b[0m                                 Traceback (most recent call last)",
      "File \u001b[1;32mc:\\Users\\KDP-2\\anaconda3\\envs\\TEXT_018_230_38\\lib\\site-packages\\konlpy\\tag\\_mecab.py:77\u001b[0m, in \u001b[0;36mMecab.__init__\u001b[1;34m(self, dicpath)\u001b[0m\n\u001b[0;32m     76\u001b[0m \u001b[38;5;28;01mtry\u001b[39;00m:\n\u001b[1;32m---> 77\u001b[0m     \u001b[38;5;28mself\u001b[39m\u001b[38;5;241m.\u001b[39mtagger \u001b[38;5;241m=\u001b[39m \u001b[43mTagger\u001b[49m(\u001b[38;5;124m'\u001b[39m\u001b[38;5;124m-d \u001b[39m\u001b[38;5;132;01m%s\u001b[39;00m\u001b[38;5;124m'\u001b[39m \u001b[38;5;241m%\u001b[39m dicpath)\n\u001b[0;32m     78\u001b[0m     \u001b[38;5;28mself\u001b[39m\u001b[38;5;241m.\u001b[39mtagset \u001b[38;5;241m=\u001b[39m utils\u001b[38;5;241m.\u001b[39mread_json(\u001b[38;5;124m'\u001b[39m\u001b[38;5;132;01m%s\u001b[39;00m\u001b[38;5;124m/data/tagset/mecab.json\u001b[39m\u001b[38;5;124m'\u001b[39m \u001b[38;5;241m%\u001b[39m utils\u001b[38;5;241m.\u001b[39minstallpath)\n",
      "\u001b[1;31mNameError\u001b[0m: name 'Tagger' is not defined",
      "\nDuring handling of the above exception, another exception occurred:\n",
      "\u001b[1;31mException\u001b[0m                                 Traceback (most recent call last)",
      "Cell \u001b[1;32mIn[19], line 2\u001b[0m\n\u001b[0;32m      1\u001b[0m \u001b[38;5;66;03m### Mecab 형태소 분석기 => Windows OS 지원 안함! => Linux만\u001b[39;00m\n\u001b[1;32m----> 2\u001b[0m mecab \u001b[38;5;241m=\u001b[39m \u001b[43mMecab\u001b[49m\u001b[43m(\u001b[49m\u001b[43m)\u001b[49m\n",
      "File \u001b[1;32mc:\\Users\\KDP-2\\anaconda3\\envs\\TEXT_018_230_38\\lib\\site-packages\\konlpy\\tag\\_mecab.py:82\u001b[0m, in \u001b[0;36mMecab.__init__\u001b[1;34m(self, dicpath)\u001b[0m\n\u001b[0;32m     80\u001b[0m     \u001b[38;5;28;01mraise\u001b[39;00m \u001b[38;5;167;01mException\u001b[39;00m(\u001b[38;5;124m'\u001b[39m\u001b[38;5;124mThe MeCab dictionary does not exist at \u001b[39m\u001b[38;5;124m\"\u001b[39m\u001b[38;5;132;01m%s\u001b[39;00m\u001b[38;5;124m\"\u001b[39m\u001b[38;5;124m. Is the dictionary correctly installed?\u001b[39m\u001b[38;5;130;01m\\n\u001b[39;00m\u001b[38;5;124mYou can also try entering the dictionary path when initializing the Mecab class: \u001b[39m\u001b[38;5;124m\"\u001b[39m\u001b[38;5;124mMecab(\u001b[39m\u001b[38;5;130;01m\\'\u001b[39;00m\u001b[38;5;124m/some/dic/path\u001b[39m\u001b[38;5;130;01m\\'\u001b[39;00m\u001b[38;5;124m)\u001b[39m\u001b[38;5;124m\"\u001b[39m\u001b[38;5;124m'\u001b[39m \u001b[38;5;241m%\u001b[39m dicpath)\n\u001b[0;32m     81\u001b[0m \u001b[38;5;28;01mexcept\u001b[39;00m \u001b[38;5;167;01mNameError\u001b[39;00m:\n\u001b[1;32m---> 82\u001b[0m     \u001b[38;5;28;01mraise\u001b[39;00m \u001b[38;5;167;01mException\u001b[39;00m(\u001b[38;5;124m'\u001b[39m\u001b[38;5;124mInstall MeCab in order to use it: http://konlpy.org/en/latest/install/\u001b[39m\u001b[38;5;124m'\u001b[39m)\n",
      "\u001b[1;31mException\u001b[0m: Install MeCab in order to use it: http://konlpy.org/en/latest/install/"
     ]
    }
   ],
   "source": [
    "### Mecab 형태소 분석기 => Windows OS 지원 안함! => Linux만\n",
    "mecab = Mecab()"
   ]
  },
  {
   "cell_type": "code",
   "execution_count": null,
   "metadata": {},
   "outputs": [],
   "source": []
  }
 ],
 "metadata": {
  "kernelspec": {
   "display_name": "TEXT_018_230_38",
   "language": "python",
   "name": "python3"
  },
  "language_info": {
   "codemirror_mode": {
    "name": "ipython",
    "version": 3
   },
   "file_extension": ".py",
   "mimetype": "text/x-python",
   "name": "python",
   "nbconvert_exporter": "python",
   "pygments_lexer": "ipython3",
   "version": "3.8.19"
  }
 },
 "nbformat": 4,
 "nbformat_minor": 2
}
