{
 "cells": [
  {
   "cell_type": "markdown",
   "metadata": {
    "id": "l0M6VOaDXSwr"
   },
   "source": [
    "### AutoMPG 선형회귀 과제 \n",
    "\n",
    "- 팀정보\n",
    "  - 팀번호: 01팀\n",
    "  - 참여팀원명: \n",
    "  - 불참팀원명:\n",
    "\n",
    "\n",
    "- Dataset: AutoMPG dataset\n",
    "  - 정답값: mpg\n",
    "  - 특징: origion을 제외한 6개의 특징들\n",
    "    - ['Cylinders','Displacement','Horsepower','Weight','Acceleration','Model Year']\n",
    "- Train : Test = 7 : 3\n",
    "\n",
    "(1) Data  정제: 누락된 특징은 그 특징의 평균값으로 대체하라.    \n",
    "(2) 각 특징들과 mpg(정답값)사이의 상관계수를 구하고, Seaborn(SNS) 히트맵을 그려라.\n",
    "\n",
    "(3) 상관계수가 가장 높은 순서로 특징을 $x_1, x_2, ..., x_6$이라고 할 때,\n",
    "특징1개(x1)만을 사용해서 선형회귀를 한 $R^2$ score  $S_1$을 구하라.\n",
    "특징2개(x1, x2)를 사용해서 선형회귀를 한 $R^2$ score   $S_2$을 구하라.\n",
    "이런 식으로 특징 6개를 사용한 s6를  구하라.\n",
    "가로축은 특징의 개수, 세로축은 $S_1, ..., S_6$인 그래프를 그려라.\n",
    "\n",
    "(4) 특징을 6개 사용한 경우에 대해 Test dataset에 대해  정답값과 예측치간의 MSE를 구하기 \n",
    "\n",
    "- $MSE = \\frac{1}{N} \\sum_{i=1}^{N} \\left( y_i - \\hat{y}_i \\right)^2$\n",
    "\n",
    "여기에서 $y_i$와 $\\hat{y}_i$는 각각 정답값과 예측치를 의미함\n",
    "\n",
    "(5) 특징을 6개 사용한 경우 $x$축은 정답값($y_i$), $y$축은 예측치($\\hat{y}_i$)인 그래프를 그려라.측치( y^i )인 그래프를 그려라."
   ]
  },
  {
   "cell_type": "code",
   "execution_count": 1,
   "metadata": {
    "colab": {
     "base_uri": "https://localhost:8080/",
     "height": 306
    },
    "executionInfo": {
     "elapsed": 7211,
     "status": "ok",
     "timestamp": 1684144026509,
     "user": {
      "displayName": "Plato",
      "userId": "13189960541713279656"
     },
     "user_tz": -540
    },
    "id": "mJKj5aBjXLvO",
    "outputId": "7e517981-dc8f-4bbf-c05b-4c2fb72ffe1e",
    "scrolled": true
   },
   "outputs": [
    {
     "data": {
      "text/html": [
       "<div>\n",
       "<style scoped>\n",
       "    .dataframe tbody tr th:only-of-type {\n",
       "        vertical-align: middle;\n",
       "    }\n",
       "\n",
       "    .dataframe tbody tr th {\n",
       "        vertical-align: top;\n",
       "    }\n",
       "\n",
       "    .dataframe thead th {\n",
       "        text-align: right;\n",
       "    }\n",
       "</style>\n",
       "<table border=\"1\" class=\"dataframe\">\n",
       "  <thead>\n",
       "    <tr style=\"text-align: right;\">\n",
       "      <th></th>\n",
       "      <th>MPG</th>\n",
       "      <th>Cylinders</th>\n",
       "      <th>Displacement</th>\n",
       "      <th>Horsepower</th>\n",
       "      <th>Weight</th>\n",
       "      <th>Acceleration</th>\n",
       "      <th>Model Year</th>\n",
       "      <th>Origin</th>\n",
       "    </tr>\n",
       "  </thead>\n",
       "  <tbody>\n",
       "    <tr>\n",
       "      <th>0</th>\n",
       "      <td>18.0</td>\n",
       "      <td>8</td>\n",
       "      <td>307.0</td>\n",
       "      <td>130.0</td>\n",
       "      <td>3504.0</td>\n",
       "      <td>12.0</td>\n",
       "      <td>70</td>\n",
       "      <td>1</td>\n",
       "    </tr>\n",
       "    <tr>\n",
       "      <th>1</th>\n",
       "      <td>15.0</td>\n",
       "      <td>8</td>\n",
       "      <td>350.0</td>\n",
       "      <td>165.0</td>\n",
       "      <td>3693.0</td>\n",
       "      <td>11.5</td>\n",
       "      <td>70</td>\n",
       "      <td>1</td>\n",
       "    </tr>\n",
       "    <tr>\n",
       "      <th>2</th>\n",
       "      <td>18.0</td>\n",
       "      <td>8</td>\n",
       "      <td>318.0</td>\n",
       "      <td>150.0</td>\n",
       "      <td>3436.0</td>\n",
       "      <td>11.0</td>\n",
       "      <td>70</td>\n",
       "      <td>1</td>\n",
       "    </tr>\n",
       "    <tr>\n",
       "      <th>3</th>\n",
       "      <td>16.0</td>\n",
       "      <td>8</td>\n",
       "      <td>304.0</td>\n",
       "      <td>150.0</td>\n",
       "      <td>3433.0</td>\n",
       "      <td>12.0</td>\n",
       "      <td>70</td>\n",
       "      <td>1</td>\n",
       "    </tr>\n",
       "    <tr>\n",
       "      <th>4</th>\n",
       "      <td>17.0</td>\n",
       "      <td>8</td>\n",
       "      <td>302.0</td>\n",
       "      <td>140.0</td>\n",
       "      <td>3449.0</td>\n",
       "      <td>10.5</td>\n",
       "      <td>70</td>\n",
       "      <td>1</td>\n",
       "    </tr>\n",
       "  </tbody>\n",
       "</table>\n",
       "</div>"
      ],
      "text/plain": [
       "    MPG  Cylinders  Displacement  Horsepower  Weight  Acceleration  \\\n",
       "0  18.0          8         307.0       130.0  3504.0          12.0   \n",
       "1  15.0          8         350.0       165.0  3693.0          11.5   \n",
       "2  18.0          8         318.0       150.0  3436.0          11.0   \n",
       "3  16.0          8         304.0       150.0  3433.0          12.0   \n",
       "4  17.0          8         302.0       140.0  3449.0          10.5   \n",
       "\n",
       "   Model Year  Origin  \n",
       "0          70       1  \n",
       "1          70       1  \n",
       "2          70       1  \n",
       "3          70       1  \n",
       "4          70       1  "
      ]
     },
     "execution_count": 1,
     "metadata": {},
     "output_type": "execute_result"
    }
   ],
   "source": [
    "# 평균값으로 누락된 특징이 정제된 AutoMPG dataset\n",
    "import pathlib\n",
    "import matplotlib.pyplot as plt\n",
    "import pandas as pd\n",
    "\n",
    "dataset_path='http://archive.ics.uci.edu/ml/machine-learning-databases/auto-mpg/auto-mpg.data'\n",
    "column_names=['MPG','Cylinders','Displacement','Horsepower','Weight','Acceleration','Model Year','Origin']\n",
    "mpg_df=pd.read_csv(dataset_path,names=column_names, na_values='?',comment='\\t', sep=' ',skipinitialspace=True)\n",
    "\n",
    "mpg_df.head()"
   ]
  },
  {
   "cell_type": "code",
   "execution_count": 2,
   "metadata": {
    "colab": {
     "base_uri": "https://localhost:8080/"
    },
    "executionInfo": {
     "elapsed": 3,
     "status": "ok",
     "timestamp": 1683809604763,
     "user": {
      "displayName": "Plato",
      "userId": "13189960541713279656"
     },
     "user_tz": -540
    },
    "id": "3hQppnQtcX7X",
    "outputId": "958219b4-fc9d-4b0a-f374-b13e89aebcec"
   },
   "outputs": [
    {
     "data": {
      "text/plain": [
       "MPG             398\n",
       "Cylinders       398\n",
       "Displacement    398\n",
       "Horsepower      392\n",
       "Weight          398\n",
       "Acceleration    398\n",
       "Model Year      398\n",
       "Origin          398\n",
       "dtype: int64"
      ]
     },
     "execution_count": 2,
     "metadata": {},
     "output_type": "execute_result"
    }
   ],
   "source": [
    "mpg_df.count()"
   ]
  },
  {
   "cell_type": "markdown",
   "metadata": {
    "id": "KcwQqD-KX-yz"
   },
   "source": [
    "#### (1) Data 정제하기"
   ]
  },
  {
   "cell_type": "code",
   "execution_count": 3,
   "metadata": {
    "colab": {
     "base_uri": "https://localhost:8080/",
     "height": 427
    },
    "executionInfo": {
     "elapsed": 5,
     "status": "ok",
     "timestamp": 1684144032462,
     "user": {
      "displayName": "Plato",
      "userId": "13189960541713279656"
     },
     "user_tz": -540
    },
    "id": "YWZYQpgBYDZD",
    "outputId": "199d5396-4048-4d7e-c9ff-4bafe515b13f"
   },
   "outputs": [
    {
     "name": "stdout",
     "output_type": "stream",
     "text": [
      "1: Missing index\n",
      "30    False\n",
      "31    False\n",
      "32     True\n",
      "33    False\n",
      "34    False\n",
      "Name: Horsepower, dtype: bool\n"
     ]
    },
    {
     "data": {
      "text/html": [
       "<div>\n",
       "<style scoped>\n",
       "    .dataframe tbody tr th:only-of-type {\n",
       "        vertical-align: middle;\n",
       "    }\n",
       "\n",
       "    .dataframe tbody tr th {\n",
       "        vertical-align: top;\n",
       "    }\n",
       "\n",
       "    .dataframe thead th {\n",
       "        text-align: right;\n",
       "    }\n",
       "</style>\n",
       "<table border=\"1\" class=\"dataframe\">\n",
       "  <thead>\n",
       "    <tr style=\"text-align: right;\">\n",
       "      <th></th>\n",
       "      <th>MPG</th>\n",
       "      <th>Cylinders</th>\n",
       "      <th>Displacement</th>\n",
       "      <th>Horsepower</th>\n",
       "      <th>Weight</th>\n",
       "      <th>Acceleration</th>\n",
       "      <th>Model Year</th>\n",
       "      <th>Origin</th>\n",
       "    </tr>\n",
       "  </thead>\n",
       "  <tbody>\n",
       "    <tr>\n",
       "      <th>32</th>\n",
       "      <td>25.0</td>\n",
       "      <td>4</td>\n",
       "      <td>98.0</td>\n",
       "      <td>NaN</td>\n",
       "      <td>2046.0</td>\n",
       "      <td>19.0</td>\n",
       "      <td>71</td>\n",
       "      <td>1</td>\n",
       "    </tr>\n",
       "    <tr>\n",
       "      <th>126</th>\n",
       "      <td>21.0</td>\n",
       "      <td>6</td>\n",
       "      <td>200.0</td>\n",
       "      <td>NaN</td>\n",
       "      <td>2875.0</td>\n",
       "      <td>17.0</td>\n",
       "      <td>74</td>\n",
       "      <td>1</td>\n",
       "    </tr>\n",
       "    <tr>\n",
       "      <th>330</th>\n",
       "      <td>40.9</td>\n",
       "      <td>4</td>\n",
       "      <td>85.0</td>\n",
       "      <td>NaN</td>\n",
       "      <td>1835.0</td>\n",
       "      <td>17.3</td>\n",
       "      <td>80</td>\n",
       "      <td>2</td>\n",
       "    </tr>\n",
       "    <tr>\n",
       "      <th>336</th>\n",
       "      <td>23.6</td>\n",
       "      <td>4</td>\n",
       "      <td>140.0</td>\n",
       "      <td>NaN</td>\n",
       "      <td>2905.0</td>\n",
       "      <td>14.3</td>\n",
       "      <td>80</td>\n",
       "      <td>1</td>\n",
       "    </tr>\n",
       "    <tr>\n",
       "      <th>354</th>\n",
       "      <td>34.5</td>\n",
       "      <td>4</td>\n",
       "      <td>100.0</td>\n",
       "      <td>NaN</td>\n",
       "      <td>2320.0</td>\n",
       "      <td>15.8</td>\n",
       "      <td>81</td>\n",
       "      <td>2</td>\n",
       "    </tr>\n",
       "    <tr>\n",
       "      <th>374</th>\n",
       "      <td>23.0</td>\n",
       "      <td>4</td>\n",
       "      <td>151.0</td>\n",
       "      <td>NaN</td>\n",
       "      <td>3035.0</td>\n",
       "      <td>20.5</td>\n",
       "      <td>82</td>\n",
       "      <td>1</td>\n",
       "    </tr>\n",
       "  </tbody>\n",
       "</table>\n",
       "</div>"
      ],
      "text/plain": [
       "      MPG  Cylinders  Displacement  Horsepower  Weight  Acceleration  \\\n",
       "32   25.0          4          98.0         NaN  2046.0          19.0   \n",
       "126  21.0          6         200.0         NaN  2875.0          17.0   \n",
       "330  40.9          4          85.0         NaN  1835.0          17.3   \n",
       "336  23.6          4         140.0         NaN  2905.0          14.3   \n",
       "354  34.5          4         100.0         NaN  2320.0          15.8   \n",
       "374  23.0          4         151.0         NaN  3035.0          20.5   \n",
       "\n",
       "     Model Year  Origin  \n",
       "32           71       1  \n",
       "126          74       1  \n",
       "330          80       2  \n",
       "336          80       1  \n",
       "354          81       2  \n",
       "374          82       1  "
      ]
     },
     "execution_count": 3,
     "metadata": {},
     "output_type": "execute_result"
    }
   ],
   "source": [
    "missing_index = mpg_df['Horsepower'].isna()\n",
    "print(\"1: Missing index\")\n",
    "print(missing_index[30:35])\n",
    "mpg_df[missing_index]"
   ]
  },
  {
   "cell_type": "code",
   "execution_count": 4,
   "metadata": {
    "colab": {
     "base_uri": "https://localhost:8080/"
    },
    "executionInfo": {
     "elapsed": 3,
     "status": "ok",
     "timestamp": 1684146172019,
     "user": {
      "displayName": "Plato",
      "userId": "13189960541713279656"
     },
     "user_tz": -540
    },
    "id": "ae2KrSUbcX7Y",
    "outputId": "33b196ce-6434-4809-d8c4-dd456276d8da"
   },
   "outputs": [
    {
     "name": "stdout",
     "output_type": "stream",
     "text": [
      "2: 평균으로 누락된 항목을 대체하기\n",
      "mpg_df['Horsepower'].mean() =  104.46938775510205\n"
     ]
    }
   ],
   "source": [
    "print(\"2: 평균으로 누락된 항목을 대체하기\")\n",
    "print(\"mpg_df['Horsepower'].mean() = \", mpg_df['Horsepower'].mean())\n",
    "mpg_df.fillna(mpg_df['Horsepower'].mean(), inplace=True)\n",
    "mpg_df[missing_index]\n",
    "# origin을 삭제하기\n",
    "mpg_df.drop('Origin', axis=1, inplace=True)"
   ]
  },
  {
   "cell_type": "markdown",
   "metadata": {
    "id": "giS9uYYTM3cD"
   },
   "source": [
    "#### (2) 각 특징들과 mpg(정답값)사이의 상관계수를 구하고, Seaborn(SNS) 히트맵을 그려라."
   ]
  },
  {
   "cell_type": "code",
   "execution_count": 5,
   "metadata": {
    "colab": {
     "base_uri": "https://localhost:8080/",
     "height": 526
    },
    "executionInfo": {
     "elapsed": 4116,
     "status": "ok",
     "timestamp": 1684146187946,
     "user": {
      "displayName": "Plato",
      "userId": "13189960541713279656"
     },
     "user_tz": -540
    },
    "id": "cd5_hhRyZcGd",
    "outputId": "dfc858ef-a077-4062-9cb5-d8de725e008a"
   },
   "outputs": [
    {
     "data": {
      "image/png": "[encoded data removed]",
      "text/plain": [
       "<Figure size 500x500 with 2 Axes>"
      ]
     },
     "metadata": {},
     "output_type": "display_data"
    }
   ],
   "source": [
    "import seaborn as sns # 시각화: Seaborn 라이브러리\n",
    "\n",
    "\n",
    "plt.show()"
   ]
  },
  {
   "cell_type": "markdown",
   "metadata": {},
   "source": [
    "#### (3) 상관계수가 가장 높은 순서로 특징을 x1, x2, ..., x6이라고 할 때,\n",
    "특징1개(x1)만을 사용해서 선형회귀를 한 R2 score  S1을 구하라.\n",
    "특징2개(x1, x2)를 사용해서 선형회귀를 한 R2 score   S2을 구하라.\n",
    "이런 식으로 특징 6개를 사용한 s6를  구하라.\n",
    "가로축은 특징의 개수, 세로축은 S1, ..., s6인 그래프를 그려라."
   ]
  },
  {
   "cell_type": "code",
   "execution_count": 6,
   "metadata": {
    "colab": {
     "base_uri": "https://localhost:8080/",
     "height": 644
    },
    "executionInfo": {
     "elapsed": 601,
     "status": "ok",
     "timestamp": 1684146513634,
     "user": {
      "displayName": "Plato",
      "userId": "13189960541713279656"
     },
     "user_tz": -540
    },
    "id": "4KxVnNOb4Nsv",
    "outputId": "4149d948-d7ce-4895-a3d2-60aa9475d0f5"
   },
   "outputs": [
    {
     "name": "stdout",
     "output_type": "stream",
     "text": [
      "Weight          0.83\n",
      "Displacement    0.80\n",
      "Cylinders       0.78\n",
      "Horsepower      0.77\n",
      "Model Year      0.58\n",
      "Acceleration    0.42\n",
      "Name: MPG, dtype: float64\n",
      "6\n"
     ]
    },
    {
     "data": {
      "image/png": "[encoded data removed]",
      "text/plain": [
       "<Figure size 500x500 with 1 Axes>"
      ]
     },
     "metadata": {},
     "output_type": "display_data"
    }
   ],
   "source": [
    "from sklearn.linear_model import LinearRegression\n",
    "from sklearn.model_selection import train_test_split\n",
    "from sklearn.metrics import r2_score\n",
    "\n",
    "\n",
    "plt.show()"
   ]
  },
  {
   "cell_type": "markdown",
   "metadata": {
    "id": "OZdOmkwJcX7Y"
   },
   "source": [
    "  (1) $R^2$ score를 설명하라.  (ipynb 파일내에서 text(or markdown)로 설명함)\n",
    "  \n",
    "  설명을 적을 것"
   ]
  },
  {
   "cell_type": "markdown",
   "metadata": {
    "id": "buAyMZRgYHKS"
   },
   "source": [
    "#### (4) 특징을 6개 사용한 경우에 대해 Test dataset에 대해  정답값과 예측치간의 MSE를 구하기 \n",
    "train_test_split의 random_state는 42로 하라.\n"
   ]
  },
  {
   "cell_type": "code",
   "execution_count": 7,
   "metadata": {
    "colab": {
     "base_uri": "https://localhost:8080/",
     "height": 37
    },
    "executionInfo": {
     "elapsed": 3,
     "status": "ok",
     "timestamp": 1683785800918,
     "user": {
      "displayName": "Plato",
      "userId": "13189960541713279656"
     },
     "user_tz": -540
    },
    "id": "4G2L35o8cngF",
    "outputId": "dd292c73-6e32-425b-89e4-f6d05b475043"
   },
   "outputs": [
    {
     "data": {
      "text/plain": [
       "'Model\\xa0Year'"
      ]
     },
     "execution_count": 7,
     "metadata": {},
     "output_type": "execute_result"
    }
   ],
   "source": [
    "mpg_df.columns[6]"
   ]
  },
  {
   "cell_type": "code",
   "execution_count": 18,
   "metadata": {
    "id": "cYItRcFeYOgr"
   },
   "outputs": [
    {
     "name": "stdout",
     "output_type": "stream",
     "text": [
      "MSE =  9.989386125577958\n"
     ]
    }
   ],
   "source": [
    "from sklearn.linear_model import LinearRegression\n",
    "from sklearn.model_selection import train_test_split\n",
    "from sklearn.metrics import mean_squared_error\n",
    "\n",
    "df_y_data = mpg_df['MPG']\n",
    "df_x_data = mpg_df.drop('MPG',axis=1)\n",
    "X_train, X_test, y_train, y_test = train_test_split(df_x_data, df_y_data, random_state = 42, train_size=0.7)\n",
    "\n",
    "linear_reg = LinearRegression().fit(X_train, y_train)\n",
    "y_test_pred = linear_reg.predict(X_test)\n",
    "print('MSE = ', mean_squared_error(y_test, y_test_pred))"
   ]
  },
  {
   "cell_type": "markdown",
   "metadata": {
    "id": "azVPJZa5qQ46"
   },
   "source": [
    "#### (5) 특징을 6개 사용한 경우 x축은 정답값, y축은 예측치인 그래프를 그려라."
   ]
  },
  {
   "cell_type": "code",
   "execution_count": 19,
   "metadata": {
    "colab": {
     "base_uri": "https://localhost:8080/",
     "height": 410
    },
    "executionInfo": {
     "elapsed": 883,
     "status": "ok",
     "timestamp": 1683705647024,
     "user": {
      "displayName": "Plato",
      "userId": "13189960541713279656"
     },
     "user_tz": -540
    },
    "id": "X885tC8tqM68",
    "outputId": "474ca72a-992f-4368-fa52-36b40f7def21"
   },
   "outputs": [
    {
     "data": {
      "image/png": "[encoded data removed]",
      "text/plain": [
       "<Figure size 1200x400 with 2 Axes>"
      ]
     },
     "metadata": {},
     "output_type": "display_data"
    }
   ],
   "source": [
    "import matplotlib.pyplot as plt\n",
    "\n"
   ]
  }
 ],
 "metadata": {
  "colab": {
   "provenance": []
  },
  "kernelspec": {
   "display_name": "Python 3",
   "language": "python",
   "name": "python3"
  },
  "language_info": {
   "codemirror_mode": {
    "name": "ipython",
    "version": 3
   },
   "file_extension": ".py",
   "mimetype": "text/x-python",
   "name": "python",
   "nbconvert_exporter": "python",
   "pygments_lexer": "ipython3",
   "version": "3.8.8"
  }
 },
 "nbformat": 4,
 "nbformat_minor": 4
}
