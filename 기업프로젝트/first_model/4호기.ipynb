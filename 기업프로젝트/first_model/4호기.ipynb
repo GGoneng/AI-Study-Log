{
 "cells": [
  {
   "cell_type": "code",
   "execution_count": 1,
   "metadata": {},
   "outputs": [],
   "source": [
    "from ProjectModule import *"
   ]
  },
  {
   "cell_type": "code",
   "execution_count": 2,
   "metadata": {},
   "outputs": [
    {
     "name": "stderr",
     "output_type": "stream",
     "text": [
      "c:\\Users\\KDP-2\\anaconda3\\envs\\Project_38\\lib\\site-packages\\sklearn\\base.py:465: UserWarning: X does not have valid feature names, but RobustScaler was fitted with feature names\n",
      "  warnings.warn(\n",
      "c:\\Users\\KDP-2\\anaconda3\\envs\\Project_38\\lib\\site-packages\\sklearn\\base.py:465: UserWarning: X does not have valid feature names, but MinMaxScaler was fitted with feature names\n",
      "  warnings.warn(\n"
     ]
    }
   ],
   "source": [
    "WATER_MODEL_PATH = './water_best_model_0.91.pth'\n",
    "ELECTRIC_MODEL_PATH = './model_weights_73_0.8415.pth'\n",
    "\n",
    "WATER_SCALER_PATH = './water_robust_scaler.pkl'\n",
    "ELECTRIC_SCALER_PATH = './electric_min_max_scaler.pkl'\n",
    "\n",
    "water_inputs = [145,140,32,310,180,135,48,450,192,170,58,128,130,136,30,185,152,40,54,132,134,136,27,180,148,35,76,152]\n",
    "electric_inputs = [1.72,1.59,1.23,1.44,1.89,1.65,1.26,1.36,1.68,1.63,1.20,1.38,1.70,1.58,1.22,1.42,1.69,1.51,1.24,1.39,1.74,1.62,1.28,1.43,1.78,1.60,1.25,1.25]\n",
    "\n",
    "water_TS = preprocessing(water_inputs, WATER_SCALER_PATH)\n",
    "electric_TS = preprocessing(electric_inputs, ELECTRIC_SCALER_PATH)\n",
    "\n",
    "water_model = load_water_model(WATER_MODEL_PATH)\n",
    "electric_model = load_electric_model(ELECTRIC_MODEL_PATH)\n",
    "\n",
    "water_predict_value, electric_predict_value = predict_values(water_model, electric_model, water_TS, electric_TS)"
   ]
  },
  {
   "cell_type": "code",
   "execution_count": 4,
   "metadata": {},
   "outputs": [
    {
     "data": {
      "text/plain": [
       "1.302851676940918"
      ]
     },
     "execution_count": 4,
     "metadata": {},
     "output_type": "execute_result"
    }
   ],
   "source": [
    "electric_predict_value"
   ]
  },
  {
   "cell_type": "code",
   "execution_count": null,
   "metadata": {},
   "outputs": [],
   "source": []
  }
 ],
 "metadata": {
  "kernelspec": {
   "display_name": "Project_38",
   "language": "python",
   "name": "python3"
  },
  "language_info": {
   "codemirror_mode": {
    "name": "ipython",
    "version": 3
   },
   "file_extension": ".py",
   "mimetype": "text/x-python",
   "name": "python",
   "nbconvert_exporter": "python",
   "pygments_lexer": "ipython3",
   "version": "3.8.20"
  }
 },
 "nbformat": 4,
 "nbformat_minor": 2
}
