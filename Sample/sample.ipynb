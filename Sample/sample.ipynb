{
 "cells": [
  {
   "cell_type": "code",
   "execution_count": 62,
   "metadata": {},
   "outputs": [],
   "source": [
    "import json\n",
    "import cv2 as cv\n",
    "import matplotlib.pyplot as plt\n",
    "from PIL import Image, ImageDraw, ImageFont\n",
    "import os\n",
    "import shutil"
   ]
  },
  {
   "cell_type": "code",
   "execution_count": 35,
   "metadata": {},
   "outputs": [],
   "source": [
    "IMAGE_PATH = r\"./Source_Data/Image/N/N/00047_H_A_N_C1/00047_H_A_N_C1_I001.jpg\"\n",
    "JSON_PATH = r\"./Labeling_Data/Image/N/N/00047_H_A_N_C1/00047_H_A_N_C1_I001.json\"\n",
    "SAVE_PATH = r\"./Dataset/\""
   ]
  },
  {
   "cell_type": "code",
   "execution_count": 36,
   "metadata": {},
   "outputs": [],
   "source": [
    "# JSON 불러오기\n",
    "with open(JSON_PATH) as f:\n",
    "    data = json.load(f)\n",
    "\n",
    "# 이미지 불러오기\n",
    "image = Image.open(IMAGE_PATH)\n",
    "draw = ImageDraw.Draw(image)\n",
    "font = ImageFont.truetype(\"arial.ttf\", size = 70)\n",
    "\n",
    "x1, y1, x2, y2 = map(float, data[\"bboxdata\"][\"bbox_location\"].split(','))\n",
    "w, h = map(int, data[\"metadata\"][\"scene_res\"].split('x'))\n",
    "title = data[\"metadata\"][\"scene_id\"]\n",
    "\n",
    "# 결과 보기\n",
    "\n",
    "draw.rectangle([x1, y1, x2, y2], outline = \"red\", width = 10)\n",
    "text_position = (x1, max(0, y1 - 80))\n",
    "draw.text(text_position, \"Person\", fill = \"red\", font = font)\n",
    "\n",
    "# image.show()\n",
    "image.show()\n",
    "\n",
    "x_center = (x1 + x2) / 2 / w\n",
    "y_center = (y1 + y2) / 2 / h\n",
    "width = (x2 - x1) / w\n",
    "height = (y2 - y1) / h\n",
    "class_id = 0\n",
    "\n",
    "line = f\"{class_id} {x_center} {y_center} {width} {height}\"\n",
    "\n",
    "with open(SAVE_PATH + f\"labels/{title}.txt\", \"w\") as f:\n",
    "    f.write(line)\n",
    "f.close()"
   ]
  },
  {
   "cell_type": "code",
   "execution_count": 66,
   "metadata": {},
   "outputs": [],
   "source": [
    "PATH = \"./Labeling_Data/Image/\"\n",
    "\n",
    "JSON_PATH = []\n",
    "\n",
    "for dirpath, dirnames, filenames in os.walk(PATH):\n",
    "    for filename in filenames:\n",
    "        if filename.endswith('.json'):\n",
    "            full_path = os.path.join(dirpath, filename)\n",
    "            JSON_PATH.append(full_path)\n",
    "\n",
    "for json_file in JSON_PATH:\n",
    "    with open(json_file) as f:\n",
    "        data = json.load(f)\n",
    "        \n",
    "        x1, y1, x2, y2 = map(float, data[\"bboxdata\"][\"bbox_location\"].split(','))\n",
    "        w, h = map(int, data[\"metadata\"][\"scene_res\"].split('x'))\n",
    "        title = data[\"metadata\"][\"file_name\"].split('.')[0]\n",
    "        \n",
    "        x_center = (x1 + x2) / 2 / w\n",
    "        y_center = (y1 + y2) / 2 / h\n",
    "        width = (x2 - x1) / w\n",
    "        height = (y2 - y1) / h\n",
    "        class_id = 0\n",
    "\n",
    "        line = f\"{class_id} {x_center} {y_center} {width} {height}\"\n",
    "\n",
    "        with open(SAVE_PATH + f\"labels/{title}.txt\", \"w\") as f:\n",
    "            f.write(line)\n",
    "        f.close()"
   ]
  },
  {
   "cell_type": "code",
   "execution_count": 69,
   "metadata": {},
   "outputs": [],
   "source": [
    "IMAGE_PATH = \"./Dataset/images/\"\n",
    "PATH = \"./Source_Data/Image/\"\n",
    "\n",
    "for dirpath, _, filenames in os.walk(PATH):\n",
    "    for filename in filenames:\n",
    "        if filename.endswith((\".jpg\", \".JPG\")):\n",
    "            src_path = os.path.join(dirpath, filename)\n",
    "            dst_path = os.path.join(IMAGE_PATH, filename)\n",
    "            shutil.move(src_path, dst_path)  # 파일 이동"
   ]
  },
  {
   "cell_type": "code",
   "execution_count": null,
   "metadata": {},
   "outputs": [],
   "source": []
  }
 ],
 "metadata": {
  "kernelspec": {
   "display_name": "Project_38",
   "language": "python",
   "name": "python3"
  },
  "language_info": {
   "codemirror_mode": {
    "name": "ipython",
    "version": 3
   },
   "file_extension": ".py",
   "mimetype": "text/x-python",
   "name": "python",
   "nbconvert_exporter": "python",
   "pygments_lexer": "ipython3",
   "version": "3.8.20"
  }
 },
 "nbformat": 4,
 "nbformat_minor": 2
}
