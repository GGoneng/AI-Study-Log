{
 "cells": [
  {
   "cell_type": "code",
   "execution_count": null,
   "id": "9fa00f32",
   "metadata": {},
   "outputs": [],
   "source": [
    "import pandas as pd\n",
    "import os"
   ]
  },
  {
   "cell_type": "code",
   "execution_count": 4,
   "id": "9ddf13c0",
   "metadata": {},
   "outputs": [],
   "source": [
    "VIDEO_PATH = r\"F:/Fall_Detection_Data/Source_Data/Video/\"\n",
    "CSV_PATH = \"./New_Dataset/\"\n",
    "\n",
    "path_list = []\n",
    "\n",
    "for dirpath, _, filenames in os.walk(VIDEO_PATH):\n",
    "    for filename in filenames:\n",
    "        if filename.endswith((\".mp4\", \".MP4\")):\n",
    "            path_list.append(os.path.join(dirpath, filename))\n"
   ]
  },
  {
   "cell_type": "code",
   "execution_count": 11,
   "id": "d846cf8b",
   "metadata": {},
   "outputs": [],
   "source": [
    "label_df = pd.DataFrame(columns = [\"source_index\", \"label\"])\n",
    "\n",
    "for i, path in enumerate(path_list):\n",
    "    if path.split(\"\\\\\")[1] == \"N\":\n",
    "        label_df.loc[i] = {\"source_index\" : i, \"label\" : 0}\n",
    "    else:\n",
    "        label_df.loc[i] = {\"source_index\" : i, \"label\" : 1}\n",
    "\n",
    "label_df.to_csv(\"Label.csv\", index = False)"
   ]
  },
  {
   "cell_type": "code",
   "execution_count": 17,
   "id": "64f9daf8",
   "metadata": {},
   "outputs": [
    {
     "data": {
      "text/plain": [
       "2272"
      ]
     },
     "execution_count": 17,
     "metadata": {},
     "output_type": "execute_result"
    }
   ],
   "source": [
    "import re\n",
    "\n",
    "folder_path = './New_Dataset'  # 예: './data'\n",
    "csv_files = sorted(\n",
    "    [os.path.join(folder_path, f) for f in os.listdir(folder_path) if f.endswith('.csv')],\n",
    "    key=lambda x: int(re.search(r'\\d+', os.path.basename(x)).group())\n",
    ")\n",
    "len(csv_files)"
   ]
  },
  {
   "cell_type": "code",
   "execution_count": null,
   "id": "fb7a1ab6",
   "metadata": {},
   "outputs": [],
   "source": []
  }
 ],
 "metadata": {
  "kernelspec": {
   "display_name": "Project_38",
   "language": "python",
   "name": "python3"
  },
  "language_info": {
   "codemirror_mode": {
    "name": "ipython",
    "version": 3
   },
   "file_extension": ".py",
   "mimetype": "text/x-python",
   "name": "python",
   "nbconvert_exporter": "python",
   "pygments_lexer": "ipython3",
   "version": "3.8.20"
  }
 },
 "nbformat": 4,
 "nbformat_minor": 5
}
