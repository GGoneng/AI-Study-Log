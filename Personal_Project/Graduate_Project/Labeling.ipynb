{
 "cells": [
  {
   "cell_type": "code",
   "execution_count": 1,
   "id": "9fa00f32",
   "metadata": {},
   "outputs": [],
   "source": [
    "import pandas as pd\n",
    "import os"
   ]
  },
  {
   "cell_type": "code",
   "execution_count": 2,
   "id": "9ddf13c0",
   "metadata": {},
   "outputs": [],
   "source": [
    "VIDEO_PATH = r\"F:/Fall_Detection_Data/Source_Data/Video/\"\n",
    "CSV_PATH = \"./New_Dataset/\"\n",
    "\n",
    "ADD_PATH = r\"D:/041.낙상사고 위험동작 영상-센서 쌍 데이터/3.개방데이터/1.데이터/Training/01.원천데이터/TS/영상/N/N/\"\n",
    "\n",
    "path_list = []\n",
    "add_path_list = []\n",
    "\n",
    "for dirpath, _, filenames in os.walk(VIDEO_PATH):\n",
    "    for filename in filenames:\n",
    "        if filename.endswith((\".mp4\", \".MP4\")):\n",
    "            path_list.append(os.path.join(dirpath, filename))\n",
    "\n",
    "for dirpath, _, filenames in os.walk(ADD_PATH):\n",
    "    for filename in filenames:\n",
    "        if filename.endswith((\".mp4\", \".MP4\")):\n",
    "            add_path_list.append(os.path.join(dirpath, filename))\n",
    "\n",
    "add_path_list = add_path_list[:1000]\n",
    "\n"
   ]
  },
  {
   "cell_type": "code",
   "execution_count": 3,
   "id": "d846cf8b",
   "metadata": {},
   "outputs": [],
   "source": [
    "label_df = pd.DataFrame(columns = [\"source_index\", \"label\"])\n",
    "\n",
    "for i, path in enumerate(path_list):\n",
    "    if path.split(\"\\\\\")[1] == \"N\":\n",
    "        label_df.loc[i] = {\"source_index\" : i, \"label\" : 0}\n",
    "    else:\n",
    "        label_df.loc[i] = {\"source_index\" : i, \"label\" : 1}\n",
    "\n",
    "for i, path in enumerate(add_path_list):\n",
    "    label_df.loc[len(label_df)] = {\"source_index\" : label_df.index[-1] + 1, \"label\": 0}\n",
    "\n",
    "label_df.to_csv(\"Label.csv\", index = False)"
   ]
  },
  {
   "cell_type": "code",
   "execution_count": 6,
   "id": "64f9daf8",
   "metadata": {},
   "outputs": [
    {
     "data": {
      "text/plain": [
       "3272"
      ]
     },
     "execution_count": 6,
     "metadata": {},
     "output_type": "execute_result"
    }
   ],
   "source": [
    "import re\n",
    "\n",
    "folder_path = './new_10fps_Dataset'  # 예: './data'\n",
    "csv_files = sorted(\n",
    "    [os.path.join(folder_path, f) for f in os.listdir(folder_path) if f.endswith('.csv')],\n",
    "    key=lambda x: int(re.search(r'\\d+', os.path.basename(x)).group())\n",
    ")\n",
    "len(csv_files)"
   ]
  },
  {
   "cell_type": "code",
   "execution_count": 7,
   "id": "e63ceb0f",
   "metadata": {},
   "outputs": [
    {
     "data": {
      "text/plain": [
       "3272"
      ]
     },
     "execution_count": 7,
     "metadata": {},
     "output_type": "execute_result"
    }
   ],
   "source": [
    "len(pd.read_csv(\"Label.csv\"))"
   ]
  },
  {
   "cell_type": "code",
   "execution_count": null,
   "id": "fb7a1ab6",
   "metadata": {},
   "outputs": [],
   "source": []
  }
 ],
 "metadata": {
  "kernelspec": {
   "display_name": "Project_38",
   "language": "python",
   "name": "python3"
  },
  "language_info": {
   "codemirror_mode": {
    "name": "ipython",
    "version": 3
   },
   "file_extension": ".py",
   "mimetype": "text/x-python",
   "name": "python",
   "nbconvert_exporter": "python",
   "pygments_lexer": "ipython3",
   "version": "3.8.20"
  }
 },
 "nbformat": 4,
 "nbformat_minor": 5
}
