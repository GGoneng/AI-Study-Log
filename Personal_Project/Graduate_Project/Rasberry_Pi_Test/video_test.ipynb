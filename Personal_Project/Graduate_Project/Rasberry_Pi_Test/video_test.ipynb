{
 "cells": [
  {
   "cell_type": "code",
   "execution_count": 17,
   "id": "922099b3",
   "metadata": {},
   "outputs": [],
   "source": [
    "import torch\n",
    "import cv2\n",
    "import mediapipe as mp\n",
    "import time\n",
    "import pandas as pd\n",
    "import numpy as np\n",
    "from collections import deque\n",
    "import winsound"
   ]
  },
  {
   "cell_type": "code",
   "execution_count": 15,
   "id": "50df40d6",
   "metadata": {},
   "outputs": [
    {
     "name": "stdout",
     "output_type": "stream",
     "text": [
      "RecursiveScriptModule(\n",
      "  original_name=FallDetectModel\n",
      "  (model): RecursiveScriptModule(original_name=LSTM)\n",
      "  (output): RecursiveScriptModule(original_name=Linear)\n",
      ")\n",
      "RecursiveScriptModule(original_name=LSTM)\n",
      "def forward(self,\n",
      "    inputs: Tensor) -> Tensor:\n",
      "  output = self.output\n",
      "  model = self.model\n",
      "  _0 = torch.slice((model).forward(inputs, ), 0, 0, 9223372036854775807)\n",
      "  input = torch.slice(torch.select(_0, 1, -1), 1, 0, 9223372036854775807)\n",
      "  return (output).forward(input, )\n",
      "\n"
     ]
    }
   ],
   "source": [
    "fall_detect_model = torch.jit.load(\"../Final_model/model_script.pt\")\n",
    "\n",
    "print(fall_detect_model)\n",
    "print(fall_detect_model.model)\n",
    "print(fall_detect_model.code)"
   ]
  },
  {
   "cell_type": "code",
   "execution_count": null,
   "id": "d541efef",
   "metadata": {},
   "outputs": [
    {
     "name": "stderr",
     "output_type": "stream",
     "text": [
      "C:\\Users\\이민하\\AppData\\Local\\Temp\\ipykernel_16300\\4207078778.py:83: DeprecationWarning: DataFrameGroupBy.apply operated on the grouping columns. This behavior is deprecated, and in a future version of pandas the grouping columns will be excluded from the operation. Either pass `include_groups=False` to exclude the groupings or explicitly select the grouping columns after groupby to silence this warning.\n",
      "  test_df2 = test_df2.groupby(\"landmark_id\").apply(lambda x : x.sort_values(by = [\"frame\", \"landmark_id\"]).interpolate().ffill().bfill()).reset_index(drop = True)\n"
     ]
    },
    {
     "name": "stdout",
     "output_type": "stream",
     "text": [
      "tensor([[0]], dtype=torch.int32)\n"
     ]
    },
    {
     "name": "stderr",
     "output_type": "stream",
     "text": [
      "C:\\Users\\이민하\\AppData\\Local\\Temp\\ipykernel_16300\\4207078778.py:83: DeprecationWarning: DataFrameGroupBy.apply operated on the grouping columns. This behavior is deprecated, and in a future version of pandas the grouping columns will be excluded from the operation. Either pass `include_groups=False` to exclude the groupings or explicitly select the grouping columns after groupby to silence this warning.\n",
      "  test_df2 = test_df2.groupby(\"landmark_id\").apply(lambda x : x.sort_values(by = [\"frame\", \"landmark_id\"]).interpolate().ffill().bfill()).reset_index(drop = True)\n"
     ]
    },
    {
     "name": "stdout",
     "output_type": "stream",
     "text": [
      "tensor([[0]], dtype=torch.int32)\n"
     ]
    },
    {
     "name": "stderr",
     "output_type": "stream",
     "text": [
      "C:\\Users\\이민하\\AppData\\Local\\Temp\\ipykernel_16300\\4207078778.py:83: DeprecationWarning: DataFrameGroupBy.apply operated on the grouping columns. This behavior is deprecated, and in a future version of pandas the grouping columns will be excluded from the operation. Either pass `include_groups=False` to exclude the groupings or explicitly select the grouping columns after groupby to silence this warning.\n",
      "  test_df2 = test_df2.groupby(\"landmark_id\").apply(lambda x : x.sort_values(by = [\"frame\", \"landmark_id\"]).interpolate().ffill().bfill()).reset_index(drop = True)\n"
     ]
    },
    {
     "name": "stdout",
     "output_type": "stream",
     "text": [
      "tensor([[0]], dtype=torch.int32)\n"
     ]
    },
    {
     "name": "stderr",
     "output_type": "stream",
     "text": [
      "C:\\Users\\이민하\\AppData\\Local\\Temp\\ipykernel_16300\\4207078778.py:83: DeprecationWarning: DataFrameGroupBy.apply operated on the grouping columns. This behavior is deprecated, and in a future version of pandas the grouping columns will be excluded from the operation. Either pass `include_groups=False` to exclude the groupings or explicitly select the grouping columns after groupby to silence this warning.\n",
      "  test_df2 = test_df2.groupby(\"landmark_id\").apply(lambda x : x.sort_values(by = [\"frame\", \"landmark_id\"]).interpolate().ffill().bfill()).reset_index(drop = True)\n"
     ]
    },
    {
     "name": "stdout",
     "output_type": "stream",
     "text": [
      "tensor([[0]], dtype=torch.int32)\n"
     ]
    },
    {
     "name": "stderr",
     "output_type": "stream",
     "text": [
      "C:\\Users\\이민하\\AppData\\Local\\Temp\\ipykernel_16300\\4207078778.py:83: DeprecationWarning: DataFrameGroupBy.apply operated on the grouping columns. This behavior is deprecated, and in a future version of pandas the grouping columns will be excluded from the operation. Either pass `include_groups=False` to exclude the groupings or explicitly select the grouping columns after groupby to silence this warning.\n",
      "  test_df2 = test_df2.groupby(\"landmark_id\").apply(lambda x : x.sort_values(by = [\"frame\", \"landmark_id\"]).interpolate().ffill().bfill()).reset_index(drop = True)\n"
     ]
    },
    {
     "name": "stdout",
     "output_type": "stream",
     "text": [
      "tensor([[1]], dtype=torch.int32)\n"
     ]
    },
    {
     "name": "stderr",
     "output_type": "stream",
     "text": [
      "C:\\Users\\이민하\\AppData\\Local\\Temp\\ipykernel_16300\\4207078778.py:83: DeprecationWarning: DataFrameGroupBy.apply operated on the grouping columns. This behavior is deprecated, and in a future version of pandas the grouping columns will be excluded from the operation. Either pass `include_groups=False` to exclude the groupings or explicitly select the grouping columns after groupby to silence this warning.\n",
      "  test_df2 = test_df2.groupby(\"landmark_id\").apply(lambda x : x.sort_values(by = [\"frame\", \"landmark_id\"]).interpolate().ffill().bfill()).reset_index(drop = True)\n"
     ]
    },
    {
     "name": "stdout",
     "output_type": "stream",
     "text": [
      "tensor([[1]], dtype=torch.int32)\n"
     ]
    },
    {
     "name": "stderr",
     "output_type": "stream",
     "text": [
      "C:\\Users\\이민하\\AppData\\Local\\Temp\\ipykernel_16300\\4207078778.py:83: DeprecationWarning: DataFrameGroupBy.apply operated on the grouping columns. This behavior is deprecated, and in a future version of pandas the grouping columns will be excluded from the operation. Either pass `include_groups=False` to exclude the groupings or explicitly select the grouping columns after groupby to silence this warning.\n",
      "  test_df2 = test_df2.groupby(\"landmark_id\").apply(lambda x : x.sort_values(by = [\"frame\", \"landmark_id\"]).interpolate().ffill().bfill()).reset_index(drop = True)\n"
     ]
    },
    {
     "name": "stdout",
     "output_type": "stream",
     "text": [
      "tensor([[0]], dtype=torch.int32)\n"
     ]
    },
    {
     "name": "stderr",
     "output_type": "stream",
     "text": [
      "C:\\Users\\이민하\\AppData\\Local\\Temp\\ipykernel_16300\\4207078778.py:83: DeprecationWarning: DataFrameGroupBy.apply operated on the grouping columns. This behavior is deprecated, and in a future version of pandas the grouping columns will be excluded from the operation. Either pass `include_groups=False` to exclude the groupings or explicitly select the grouping columns after groupby to silence this warning.\n",
      "  test_df2 = test_df2.groupby(\"landmark_id\").apply(lambda x : x.sort_values(by = [\"frame\", \"landmark_id\"]).interpolate().ffill().bfill()).reset_index(drop = True)\n"
     ]
    },
    {
     "name": "stdout",
     "output_type": "stream",
     "text": [
      "tensor([[0]], dtype=torch.int32)\n"
     ]
    },
    {
     "name": "stderr",
     "output_type": "stream",
     "text": [
      "C:\\Users\\이민하\\AppData\\Local\\Temp\\ipykernel_16300\\4207078778.py:83: DeprecationWarning: DataFrameGroupBy.apply operated on the grouping columns. This behavior is deprecated, and in a future version of pandas the grouping columns will be excluded from the operation. Either pass `include_groups=False` to exclude the groupings or explicitly select the grouping columns after groupby to silence this warning.\n",
      "  test_df2 = test_df2.groupby(\"landmark_id\").apply(lambda x : x.sort_values(by = [\"frame\", \"landmark_id\"]).interpolate().ffill().bfill()).reset_index(drop = True)\n"
     ]
    },
    {
     "name": "stdout",
     "output_type": "stream",
     "text": [
      "tensor([[0]], dtype=torch.int32)\n"
     ]
    },
    {
     "name": "stderr",
     "output_type": "stream",
     "text": [
      "C:\\Users\\이민하\\AppData\\Local\\Temp\\ipykernel_16300\\4207078778.py:83: DeprecationWarning: DataFrameGroupBy.apply operated on the grouping columns. This behavior is deprecated, and in a future version of pandas the grouping columns will be excluded from the operation. Either pass `include_groups=False` to exclude the groupings or explicitly select the grouping columns after groupby to silence this warning.\n",
      "  test_df2 = test_df2.groupby(\"landmark_id\").apply(lambda x : x.sort_values(by = [\"frame\", \"landmark_id\"]).interpolate().ffill().bfill()).reset_index(drop = True)\n"
     ]
    },
    {
     "name": "stdout",
     "output_type": "stream",
     "text": [
      "tensor([[1]], dtype=torch.int32)\n"
     ]
    },
    {
     "name": "stderr",
     "output_type": "stream",
     "text": [
      "C:\\Users\\이민하\\AppData\\Local\\Temp\\ipykernel_16300\\4207078778.py:83: DeprecationWarning: DataFrameGroupBy.apply operated on the grouping columns. This behavior is deprecated, and in a future version of pandas the grouping columns will be excluded from the operation. Either pass `include_groups=False` to exclude the groupings or explicitly select the grouping columns after groupby to silence this warning.\n",
      "  test_df2 = test_df2.groupby(\"landmark_id\").apply(lambda x : x.sort_values(by = [\"frame\", \"landmark_id\"]).interpolate().ffill().bfill()).reset_index(drop = True)\n"
     ]
    },
    {
     "name": "stdout",
     "output_type": "stream",
     "text": [
      "tensor([[1]], dtype=torch.int32)\n"
     ]
    },
    {
     "name": "stderr",
     "output_type": "stream",
     "text": [
      "C:\\Users\\이민하\\AppData\\Local\\Temp\\ipykernel_16300\\4207078778.py:83: DeprecationWarning: DataFrameGroupBy.apply operated on the grouping columns. This behavior is deprecated, and in a future version of pandas the grouping columns will be excluded from the operation. Either pass `include_groups=False` to exclude the groupings or explicitly select the grouping columns after groupby to silence this warning.\n",
      "  test_df2 = test_df2.groupby(\"landmark_id\").apply(lambda x : x.sort_values(by = [\"frame\", \"landmark_id\"]).interpolate().ffill().bfill()).reset_index(drop = True)\n"
     ]
    },
    {
     "name": "stdout",
     "output_type": "stream",
     "text": [
      "tensor([[1]], dtype=torch.int32)\n"
     ]
    },
    {
     "name": "stderr",
     "output_type": "stream",
     "text": [
      "C:\\Users\\이민하\\AppData\\Local\\Temp\\ipykernel_16300\\4207078778.py:83: DeprecationWarning: DataFrameGroupBy.apply operated on the grouping columns. This behavior is deprecated, and in a future version of pandas the grouping columns will be excluded from the operation. Either pass `include_groups=False` to exclude the groupings or explicitly select the grouping columns after groupby to silence this warning.\n",
      "  test_df2 = test_df2.groupby(\"landmark_id\").apply(lambda x : x.sort_values(by = [\"frame\", \"landmark_id\"]).interpolate().ffill().bfill()).reset_index(drop = True)\n"
     ]
    },
    {
     "name": "stdout",
     "output_type": "stream",
     "text": [
      "tensor([[1]], dtype=torch.int32)\n"
     ]
    },
    {
     "name": "stderr",
     "output_type": "stream",
     "text": [
      "C:\\Users\\이민하\\AppData\\Local\\Temp\\ipykernel_16300\\4207078778.py:83: DeprecationWarning: DataFrameGroupBy.apply operated on the grouping columns. This behavior is deprecated, and in a future version of pandas the grouping columns will be excluded from the operation. Either pass `include_groups=False` to exclude the groupings or explicitly select the grouping columns after groupby to silence this warning.\n",
      "  test_df2 = test_df2.groupby(\"landmark_id\").apply(lambda x : x.sort_values(by = [\"frame\", \"landmark_id\"]).interpolate().ffill().bfill()).reset_index(drop = True)\n"
     ]
    },
    {
     "name": "stdout",
     "output_type": "stream",
     "text": [
      "tensor([[0]], dtype=torch.int32)\n"
     ]
    },
    {
     "name": "stderr",
     "output_type": "stream",
     "text": [
      "C:\\Users\\이민하\\AppData\\Local\\Temp\\ipykernel_16300\\4207078778.py:83: DeprecationWarning: DataFrameGroupBy.apply operated on the grouping columns. This behavior is deprecated, and in a future version of pandas the grouping columns will be excluded from the operation. Either pass `include_groups=False` to exclude the groupings or explicitly select the grouping columns after groupby to silence this warning.\n",
      "  test_df2 = test_df2.groupby(\"landmark_id\").apply(lambda x : x.sort_values(by = [\"frame\", \"landmark_id\"]).interpolate().ffill().bfill()).reset_index(drop = True)\n"
     ]
    },
    {
     "name": "stdout",
     "output_type": "stream",
     "text": [
      "tensor([[0]], dtype=torch.int32)\n"
     ]
    },
    {
     "name": "stderr",
     "output_type": "stream",
     "text": [
      "C:\\Users\\이민하\\AppData\\Local\\Temp\\ipykernel_16300\\4207078778.py:83: DeprecationWarning: DataFrameGroupBy.apply operated on the grouping columns. This behavior is deprecated, and in a future version of pandas the grouping columns will be excluded from the operation. Either pass `include_groups=False` to exclude the groupings or explicitly select the grouping columns after groupby to silence this warning.\n",
      "  test_df2 = test_df2.groupby(\"landmark_id\").apply(lambda x : x.sort_values(by = [\"frame\", \"landmark_id\"]).interpolate().ffill().bfill()).reset_index(drop = True)\n"
     ]
    },
    {
     "name": "stdout",
     "output_type": "stream",
     "text": [
      "tensor([[1]], dtype=torch.int32)\n"
     ]
    },
    {
     "name": "stderr",
     "output_type": "stream",
     "text": [
      "C:\\Users\\이민하\\AppData\\Local\\Temp\\ipykernel_16300\\4207078778.py:83: DeprecationWarning: DataFrameGroupBy.apply operated on the grouping columns. This behavior is deprecated, and in a future version of pandas the grouping columns will be excluded from the operation. Either pass `include_groups=False` to exclude the groupings or explicitly select the grouping columns after groupby to silence this warning.\n",
      "  test_df2 = test_df2.groupby(\"landmark_id\").apply(lambda x : x.sort_values(by = [\"frame\", \"landmark_id\"]).interpolate().ffill().bfill()).reset_index(drop = True)\n"
     ]
    },
    {
     "name": "stdout",
     "output_type": "stream",
     "text": [
      "tensor([[1]], dtype=torch.int32)\n"
     ]
    },
    {
     "name": "stderr",
     "output_type": "stream",
     "text": [
      "C:\\Users\\이민하\\AppData\\Local\\Temp\\ipykernel_16300\\4207078778.py:83: DeprecationWarning: DataFrameGroupBy.apply operated on the grouping columns. This behavior is deprecated, and in a future version of pandas the grouping columns will be excluded from the operation. Either pass `include_groups=False` to exclude the groupings or explicitly select the grouping columns after groupby to silence this warning.\n",
      "  test_df2 = test_df2.groupby(\"landmark_id\").apply(lambda x : x.sort_values(by = [\"frame\", \"landmark_id\"]).interpolate().ffill().bfill()).reset_index(drop = True)\n"
     ]
    },
    {
     "name": "stdout",
     "output_type": "stream",
     "text": [
      "tensor([[1]], dtype=torch.int32)\n"
     ]
    },
    {
     "name": "stderr",
     "output_type": "stream",
     "text": [
      "C:\\Users\\이민하\\AppData\\Local\\Temp\\ipykernel_16300\\4207078778.py:83: DeprecationWarning: DataFrameGroupBy.apply operated on the grouping columns. This behavior is deprecated, and in a future version of pandas the grouping columns will be excluded from the operation. Either pass `include_groups=False` to exclude the groupings or explicitly select the grouping columns after groupby to silence this warning.\n",
      "  test_df2 = test_df2.groupby(\"landmark_id\").apply(lambda x : x.sort_values(by = [\"frame\", \"landmark_id\"]).interpolate().ffill().bfill()).reset_index(drop = True)\n"
     ]
    },
    {
     "name": "stdout",
     "output_type": "stream",
     "text": [
      "tensor([[1]], dtype=torch.int32)\n"
     ]
    },
    {
     "name": "stderr",
     "output_type": "stream",
     "text": [
      "C:\\Users\\이민하\\AppData\\Local\\Temp\\ipykernel_16300\\4207078778.py:83: DeprecationWarning: DataFrameGroupBy.apply operated on the grouping columns. This behavior is deprecated, and in a future version of pandas the grouping columns will be excluded from the operation. Either pass `include_groups=False` to exclude the groupings or explicitly select the grouping columns after groupby to silence this warning.\n",
      "  test_df2 = test_df2.groupby(\"landmark_id\").apply(lambda x : x.sort_values(by = [\"frame\", \"landmark_id\"]).interpolate().ffill().bfill()).reset_index(drop = True)\n"
     ]
    },
    {
     "name": "stdout",
     "output_type": "stream",
     "text": [
      "tensor([[0]], dtype=torch.int32)\n"
     ]
    },
    {
     "name": "stderr",
     "output_type": "stream",
     "text": [
      "C:\\Users\\이민하\\AppData\\Local\\Temp\\ipykernel_16300\\4207078778.py:83: DeprecationWarning: DataFrameGroupBy.apply operated on the grouping columns. This behavior is deprecated, and in a future version of pandas the grouping columns will be excluded from the operation. Either pass `include_groups=False` to exclude the groupings or explicitly select the grouping columns after groupby to silence this warning.\n",
      "  test_df2 = test_df2.groupby(\"landmark_id\").apply(lambda x : x.sort_values(by = [\"frame\", \"landmark_id\"]).interpolate().ffill().bfill()).reset_index(drop = True)\n"
     ]
    },
    {
     "name": "stdout",
     "output_type": "stream",
     "text": [
      "tensor([[0]], dtype=torch.int32)\n"
     ]
    },
    {
     "name": "stderr",
     "output_type": "stream",
     "text": [
      "C:\\Users\\이민하\\AppData\\Local\\Temp\\ipykernel_16300\\4207078778.py:83: DeprecationWarning: DataFrameGroupBy.apply operated on the grouping columns. This behavior is deprecated, and in a future version of pandas the grouping columns will be excluded from the operation. Either pass `include_groups=False` to exclude the groupings or explicitly select the grouping columns after groupby to silence this warning.\n",
      "  test_df2 = test_df2.groupby(\"landmark_id\").apply(lambda x : x.sort_values(by = [\"frame\", \"landmark_id\"]).interpolate().ffill().bfill()).reset_index(drop = True)\n"
     ]
    },
    {
     "name": "stdout",
     "output_type": "stream",
     "text": [
      "tensor([[0]], dtype=torch.int32)\n"
     ]
    },
    {
     "name": "stderr",
     "output_type": "stream",
     "text": [
      "C:\\Users\\이민하\\AppData\\Local\\Temp\\ipykernel_16300\\4207078778.py:83: DeprecationWarning: DataFrameGroupBy.apply operated on the grouping columns. This behavior is deprecated, and in a future version of pandas the grouping columns will be excluded from the operation. Either pass `include_groups=False` to exclude the groupings or explicitly select the grouping columns after groupby to silence this warning.\n",
      "  test_df2 = test_df2.groupby(\"landmark_id\").apply(lambda x : x.sort_values(by = [\"frame\", \"landmark_id\"]).interpolate().ffill().bfill()).reset_index(drop = True)\n"
     ]
    },
    {
     "name": "stdout",
     "output_type": "stream",
     "text": [
      "tensor([[0]], dtype=torch.int32)\n"
     ]
    },
    {
     "name": "stderr",
     "output_type": "stream",
     "text": [
      "C:\\Users\\이민하\\AppData\\Local\\Temp\\ipykernel_16300\\4207078778.py:83: DeprecationWarning: DataFrameGroupBy.apply operated on the grouping columns. This behavior is deprecated, and in a future version of pandas the grouping columns will be excluded from the operation. Either pass `include_groups=False` to exclude the groupings or explicitly select the grouping columns after groupby to silence this warning.\n",
      "  test_df2 = test_df2.groupby(\"landmark_id\").apply(lambda x : x.sort_values(by = [\"frame\", \"landmark_id\"]).interpolate().ffill().bfill()).reset_index(drop = True)\n"
     ]
    },
    {
     "name": "stdout",
     "output_type": "stream",
     "text": [
      "tensor([[1]], dtype=torch.int32)\n"
     ]
    },
    {
     "name": "stderr",
     "output_type": "stream",
     "text": [
      "C:\\Users\\이민하\\AppData\\Local\\Temp\\ipykernel_16300\\4207078778.py:83: DeprecationWarning: DataFrameGroupBy.apply operated on the grouping columns. This behavior is deprecated, and in a future version of pandas the grouping columns will be excluded from the operation. Either pass `include_groups=False` to exclude the groupings or explicitly select the grouping columns after groupby to silence this warning.\n",
      "  test_df2 = test_df2.groupby(\"landmark_id\").apply(lambda x : x.sort_values(by = [\"frame\", \"landmark_id\"]).interpolate().ffill().bfill()).reset_index(drop = True)\n"
     ]
    },
    {
     "name": "stdout",
     "output_type": "stream",
     "text": [
      "tensor([[1]], dtype=torch.int32)\n"
     ]
    },
    {
     "name": "stderr",
     "output_type": "stream",
     "text": [
      "C:\\Users\\이민하\\AppData\\Local\\Temp\\ipykernel_16300\\4207078778.py:83: DeprecationWarning: DataFrameGroupBy.apply operated on the grouping columns. This behavior is deprecated, and in a future version of pandas the grouping columns will be excluded from the operation. Either pass `include_groups=False` to exclude the groupings or explicitly select the grouping columns after groupby to silence this warning.\n",
      "  test_df2 = test_df2.groupby(\"landmark_id\").apply(lambda x : x.sort_values(by = [\"frame\", \"landmark_id\"]).interpolate().ffill().bfill()).reset_index(drop = True)\n"
     ]
    },
    {
     "name": "stdout",
     "output_type": "stream",
     "text": [
      "tensor([[1]], dtype=torch.int32)\n"
     ]
    },
    {
     "name": "stderr",
     "output_type": "stream",
     "text": [
      "C:\\Users\\이민하\\AppData\\Local\\Temp\\ipykernel_16300\\4207078778.py:83: DeprecationWarning: DataFrameGroupBy.apply operated on the grouping columns. This behavior is deprecated, and in a future version of pandas the grouping columns will be excluded from the operation. Either pass `include_groups=False` to exclude the groupings or explicitly select the grouping columns after groupby to silence this warning.\n",
      "  test_df2 = test_df2.groupby(\"landmark_id\").apply(lambda x : x.sort_values(by = [\"frame\", \"landmark_id\"]).interpolate().ffill().bfill()).reset_index(drop = True)\n"
     ]
    },
    {
     "name": "stdout",
     "output_type": "stream",
     "text": [
      "tensor([[1]], dtype=torch.int32)\n"
     ]
    },
    {
     "name": "stderr",
     "output_type": "stream",
     "text": [
      "C:\\Users\\이민하\\AppData\\Local\\Temp\\ipykernel_16300\\4207078778.py:83: DeprecationWarning: DataFrameGroupBy.apply operated on the grouping columns. This behavior is deprecated, and in a future version of pandas the grouping columns will be excluded from the operation. Either pass `include_groups=False` to exclude the groupings or explicitly select the grouping columns after groupby to silence this warning.\n",
      "  test_df2 = test_df2.groupby(\"landmark_id\").apply(lambda x : x.sort_values(by = [\"frame\", \"landmark_id\"]).interpolate().ffill().bfill()).reset_index(drop = True)\n"
     ]
    },
    {
     "name": "stdout",
     "output_type": "stream",
     "text": [
      "tensor([[1]], dtype=torch.int32)\n"
     ]
    },
    {
     "name": "stderr",
     "output_type": "stream",
     "text": [
      "C:\\Users\\이민하\\AppData\\Local\\Temp\\ipykernel_16300\\4207078778.py:83: DeprecationWarning: DataFrameGroupBy.apply operated on the grouping columns. This behavior is deprecated, and in a future version of pandas the grouping columns will be excluded from the operation. Either pass `include_groups=False` to exclude the groupings or explicitly select the grouping columns after groupby to silence this warning.\n",
      "  test_df2 = test_df2.groupby(\"landmark_id\").apply(lambda x : x.sort_values(by = [\"frame\", \"landmark_id\"]).interpolate().ffill().bfill()).reset_index(drop = True)\n"
     ]
    },
    {
     "name": "stdout",
     "output_type": "stream",
     "text": [
      "tensor([[0]], dtype=torch.int32)\n"
     ]
    },
    {
     "name": "stderr",
     "output_type": "stream",
     "text": [
      "C:\\Users\\이민하\\AppData\\Local\\Temp\\ipykernel_16300\\4207078778.py:83: DeprecationWarning: DataFrameGroupBy.apply operated on the grouping columns. This behavior is deprecated, and in a future version of pandas the grouping columns will be excluded from the operation. Either pass `include_groups=False` to exclude the groupings or explicitly select the grouping columns after groupby to silence this warning.\n",
      "  test_df2 = test_df2.groupby(\"landmark_id\").apply(lambda x : x.sort_values(by = [\"frame\", \"landmark_id\"]).interpolate().ffill().bfill()).reset_index(drop = True)\n"
     ]
    },
    {
     "name": "stdout",
     "output_type": "stream",
     "text": [
      "tensor([[0]], dtype=torch.int32)\n"
     ]
    }
   ],
   "source": [
    "MAX_FRAMES_LEN = 300\n",
    "MAX_FRAMES_NUM = 298\n",
    "\n",
    "# MediaPipe Pose 초기화\n",
    "mp_pose = mp.solutions.pose\n",
    "pose = mp_pose.Pose(\n",
    "    static_image_mode=False,\n",
    "    model_complexity=0,\n",
    "    min_detection_confidence=0.7,\n",
    "    min_tracking_confidence=0.7,\n",
    "    smooth_landmarks=True\n",
    ")\n",
    "mp_drawing = mp.solutions.drawing_utils\n",
    "\n",
    "# 중요 관절 인덱스\n",
    "important_landmarks = [\n",
    "    0, 11, 12, 13, 14, 15, 16,\n",
    "    23, 24, 25, 26, 29, 30\n",
    "]\n",
    "\n",
    "window = deque(maxlen = ((MAX_FRAMES_LEN // 3) * len(important_landmarks)))\n",
    "\n",
    "test_df = pd.DataFrame(columns = [\"frame\", \"landmark_id\", \"x\", \"y\", \"z\"])\n",
    "\n",
    "for frame in np.arange(1, 301):\n",
    "    for landmark in important_landmarks:\n",
    "        test_df.loc[len(test_df)] = [frame, landmark, np.nan, np.nan, np.nan]\n",
    "\n",
    "# 웹캠에서 영상 받기\n",
    "cap = cv2.VideoCapture(0)  # 기본 카메라 사용\n",
    "\n",
    "frame_count = 0\n",
    "processed_frame = 1\n",
    "start_time = time.time()\n",
    "predict_time = start_time\n",
    "\n",
    "while cap.isOpened():\n",
    "    ret, frame = cap.read()\n",
    "    if not ret:\n",
    "        break\n",
    "    \n",
    "    current_time = time.time()  \n",
    "    elapsed = current_time - start_time\n",
    "    predict_elapsed = current_time - predict_time\n",
    "\n",
    "    if elapsed >= 0.1:\n",
    "        start_time = current_time\n",
    "        # MediaPipe에 넣기 위해 RGB로 변환\n",
    "        frame = cv2.resize(frame, (480, 360))\n",
    "        image_rgb = cv2.cvtColor(frame, cv2.COLOR_BGR2RGB)\n",
    "        results = pose.process(image_rgb)\n",
    "\n",
    "        # 관절 데이터 추출 및 표시\n",
    "        if results.pose_landmarks:\n",
    "            for idx in important_landmarks:\n",
    "                landmark = results.pose_landmarks.landmark[idx]\n",
    "                x, y = int(landmark.x * frame.shape[1]), int(landmark.y * frame.shape[0])\n",
    "                cv2.circle(frame, (x, y), 5, (0, 255, 0), -1)\n",
    "\n",
    "        if results.pose_landmarks:\n",
    "            for idx in important_landmarks:\n",
    "                landmark = results.pose_landmarks.landmark[idx]\n",
    "                window.append((landmark.x, landmark.y, landmark.z))\n",
    "\n",
    "        cv2.imshow('Real-Time Pose Landmarks', frame)\n",
    "\n",
    "        # Q 누르면 종료\n",
    "        if cv2.waitKey(1) & 0xFF == ord('q'):\n",
    "            break\n",
    "    \n",
    "    if predict_elapsed >= 5:\n",
    "        test_df2 = test_df.copy(deep = True)\n",
    "\n",
    "        j = 1\n",
    "\n",
    "        for i in range(len(window)):\n",
    "            test_df2.loc[j - 1, ['x', 'y', 'z']] = [window[i][0], window[i][1], window[i][2]]\n",
    "            j += 1\n",
    "\n",
    "            if j % 13 == 1:\n",
    "                j += 26\n",
    "\n",
    "        test_df2 = test_df2.groupby(\"landmark_id\").apply(lambda x : x.sort_values(by = [\"frame\", \"landmark_id\"]).interpolate().ffill().bfill()).reset_index(drop = True)\n",
    "        test_df2 = test_df2.sort_values(by = [\"frame\", \"landmark_id\"]).reset_index(drop = True)\n",
    "\n",
    "        # frame 오름차순, source_index 우선 정렬\n",
    "        test_df2 = test_df2.sort_values(by=[\"frame\"])\n",
    "\n",
    "        # 피벗: (frame, source_index) 기준, landmark_id 별 x/y/z를 칼럼으로\n",
    "        df_pivot = test_df2.pivot(index=[\"frame\"], columns=\"landmark_id\", values=[\"x\", \"y\", \"z\"])\n",
    "\n",
    "        # 다중 인덱스 컬럼을 단일 열로 변환: ex) ('x', 11.0) -> x_11\n",
    "        df_pivot.columns = [f\"{coord}_{int(lid)}\" for coord, lid in df_pivot.columns]\n",
    "\n",
    "        # 인덱스 복구\n",
    "        df_pivot.reset_index(inplace=True)\n",
    "                            \n",
    "        # 다시 source_index 기준으로 묶고, 그 안에서 frame 오름차순 정렬 (보장용)\n",
    "        df_pivot = df_pivot.sort_values(by=[\"frame\"]).reset_index(drop=True)\n",
    "        \n",
    "        X_tensor = torch.tensor(df_pivot.values, dtype = torch.float32)\n",
    "        X_tensor = X_tensor.unsqueeze(0)\n",
    "\n",
    "        output = torch.sigmoid(fall_detect_model(X_tensor))\n",
    "        output = (output > 0.5).int()\n",
    "        \n",
    "        if output == 1:\n",
    "            winsound.Beep(440, 1000)\n",
    "        print(output)\n",
    "\n",
    "        predict_time = current_time\n",
    "\n",
    "\n",
    "cap.release()\n",
    "cv2.destroyAllWindows()"
   ]
  },
  {
   "cell_type": "code",
   "execution_count": null,
   "id": "4bd00a55",
   "metadata": {},
   "outputs": [],
   "source": []
  }
 ],
 "metadata": {
  "kernelspec": {
   "display_name": "Graduate_Project_39",
   "language": "python",
   "name": "python3"
  },
  "language_info": {
   "codemirror_mode": {
    "name": "ipython",
    "version": 3
   },
   "file_extension": ".py",
   "mimetype": "text/x-python",
   "name": "python",
   "nbconvert_exporter": "python",
   "pygments_lexer": "ipython3",
   "version": "3.9.21"
  }
 },
 "nbformat": 4,
 "nbformat_minor": 5
}
